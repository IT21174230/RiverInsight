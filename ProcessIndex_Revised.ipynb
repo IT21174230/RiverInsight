{
  "nbformat": 4,
  "nbformat_minor": 0,
  "metadata": {
    "colab": {
      "provenance": [],
      "collapsed_sections": [
        "viBuH6S8Az2U",
        "s87YE52QA7gO"
      ]
    },
    "kernelspec": {
      "name": "python3",
      "display_name": "Python 3"
    },
    "language_info": {
      "name": "python"
    }
  },
  "cells": [
    {
      "cell_type": "markdown",
      "source": [
        "Libraries"
      ],
      "metadata": {
        "id": "zWPlAwsiBOPH"
      }
    },
    {
      "cell_type": "code",
      "source": [
        "pip install rasterio\n",
        "import rasterio"
      ],
      "metadata": {
        "id": "ugGR6a0qtht1",
        "colab": {
          "base_uri": "https://localhost:8080/"
        },
        "outputId": "0930e2e8-b304-43cb-d955-9bb7361ff075"
      },
      "execution_count": null,
      "outputs": [
        {
          "output_type": "stream",
          "name": "stdout",
          "text": [
            "Collecting rasterio\n",
            "  Downloading rasterio-1.4.2-cp310-cp310-manylinux_2_17_x86_64.manylinux2014_x86_64.whl.metadata (9.1 kB)\n",
            "Collecting affine (from rasterio)\n",
            "  Downloading affine-2.4.0-py3-none-any.whl.metadata (4.0 kB)\n",
            "Requirement already satisfied: attrs in /usr/local/lib/python3.10/dist-packages (from rasterio) (24.2.0)\n",
            "Requirement already satisfied: certifi in /usr/local/lib/python3.10/dist-packages (from rasterio) (2024.8.30)\n",
            "Requirement already satisfied: click>=4.0 in /usr/local/lib/python3.10/dist-packages (from rasterio) (8.1.7)\n",
            "Collecting cligj>=0.5 (from rasterio)\n",
            "  Downloading cligj-0.7.2-py3-none-any.whl.metadata (5.0 kB)\n",
            "Requirement already satisfied: numpy>=1.24 in /usr/local/lib/python3.10/dist-packages (from rasterio) (1.26.4)\n",
            "Collecting click-plugins (from rasterio)\n",
            "  Downloading click_plugins-1.1.1-py2.py3-none-any.whl.metadata (6.4 kB)\n",
            "Requirement already satisfied: pyparsing in /usr/local/lib/python3.10/dist-packages (from rasterio) (3.2.0)\n",
            "Downloading rasterio-1.4.2-cp310-cp310-manylinux_2_17_x86_64.manylinux2014_x86_64.whl (22.2 MB)\n",
            "\u001b[2K   \u001b[90m━━━━━━━━━━━━━━━━━━━━━━━━━━━━━━━━━━━━━━━━\u001b[0m \u001b[32m22.2/22.2 MB\u001b[0m \u001b[31m69.0 MB/s\u001b[0m eta \u001b[36m0:00:00\u001b[0m\n",
            "\u001b[?25hDownloading cligj-0.7.2-py3-none-any.whl (7.1 kB)\n",
            "Downloading affine-2.4.0-py3-none-any.whl (15 kB)\n",
            "Downloading click_plugins-1.1.1-py2.py3-none-any.whl (7.5 kB)\n",
            "Installing collected packages: cligj, click-plugins, affine, rasterio\n",
            "Successfully installed affine-2.4.0 click-plugins-1.1.1 cligj-0.7.2 rasterio-1.4.2\n"
          ]
        }
      ]
    },
    {
      "cell_type": "code",
      "execution_count": null,
      "metadata": {
        "id": "MDxmF66jhPrO"
      },
      "outputs": [],
      "source": [
        "from PIL import Image\n",
        "from PIL import ImageOps\n",
        "import numpy as np\n",
        "import warnings\n",
        "from skimage.morphology import skeletonize\n",
        "from skimage.filters import median\n",
        "import matplotlib.pyplot as plt\n",
        "from skimage.util import img_as_ubyte\n",
        "from PIL import ImageFilter\n",
        "import os\n",
        "import cv2\n",
        "from collections import defaultdict\n",
        "import shutil\n",
        "from google.colab.patches import cv2_imshow"
      ]
    },
    {
      "cell_type": "code",
      "source": [
        "from google.colab import drive\n",
        "drive.mount('/content/drive')"
      ],
      "metadata": {
        "colab": {
          "base_uri": "https://localhost:8080/"
        },
        "id": "nUzbCxcVg7pA",
        "outputId": "e6f497c9-3f28-49f8-e183-19a828604143"
      },
      "execution_count": null,
      "outputs": [
        {
          "output_type": "stream",
          "name": "stdout",
          "text": [
            "Drive already mounted at /content/drive; to attempt to forcibly remount, call drive.mount(\"/content/drive\", force_remount=True).\n"
          ]
        }
      ]
    },
    {
      "cell_type": "markdown",
      "source": [
        "## MetaData Check"
      ],
      "metadata": {
        "id": "viBuH6S8Az2U"
      }
    },
    {
      "cell_type": "code",
      "source": [
        "with rasterio.open('/content/mndwi.tif') as dataset:\n",
        "    # Get the number of bands (layers)\n",
        "    num_bands = dataset.count\n",
        "    print(f'The number of layers (bands) in the GeoTIFF is: {num_bands}')"
      ],
      "metadata": {
        "colab": {
          "base_uri": "https://localhost:8080/"
        },
        "id": "P_NUinf2tr04",
        "outputId": "f8f67694-e3c9-433b-d3ae-26432aa00fcf"
      },
      "execution_count": null,
      "outputs": [
        {
          "output_type": "stream",
          "name": "stdout",
          "text": [
            "The number of layers (bands) in the GeoTIFF is: 1\n"
          ]
        }
      ]
    },
    {
      "cell_type": "code",
      "source": [
        "def check_for_warnings(img_array):\n",
        "    # Function to catch runtime warnings and identify problematic values\n",
        "    try:\n",
        "        with warnings.catch_warnings():\n",
        "            warnings.simplefilter(\"error\")  # Turn warnings into exceptions\n",
        "\n",
        "            # Example operation that could trigger a runtime warning\n",
        "            # (e.g., invalid comparison or division by zero)\n",
        "            for i in range(img_array.shape[0]):\n",
        "                for j in range(img_array.shape[1]):\n",
        "                    # An example operation where warnings may occur\n",
        "                    # We simulate a warning-causing operation: comparison of NaN, or other invalid float ops\n",
        "                    if img_array[i][j] > 0:\n",
        "                        pass  # Do something, e.g., inversion logic\n",
        "                    elif img_array[i][j] <= 0:\n",
        "                        pass  # Handle the non-positive case\n",
        "\n",
        "    except RuntimeWarning as e:\n",
        "        print(f\"RuntimeWarning occurred: {e}\")\n",
        "        # Trace problematic values in the array\n",
        "        for i in range(img_array.shape[0]):\n",
        "            for j in range(img_array.shape[1]):\n",
        "                if np.isnan(img_array[i][j]):\n",
        "                    print(f\"Found NaN at position: ({i}, {j})\")\n",
        "                elif np.isinf(img_array[i][j]):\n",
        "                    print(f\"Found infinity at position: ({i}, {j})\")\n",
        "                elif img_array[i][j] <= 0:\n",
        "                    print(f\"Found non-positive value {img_array[i][j]} at position: ({i}, {j})\")\n"
      ],
      "metadata": {
        "id": "Vwibt2YjpCPl"
      },
      "execution_count": null,
      "outputs": []
    },
    {
      "cell_type": "code",
      "source": [
        "with Image.open('/content/NDVI_1988_01_05.tif') as img:\n",
        "        img_array = np.array(img)\n",
        "        print(img_array.shape)\n",
        "        print(img_array.dtype)\n",
        "        check_for_warnings(img_array)"
      ],
      "metadata": {
        "id": "CXRlHQuVpGcA",
        "colab": {
          "base_uri": "https://localhost:8080/"
        },
        "outputId": "61a8b865-3f30-409c-8de2-46a5a004bb8c"
      },
      "execution_count": null,
      "outputs": [
        {
          "output_type": "stream",
          "name": "stdout",
          "text": [
            "(113, 302)\n",
            "float32\n"
          ]
        }
      ]
    },
    {
      "cell_type": "markdown",
      "source": [
        "# Convert GeoTiff to PNG"
      ],
      "metadata": {
        "id": "DVHMV9PaACNX"
      }
    },
    {
      "cell_type": "code",
      "source": [
        "def geotiff_to_grayscale_png(input_tiff_path, output_png_path):\n",
        "    # Open the GeoTIFF file\n",
        "    with rasterio.open(input_tiff_path) as dataset:\n",
        "        # Read the first band (or select another band if needed)\n",
        "        band1 = dataset.read(1)\n",
        "\n",
        "        # Normalize the data to the range 0-255 for PNG\n",
        "        band_min, band_max = band1.min(), band1.max()\n",
        "        print(f\"Band Min: {band_min}, Band Max: {band_max}\")\n",
        "\n",
        "        # Avoid division by zero by ensuring band_max != band_min\n",
        "        if band_max > band_min:\n",
        "            normalized_band = ((band1 - band_min) / (band_max - band_min)) * 255\n",
        "        else:\n",
        "            normalized_band = np.zeros_like(band1)  # Handle the case of a constant band\n",
        "\n",
        "        # Convert to uint8 type (0-255 range for grayscale)\n",
        "        normalized_band = normalized_band.astype(np.uint8)\n",
        "\n",
        "        # Create a grayscale image using PIL\n",
        "        img = Image.fromarray(normalized_band, mode='L')  # 'L' mode is for grayscale images\n",
        "\n",
        "        # Save the image as PNG\n",
        "        img.save(output_png_path)\n",
        "\n",
        "        print(f\"Grayscale PNG saved to {output_png_path}\")"
      ],
      "metadata": {
        "id": "e65IMEwhs1KL"
      },
      "execution_count": null,
      "outputs": []
    },
    {
      "cell_type": "code",
      "source": [
        "def geotiff_to_grayscale_png_landsat5(input_path, output_path):\n",
        "\n",
        "    with rasterio.open(input_path) as src:\n",
        "        try:\n",
        "          ndwi_data = src.read(1)\n",
        "\n",
        "          ndwi_data = np.nan_to_num(ndwi_data, nan=-1, posinf=-1, neginf=-1)\n",
        "\n",
        "          # Normalize the values to 0-255\n",
        "          ndwi_normalized = np.clip((ndwi_data + 1) * 127.5, 0, 255).astype(np.uint8)\n",
        "\n",
        "          # Save as PNG\n",
        "          Image.fromarray(ndwi_normalized).save(output_path)\n",
        "\n",
        "\n",
        "        except Exception as e:\n",
        "          print(f'could not convert {e}')"
      ],
      "metadata": {
        "id": "f8zwFFw1N4xM"
      },
      "execution_count": null,
      "outputs": []
    },
    {
      "cell_type": "code",
      "source": [
        "image_folder='/content/drive/MyDrive/GEE_Exports_Indice/GEE_export_py2'\n",
        "\n",
        "images=os.listdir(image_folder)\n",
        "\n",
        "for i in images:\n",
        "    output_path=i.split('.')[0].split('/')[-1]\n",
        "    output_path=os.path.join('/content/drive/MyDrive/GEE_Exports_Indice/GEE_PNG', f'{output_path}_grayscale.png' )\n",
        "\n",
        "    input=os.path.join(image_folder, i)\n",
        "    try:\n",
        "      geotiff_to_grayscale_png_landsat5(input, output_path )\n",
        "    except Exception as e:\n",
        "      print(f'could not convert {e}')\n"
      ],
      "metadata": {
        "id": "CKZ5yoAas5J2"
      },
      "execution_count": null,
      "outputs": []
    },
    {
      "cell_type": "markdown",
      "source": [
        "# Process PNG"
      ],
      "metadata": {
        "id": "nKjd_5lwAQmb"
      }
    },
    {
      "cell_type": "code",
      "source": [
        "def scale(image_folder, output_folder):\n",
        "  images=os.listdir(image_folder)\n",
        "\n",
        "  for i in images:\n",
        "    try:\n",
        "      img=cv2.imread(os.path.join(image_folder, i), cv2.IMREAD_GRAYSCALE)\n",
        "      scale_factor = 12\n",
        "\n",
        "      height, width = img.shape[:2]\n",
        "\n",
        "      new_width = width * scale_factor\n",
        "      new_height = height * scale_factor\n",
        "\n",
        "      resized_img = cv2.resize(img, (new_width, new_height), interpolation=cv2.INTER_LANCZOS4)\n",
        "\n",
        "      cv2.imwrite(os.path.join(output_folder, i), resized_img)\n",
        "    except Exception as e:\n",
        "      print(f'could not scale {i} \\n {e}')\n",
        "      return -1"
      ],
      "metadata": {
        "id": "coJJYYJxkQu9"
      },
      "execution_count": null,
      "outputs": []
    },
    {
      "cell_type": "code",
      "source": [
        "scale('/content/drive/MyDrive/GEE_Exports_Indice/GEE_export_py2_output','/content/drive/MyDrive/GEE_Exports_Indice/GEE_Scaled')"
      ],
      "metadata": {
        "id": "DuzTs65wmSaM"
      },
      "execution_count": null,
      "outputs": []
    },
    {
      "cell_type": "code",
      "source": [
        "\n",
        "def invert_ndvi(input_image_path, output_image_path):\n",
        "    images = os.listdir(input_image_path)\n",
        "\n",
        "    for i in images:\n",
        "        # Process only NDVI images before 2013\n",
        "        if str(i).split('.')[0].split('/')[-1].split('_')[0] == 'NDVI' and int(str(i).split('.')[0].split('/')[-1].split('_')[1]) < 2013:\n",
        "\n",
        "            # Open the image\n",
        "            img = Image.open(os.path.join(input_image_path, i)).convert('L')  # Convert to grayscale\n",
        "\n",
        "            # Calculate the percentage of white pixels\n",
        "            white_pixel_count = sum(1 for pixel in img.getdata() if pixel > 127)  # Assuming white > 127\n",
        "            total_pixels = img.size[0] * img.size[1]\n",
        "            white_pixel_percentage = (white_pixel_count / total_pixels) * 100\n",
        "\n",
        "            # Check if white pixels are at least 70%\n",
        "            if white_pixel_percentage >= 60:\n",
        "                # Invert the image\n",
        "                inverted_image = ImageOps.invert(img)\n",
        "                inverted_image.save(os.path.join(output_image_path, i))\n",
        "                print(f\"Inverted and saved: {i}\")\n"
      ],
      "metadata": {
        "id": "IEI7zJppatXn"
      },
      "execution_count": null,
      "outputs": []
    },
    {
      "cell_type": "code",
      "source": [
        "def crop_landsat5_images(im_landsat5_path):\n",
        "  images=os.listdir(im_landsat5_path)\n",
        "  for i in images:\n",
        "    try:\n",
        "      if int(str(i).split('.')[0].split('/')[-1].split('_')[1]) < 2013:\n",
        "        im_landsat5=cv2.imread(os.path.join(im_landsat5_path,i))\n",
        "        if im_landsat5.shape[1]==1208:\n",
        "          x, y, w, h = 8, 0, 1200, 452\n",
        "          region_of_interest = im_landsat5[y:y+h, x:x+w]\n",
        "          cv2.imwrite(i, region_of_interest)\n",
        "    except:\n",
        "      print(f\"couldn't crop {i}\")"
      ],
      "metadata": {
        "id": "prKoFQr4BpNs"
      },
      "execution_count": null,
      "outputs": []
    },
    {
      "cell_type": "code",
      "source": [
        "def crop_all(im_path):\n",
        "  images=os.listdir(im_path)\n",
        "  for i in images:\n",
        "    try:\n",
        "      image=cv2.imread(os.path.join(im_path,i))\n",
        "      x, y, w, h = 576, 1024, 6384, 4016\n",
        "      region_of_interest = image[y:y+h, x:x+w]\n",
        "      cv2.imwrite(os.path.join(im_path,i), region_of_interest)\n",
        "    except:\n",
        "      print(f\"couldn't crop {i}\")"
      ],
      "metadata": {
        "id": "3A-Z8f32mBNP"
      },
      "execution_count": null,
      "outputs": []
    },
    {
      "cell_type": "code",
      "source": [
        "crop_all('/content/drive/MyDrive/GEE_Exports_Indice/GEE_CherryPicked/GEE_Combined_Thresholded')"
      ],
      "metadata": {
        "id": "PMX8ey5_JgHf"
      },
      "execution_count": null,
      "outputs": []
    },
    {
      "cell_type": "code",
      "source": [
        "def threshold_image(input_image_path, output_image_path):\n",
        "    # Open the grayscale image\n",
        "    try:\n",
        "      image=cv2.imread(input_image_path, cv2.IMREAD_GRAYSCALE)\n",
        "\n",
        "      ret,thresh2 = cv2.threshold(image,120,255,cv2.THRESH_BINARY)\n",
        "\n",
        "      cv2.imwrite(output_image_path, thresh2)\n",
        "\n",
        "    except Exception as e:\n",
        "      print(f\"couldn't threshold {input_image_path} {e}\")\n",
        "      print(output_image_path)\n"
      ],
      "metadata": {
        "id": "BAVTOgNouQxh"
      },
      "execution_count": null,
      "outputs": []
    },
    {
      "cell_type": "code",
      "source": [
        "def threshold_folder(image_paths, output_folder):\n",
        "  for i in os.listdir(image_paths):\n",
        "    im_path=os.path.join(image_paths, i)\n",
        "    output_path=str(im_path).split('.')[0].split('/')[-1]\n",
        "    threshold_image(im_path, os.path.join(output_folder,f'{output_path}.png'))\n"
      ],
      "metadata": {
        "id": "zkADLU23b7H4"
      },
      "execution_count": null,
      "outputs": []
    },
    {
      "cell_type": "code",
      "source": [
        "def combine_images(image_paths, output_path, alpha=0.5):\n",
        "    try:\n",
        "      base_image = Image.open(image_paths[0]).convert('RGBA')\n",
        "\n",
        "      combined_image = Image.new('RGBA', base_image.size)\n",
        "\n",
        "      # Paste the base image into the combined image\n",
        "      combined_image.paste(base_image, (0, 0))\n",
        "\n",
        "      # Iterate through the rest of the images\n",
        "      for image_path in image_paths[1:]:\n",
        "          current_image = Image.open(image_path).convert('RGBA')\n",
        "          combined_image = Image.blend(combined_image, current_image, alpha)\n",
        "      file_name=os.path.basename(image_paths[0])\n",
        "      date = '_'.join(file_name.split('.')[0].split('_')[1:4])\n",
        "      combined_image.save(os.path.join(output_path, f'{date}.png'))\n",
        "    except:\n",
        "      print(f\"couldn't combine {image_paths}\")"
      ],
      "metadata": {
        "id": "BIK_Zo58Xxk4"
      },
      "execution_count": null,
      "outputs": []
    },
    {
      "cell_type": "code",
      "source": [
        "def sort_and_combine(image_directory, output_directory):\n",
        "  images_by_date = defaultdict(dict)\n",
        "\n",
        "  # Step 1: Group images by date\n",
        "  for filename in os.listdir(image_directory):\n",
        "      if filename.endswith(\".png\"):  # Process only PNG files\n",
        "          parts = filename.split(\"_\")  # Split the filename by underscores\n",
        "          if len(parts) >= 4:\n",
        "              # Extract the date and index by type\n",
        "              date = \"_\".join(parts[1:4])  # Format: YYYY_MM_DD\n",
        "              key_type = parts[0]  # NDVI, NDWI, MNDWI\n",
        "              images_by_date[date][key_type] = os.path.join(image_directory, filename)\n",
        "\n",
        "  # Step 2: Combine images for each date\n",
        "  for date, image_files in images_by_date.items():\n",
        "      if \"NDVI\" in image_files and \"NDWI\" in image_files and \"MNDWI\" in image_files:\n",
        "          images=[image_files[\"NDVI\"], image_files[\"NDWI\"], image_files[\"MNDWI\"]]\n",
        "          combine_images(images, output_directory)"
      ],
      "metadata": {
        "id": "HzF5zXa7KkZc"
      },
      "execution_count": null,
      "outputs": []
    },
    {
      "cell_type": "code",
      "source": [
        "def skeletonize_image(input_image_path, output_image_path):\n",
        "  images=os.listdir(input_image_path)\n",
        "\n",
        "  for i in images:\n",
        "    try:\n",
        "      img = Image.open(os.path.join(input_image_path, i)).convert('L')\n",
        "      img_array = np.array(img)\n",
        "      # Any pixel value > 200 will be treated as 1 (True), others as 0 (False)\n",
        "      binary_image = img_array > 150\n",
        "      skeleton = skeletonize(binary_image)\n",
        "      # Convert the skeleton back to a PIL image (0s and 255s for black and white)\n",
        "      skeleton_image = Image.fromarray((skeleton * 255).astype(np.uint8))\n",
        "      skeleton_image.save(os.path.join(output_image_path, i))\n",
        "    except Exception as e:\n",
        "      print(f\"couln't skeletonize {i}\")\n",
        "      print({e})\n",
        "      return -1\n"
      ],
      "metadata": {
        "id": "weeFiP4Qu2H6"
      },
      "execution_count": null,
      "outputs": []
    },
    {
      "cell_type": "code",
      "source": [
        "skeletonize_image('/content/drive/MyDrive/GEE_Exports_Indice/GEE_CherryPicked/GEE_Combined_Thresholded',\n",
        "                  '/content/drive/MyDrive/GEE_Exports_Indice/Final Skeletons')"
      ],
      "metadata": {
        "id": "J_gP9lFHKi4h"
      },
      "execution_count": null,
      "outputs": []
    },
    {
      "cell_type": "markdown",
      "source": [
        "(greyscale ndvi had additional noise added when it was inverted without thresholding)\n",
        "\n",
        "![image.png](data:image/png;base64,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)"
      ],
      "metadata": {
        "id": "vk_sBZqObiDX"
      }
    },
    {
      "cell_type": "code",
      "source": [
        "def move_images(inverted_folder,cropped_folder ,final_folder):\n",
        "  cropped_images=os.listdir(cropped_folder)\n",
        "  for c in cropped_images:\n",
        "    source=os.path.join(cropped_folder,c)\n",
        "    destination=os.path.join(final_folder, c)\n",
        "    shutil.move(source, destination)\n",
        "    # print(c)\n",
        "\n",
        "  ndvis=os.listdir(inverted_folder)\n",
        "  for n in ndvis:\n",
        "    source=os.path.join(inverted_folder,n)\n",
        "    destination=os.path.join(final_folder, n)\n",
        "    shutil.move(source, destination)\n",
        "  #   print(n)\n"
      ],
      "metadata": {
        "id": "r7mcwR9jQczT"
      },
      "execution_count": null,
      "outputs": []
    },
    {
      "cell_type": "code",
      "source": [
        "def discard_large_noise(image_path, output_path):\n",
        "  images=os.listdir(image_path)\n",
        "  for im in images:\n",
        "    image=cv2.imread(os.path.join(image_path, im))\n",
        "\n",
        "    polygon_points=[(1640,1376), (720,3184),(3264, 4720),(6240, 5120),(7664, 4608),(11280, 3152),(14384, 1648),(14384, 352),(10944, 416)]\n",
        "\n",
        "    mask = np.zeros(image.shape[:2], dtype=np.uint8)\n",
        "\n",
        "    polygon = np.array(polygon_points, dtype=np.int32)\n",
        "    cv2.fillPoly(mask, [polygon], 255)\n",
        "\n",
        "    masked_image = cv2.bitwise_and(image, image, mask=mask)\n",
        "\n",
        "    cv2.imwrite(os.path.join(output_path, im), masked_image )\n"
      ],
      "metadata": {
        "id": "IV-2Tn-iOFAB"
      },
      "execution_count": null,
      "outputs": []
    },
    {
      "cell_type": "markdown",
      "source": [
        "## Script\n"
      ],
      "metadata": {
        "id": "GJNkdNJT-O53"
      }
    },
    {
      "cell_type": "code",
      "source": [
        "png_folder='/content/drive/MyDrive/GEE_Exports_Indice/GEE_Scaled'\n",
        "thresholded_folder='/content/drive/MyDrive/GEE_Exports_Indice/GEE_Thresholded'\n",
        "inverted_folder='/content/drive/MyDrive/GEE_Exports_Indice/GEE_Inverted'\n",
        "final_folder='/content/drive/MyDrive/GEE_Exports_Indice/GEE_final'\n",
        "combined_folder='/content/drive/MyDrive/GEE_Exports_Indice/GEE_Combined'\n",
        "combined_thresholded='/content/drive/MyDrive/GEE_Exports_Indice/GEE_Combined_Thresholded'\n",
        "final_skeleton_folder='/content/drive/MyDrive/GEE_Exports_Indice/GEE_Skeletons'\n",
        "\n",
        "# crop_landsat5_images(png_folder)\n",
        "# threshold_folder(png_folder, thresholded_folder)\n",
        "invert_ndvi(thresholded_folder,inverted_folder)\n",
        "move_images(inverted_folder,thresholded_folder ,final_folder)\n",
        "sort_and_combine(final_folder,combined_folder)\n",
        "discard_large_noise(combined_folder, combined_folder)\n",
        "threshold_folder(combined_folder, combined_thresholded)\n",
        "skeletonize_image(combined_thresholded,final_skeleton_folder)"
      ],
      "metadata": {
        "id": "08ttPAAm-LSn"
      },
      "execution_count": null,
      "outputs": []
    },
    {
      "cell_type": "code",
      "source": [
        "import numpy as np\n",
        "from PIL import Image\n",
        "from skimage.morphology import skeletonize\n",
        "import matplotlib.pyplot as plt\n",
        "import cv2\n",
        "\n",
        "def mark_centerline_and_banks(original_image_path, output_image_path):\n",
        "\n",
        "    original_img = Image.open(original_image_path).convert('L')\n",
        "    original_array = np.array(original_img)\n",
        "\n",
        "    # Detect the banks (edges) from the original image\n",
        "    edges = cv2.Canny(original_array, threshold1=100, threshold2=200)\n",
        "\n",
        "    # Create an RGB image to visualize centerline and banks\n",
        "    result_img = np.zeros((original_array.shape[0], original_array.shape[1], 3), dtype=np.uint8)\n",
        "\n",
        "    # Mark banks as green\n",
        "    result_img[edges > 0] = [0, 255, 0]  # Green for the banks\n",
        "\n",
        "    # Convert back to an image and save\n",
        "    result_pil = Image.fromarray(result_img)\n",
        "    result_pil.save(output_image_path)\n",
        "\n",
        "    print(f\"Centerline and banks marked image saved at {output_image_path}\")"
      ],
      "metadata": {
        "id": "1YiZj60zispc"
      },
      "execution_count": null,
      "outputs": []
    },
    {
      "cell_type": "code",
      "source": [
        "mark_centerline_and_banks('/content/MNDWI_1988_03_09.png','/content/banks.png')"
      ],
      "metadata": {
        "colab": {
          "base_uri": "https://localhost:8080/"
        },
        "id": "PwX-8iGXi_ef",
        "outputId": "2da1ddfb-2ee9-4f41-cb46-27532e9c39c0"
      },
      "execution_count": null,
      "outputs": [
        {
          "output_type": "stream",
          "name": "stdout",
          "text": [
            "Centerline and banks marked image saved at /content/banks.png\n"
          ]
        }
      ]
    },
    {
      "cell_type": "markdown",
      "source": [
        "Before Inversion\n",
        "\n",
        "  ![image.png](data:image/png;base64,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)\n",
        "\n",
        "After inversion\n",
        "\n",
        "  ![image.png](data:image/png;base64,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)"
      ],
      "metadata": {
        "id": "v7hEdKE_dwCK"
      }
    },
    {
      "cell_type": "markdown",
      "source": [
        "Combined Image\n",
        "\n",
        "  ![image.png](data:image/png;base64,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)"
      ],
      "metadata": {
        "id": "Ttb6VqF3feeV"
      }
    },
    {
      "cell_type": "markdown",
      "source": [
        "Skeleton\n",
        "\n",
        "  ![image.png](data:image/png;base64,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)"
      ],
      "metadata": {
        "id": "UkBctchLgXPx"
      }
    },
    {
      "cell_type": "code",
      "source": [
        "def line_connector(image_path):\n",
        "  image = cv2.imread(image_path, cv2.IMREAD_GRAYSCALE)\n",
        "\n",
        "  # Binarize the image\n",
        "  _, binary_image = cv2.threshold(image, 127, 255, cv2.THRESH_BINARY)\n",
        "\n",
        "  # Step 1: Morphological Closing\n",
        "  kernel = np.ones((7, 7), np.uint8)\n",
        "  closed_image = cv2.morphologyEx(binary_image, cv2.MORPH_CLOSE, kernel)\n",
        "\n",
        "  # Step 2: Find and Bridge Contours\n",
        "  contours, _ = cv2.findContours(closed_image, cv2.RETR_EXTERNAL, cv2.CHAIN_APPROX_SIMPLE)\n",
        "  contour_image = closed_image.copy()\n",
        "\n",
        "  for i, cnt in enumerate(contours):\n",
        "      # Draw contours to bridge gaps\n",
        "      cv2.drawContours(contour_image, [cnt], 0, (255), thickness=2)\n",
        "\n",
        "  # Step 3: Skeletonize the Result\n",
        "  thinned_image = cv2.ximgproc.thinning(contour_image)\n",
        "\n",
        "  # Step 4: Save and Display\n",
        "  output_path = 'fully_connected_image.png'\n",
        "  cv2.imwrite(output_path, thinned_image)\n",
        "\n",
        "  # Display the original and processed images\n",
        "  plt.figure(figsize=(12, 6))\n",
        "  plt.subplot(1, 3, 1)\n",
        "  plt.title(\"Original Image\")\n",
        "  plt.imshow(binary_image, cmap='gray')\n",
        "  plt.axis('off')\n",
        "\n",
        "  plt.subplot(1, 3, 2)\n",
        "  plt.title(\"After Bridging Contours\")\n",
        "  plt.imshow(contour_image, cmap='gray')\n",
        "  plt.axis('off')\n",
        "\n",
        "  plt.subplot(1, 3, 3)\n",
        "  plt.title(\"Skeletonized Final Image\")\n",
        "  plt.imshow(thinned_image, cmap='gray')\n",
        "  plt.axis('off')\n",
        "\n",
        "  plt.show()\n"
      ],
      "metadata": {
        "id": "wT-2V9qb1iOh"
      },
      "execution_count": null,
      "outputs": []
    },
    {
      "cell_type": "code",
      "source": [
        "line_connector('/content/combined_skeleton_base.png')"
      ],
      "metadata": {
        "colab": {
          "base_uri": "https://localhost:8080/",
          "height": 113
        },
        "id": "tYwbDU_08SgX",
        "outputId": "f6251b10-78a2-4bc7-e758-e23e50ceda14"
      },
      "execution_count": null,
      "outputs": [
        {
          "output_type": "display_data",
          "data": {
            "text/plain": [
              "<Figure size 1200x600 with 3 Axes>"
            ],
            "image/png": "[encoded data removed]"
          },
          "metadata": {}
        }
      ]
    },
    {
      "cell_type": "markdown",
      "source": [
        "2015\n",
        "\n",
        "  ![thresholded 2015.png](data:image/png;base64,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)\n",
        "\n",
        "2003\n",
        "\n",
        "  ![thresholded.png](data:image/png;base64,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)\n",
        "\n",
        "\n",
        "  Combined skeleton\n",
        "  \n",
        "  ![image.png](data:image/png;base64,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)"
      ],
      "metadata": {
        "id": "Kc4HK9uFXUHU"
      }
    },
    {
      "cell_type": "code",
      "source": [
        "sort_and_combine(final_folder,combined)"
      ],
      "metadata": {
        "id": "6FdTw3p5nbLt"
      },
      "execution_count": null,
      "outputs": []
    },
    {
      "cell_type": "code",
      "source": [
        "def move(cropped_folder ,final_folder):\n",
        "  cropped_images=os.listdir(cropped_folder)\n",
        "  for c in cropped_images:\n",
        "    source=os.path.join(cropped_folder,c)\n",
        "    destination=os.path.join(final_folder, c)\n",
        "    shutil.move(source, destination)"
      ],
      "metadata": {
        "id": "b5fqWI_CtFx7"
      },
      "execution_count": null,
      "outputs": []
    },
    {
      "cell_type": "code",
      "source": [
        "move('/content/drive/MyDrive/GEE_Exports','/content/drive/MyDrive/GEE_Exports_Indice')"
      ],
      "metadata": {
        "id": "X9qXIk-ctZOU"
      },
      "execution_count": null,
      "outputs": []
    },
    {
      "cell_type": "markdown",
      "source": [
        "## Results for NDVI image with no inversion"
      ],
      "metadata": {
        "id": "Z6FKQi-sEWxF"
      }
    },
    {
      "cell_type": "markdown",
      "source": [
        "NDVI GeoTiff to Grayscale PNG\n",
        "\n",
        " ![ndvi_grayscale.png](data:image/png;base64,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)"
      ],
      "metadata": {
        "id": "f_XwaStMBegu"
      }
    },
    {
      "cell_type": "markdown",
      "source": [
        "Grayscale image thresholded\n",
        "\n",
        "  ![ndvi_grayscale_threholded.png](data:image/png;base64,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)"
      ],
      "metadata": {
        "id": "AapYsa4QCVMA"
      }
    },
    {
      "cell_type": "markdown",
      "source": [
        "Blur applied for noise removal\n",
        "\n",
        "(this was done because river skeleton wasnt clear with lots of interconnected regions)\n",
        "\n",
        "![smoothed_image.png](data:image/png;base64,iVBORw0KGgoAAAANSUhEUgAAASwAAABxAQAAAABHYaNFAAAERElEQVR4nK2Xv4/cRBTHPzNrrV1EscsFnVj/CVumOGEj8Xegk/gHKFKcKG59QJGOKynpqOloEvkuSHflClFRIG8SKSeBhDeJxF7k9aPwb3u8twhes/bsZ977vpl5M2MFABNryx7b6PIh2kdBhR2vDsL8vUGxyl/vsKDp0UFYcpi3e6zELP//9MbvB2GO/KegV8B5VL+612I0lpITSFp5uzE62xGT26smqBuZsCxLyGY/NVhuxP7QKdsTv9E2k78N0q7FlUTeNtpu+dPg7YYtirwO6p1vkiElF0S8QFrjln46xHKfjBgnqjCfyRNDoiHwDcRVQ3D50pDBRuQysSWb1ylogzTegP896LTW9sw3YBa4kYOqy+kM04xei2yZi8SVt9yVcOjtBix8WFQNp/NsPvTmimSISNaUs04HzgTQE2BSZboNlSEFD1RWDETRMHQF5E325eZwEuwvhn9XgCZlxZSybTB1Nb4nOd2g/giWNZi2IBzBrI43FbX/2znQWmelTdzeNKUsRZr5SwvMLrDXNZZgd7CqZAqlta0l64xp+Sg+3LVyveIpwymcHqu3kth/1UFtSZcibi/o+1/F44ff6t7i8CCG037QlN3uu1kT1UMntPQ2Mq2TaaPCR6XtEW+wSdQSG8Ip5CZvvbSOi1XewzpHW06xFKI+Npl2xxcetl8qzFJ5uzkC24DNnM75XHpe9DD1yiMoGurqt9r9dKnDr1bvakWRj44HmNfo/+QxRQWpZJCpT1UysviMsFgaX7DpeQu3laI89CQpWh/xoodFaeU+w87hFcCH/VpQEoukxcqS7CyQb0VE0lO7WwtzuaywRPJAZC4iktFblifE1YpWqJW39gs9Xk8bX7Uk/LjxQwB1mfQwsWANQAJ+NV4f08Wi905V4hq87qzXmOLGQ+q4D3g0wCxgehcGO6t2MTFsnBqYPSHMmA3/7FqALQlLERF5bjptiuE9Yy6oosF0EJbD+4ykXWwm08DPCs7369IA06Z0Hu7B9l8/Cyxgfi+FJv46odkahvNUYGqweYxo694sIjMmOw+aHc+KR7w99jsNyQh2EfZEmG0iIiKXzR5untMi0XqNfTkSlBWAH5XfGMEYtgAghguJRo/VWVGzqSs5zEXSpVmbB4Dzjhxux/LUZZTpLnrHMiuPdpM2AFR0sXKjp6PebpPi4WQTevjhyELQ1aHpwQleMjINulq6DpMIJzVCd2Hd2Y6Oh+dWadtVNaeF5a7khnHrS1FbY70q4PN2v+eyNUzCywg27Ya1bAyYxLpbSm70yzCmhAvctN0tm7tDX1mQ6m7F6/XCkEIIdtLpuTYo20qqsyRqd/zINLqHXUEV6MFdbmhvQHfOarNZoO2xLzaAtQOQgM7hg3CUy0LgpkjhKBmBbr3jGLgAUOXxOWp5IKlmet9neB7uGbc6r/IWbS7MxnZH7PFWH5bTW0C37ktmUzHwD/6lSKmbyDaxAAAAAElFTkSuQmCC)\n"
      ],
      "metadata": {
        "id": "kf6wbV84Cclk"
      }
    },
    {
      "cell_type": "markdown",
      "source": [
        "Skeletonized image (after noise removal)\n",
        "\n",
        "![inverted_ndvi.png_thresholded_skeleton.png](data:image/png;base64,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)"
      ],
      "metadata": {
        "id": "YzQBJExADmXi"
      }
    },
    {
      "cell_type": "markdown",
      "source": [
        "Applying a Gaussian blur beforehand resulted in fragmented river mask even with a lower threshold value (80)\n",
        "\n",
        "  ![017da879-cb68-4dca-89b4-e51d1111dcfa.png](data:image/png;base64,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)\n",
        "\n",
        "  ![dac6b83e-3caa-4e62-978a-22308a712eff.png](data:image/png;base64,iVBORw0KGgoAAAANSUhEUgAAASwAAABxCAAAAABKccE0AAAEiUlEQVR4nO2cWbKEIAxFwXr73zLvox0YkkBCRCPcn64eVDgGMoDtnUTBOed/LzNpEx8ZZkPVA2s+w+qCNZ0WLIYWLIa6YHmtVhhRD6zZWK1hyJEI1nQxw65lWQz1wZps1vrrOvqb4xHNekW28U1Gu7xDOyiB9WVWBKreYfg50XWneb0hNKYqNbp5YQG0avXMztDBUuxQtDX/oGSV/UIwZx0ntATKOeclfik9aJZh6IsBVrADBmFILYIPK6BvXizYrDz65lB62CSWBbGKP/MeCbBCzLAPlhXDgnUNMmL6jbs4iWXBCj93fvj06q3nu7TYGZqwrHJuj7+7VO8MO3QI11VMoGpVrTPeCSwrnIcaYUUZ1tX/ps7IEmlTrEgFTlfEVYdvsOL1Q+QNbW2g0WsqF5axzUa6+ev34yzF+yqAZazaoCgmrJC8zCa+Zc1rWExYk1rUobXXgSGbS2HXVFC/b6JyMiwWrLdM71GKUslWguoMyzpZcE71TgmVBcVkjKyaxbLnrOedoc+24AdqSU71zrIta694tBYX9QWWXIg6jGJyJjCUUBw1EhmCBaelOBC1RtUwXhgVktbLYD3vIwfQ0qs6+Ic3PoT7fU8/rNc8HUbR0uHYe5Zkl8jT2LAQUGscdq5In22I44k7RV6CIKLStFZY4GALtR+oS9ZnraY154ZnM8P5pmzD86nQrWLeKnLt/v7VRHrBlDpOpWGsOSsZauXV+9pz54QXhk/w9Vmpq0WhvkP16SRe5g0VWx2dqiGsFN4Opbm0HVYg30qV4LlrwtO6t63eMOmHZmrK2KIqtA+91rbBSi+mNwh53k3UZU0XXYUFBFNKlx4wYWPxoFA1WMiFFJ/Ha5JkKCmTcpKlMD27xgj4K9Gk0oWa9N1FbWMceIBScs94YvQdaRRtWWBGo8WKuuyQiIItVsmDHBBsVtXxLM0EbxNlWXlsBXwaf6HetZehanoQgxoSHv2m7dqv40EKt6xoM0H20akuVAaFwipYIdHpFJR2oYl0vuh8AytznPFh2OS9zfW3Sy0RPE6kk5Xu7qn7FcMqd3zMZjoVlRM450nFXpSvCztpHZZ1Tx30YwK94cDtC6ZmrQJWc1itAdSYAeewhqcglkzrgOWTl2GCHPB7lXhDnlnplEwtOcT0vnILnRodNUSrpySpRssKLt6/QAAHV9ZFW05r5ll+784UTVS9qz0Kcoo6uxVam3N7QwWt/S1ZIe4s+9zUn7gh8qf7Fm8kAI/Nc076CkZMqxcWnHcfqJq3k9iY5K8IXjhM9jwyGWU++er8pakAFNJlWR23NjUkvMZDrmYbsKzIGyrQukSsyyNfGYAVV0rl7Q3ljA7/zvY4/NOaWRvrOt6GDcG64iw3ZP7F6oomCG7DXZQFKoiSGvwYbAGwIhOGlXrzUf7bBppSSVl5VB+Msspr8LZd+91KYC1UtDa3GDUrtizvFjhSEazFqabNZcWChQzXaVkLUl3f/59SRWXL93YDxhHac0OwaL6UKdlTulDR+g1D/UfzPqnZHpLo0uUNF6uqTliLVV0rzmLoHw6dJNJB+PQNAAAAAElFTkSuQmCC)"
      ],
      "metadata": {
        "id": "DOUuzyJwXAgp"
      }
    },
    {
      "cell_type": "markdown",
      "source": [
        "# Use Elevation to exclude sea and extract river path during dry season"
      ],
      "metadata": {
        "id": "YSCwRQCsgz_I"
      }
    },
    {
      "cell_type": "markdown",
      "source": [
        "# Process GeoTiff"
      ],
      "metadata": {
        "id": "s87YE52QA7gO"
      }
    },
    {
      "cell_type": "code",
      "source": [
        "\n",
        "def invert_tiff(input_path, output_path):\n",
        "    # Open the TIFF image\n",
        "    with Image.open(input_path) as img:\n",
        "\n",
        "        # images are in F mode and can't be written back in that mode\n",
        "        # can't invert by converting to L mode\n",
        "\n",
        "        img_array = np.array(img)\n",
        "        print(img_array.shape)\n",
        "        print(img_array.dtype)\n",
        "\n",
        "        nan_mask = np.isnan(img_array)\n",
        "\n",
        "        img_array[nan_mask] = 0.9\n",
        "\n",
        "        inv_array=np.zeros_like(img_array, dtype=np.float32)\n",
        "        print(inv_array.shape)\n",
        "        print(inv_array.dtype)\n",
        "\n",
        "\n",
        "\n",
        "\n",
        "        for i in range(img_array.shape[0]):\n",
        "            for j in range(img_array.shape[1]):\n",
        "                if img_array[i][j] > 0:\n",
        "                    inv_array[i][j] = 255\n",
        "                else:\n",
        "                    inv_array[i][j] = 0\n",
        "\n",
        "        inverted_image_tiff = Image.fromarray(inv_array.astype(np.float32))\n",
        "        inverted_image = Image.fromarray(inv_array.astype(np.uint8))\n",
        "        inverted_image.save(output_path)\n",
        "\n",
        "        print(inverted_image.getbands())\n",
        "\n",
        "        return inverted_image_tiff\n",
        "\n",
        "\n"
      ],
      "metadata": {
        "id": "V3-KiXaWhUWn"
      },
      "execution_count": null,
      "outputs": []
    },
    {
      "cell_type": "code",
      "source": [
        "def threshold_tiff(input_path, output_path):\n",
        "  with Image.open(input_path) as img:\n",
        "    img_array = np.array(img)\n",
        "\n",
        "    thresh_array = np.random.rand(img_array.shape[0], img_array.shape[1])\n",
        "    img_array = np.nan_to_num(img_array)\n",
        "\n",
        "    for i in range(img_array.shape[0]):\n",
        "      for j in range(img_array.shape[1]):\n",
        "        try:\n",
        "          with warnings.catch_warnings():\n",
        "            warnings.simplefilter(\"error\")\n",
        "            if img_array[i][j] > 0:\n",
        "              thresh_array[i][j] = 255\n",
        "            else:\n",
        "              thresh_array[i][j] = 0\n",
        "        except:\n",
        "          print(i, j)\n",
        "\n",
        "    thresh_image = Image.fromarray(thresh_array.astype(np.uint8))\n",
        "    thresh_image.save(output_path)\n"
      ],
      "metadata": {
        "id": "6YWWwDS-tOgm"
      },
      "execution_count": null,
      "outputs": []
    },
    {
      "cell_type": "code",
      "source": [
        "def combine_tiff_images(input_paths, output_path):\n",
        "\n",
        "    images = [Image.open(path).convert('RGBA') for path in input_paths]\n",
        "\n",
        "    # Find the maximum dimensions\n",
        "    max_width = max(img.width for img in images)\n",
        "    max_height = max(img.height for img in images)\n",
        "\n",
        "    # Create a new blank image with the maximum dimensions\n",
        "    combined_img = Image.new('RGBA', (max_width, max_height), (0, 0, 0, 0))\n",
        "\n",
        "    # Paste and blend the images\n",
        "    for img in images:\n",
        "        # Resize the image to match the combined image size\n",
        "        resized_img = img.resize((max_width, max_height), Image.LANCZOS)\n",
        "\n",
        "        # Blend the current image with the combined image\n",
        "        combined_img = Image.alpha_composite(combined_img, resized_img)\n",
        "\n",
        "    combined_img_array = np.array(combined_img)\n",
        "    print(combined_img_array.shape)\n",
        "    print(combined_img_array.dtype)\n",
        "\n",
        "    combined_image_png = Image.fromarray(combined_img_array.astype(np.uint8))\n",
        "    combined_image_png.save(output_path)\n",
        "\n",
        "\n",
        "\n",
        "\n",
        "\n",
        "    # # Save the combined image\n",
        "    # combined_img.save(output_path)"
      ],
      "metadata": {
        "id": "znwdJ8yvhcl2"
      },
      "execution_count": null,
      "outputs": []
    },
    {
      "cell_type": "code",
      "source": [
        "inv=invert_tiff('/content/ndvi.tif', \"inverted_ndvi.png\")\n"
      ],
      "metadata": {
        "colab": {
          "base_uri": "https://localhost:8080/"
        },
        "id": "Rk0uWrJRhgqR",
        "outputId": "f71049a0-8f17-4b22-eee8-08602e04575e"
      },
      "execution_count": null,
      "outputs": [
        {
          "output_type": "stream",
          "name": "stdout",
          "text": [
            "(113, 300)\n",
            "float32\n",
            "(113, 300)\n",
            "float32\n",
            "('L',)\n"
          ]
        }
      ]
    },
    {
      "cell_type": "code",
      "source": [
        "files=['/content/ndvi.tif','/content/ndwi.tif','/content/mndwi.tif']\n",
        "\n",
        "for f in files:\n",
        "  thresholded=threshold_tiff(f, f'{f}_thresholded.png')"
      ],
      "metadata": {
        "id": "7p3gjkTmt3UC"
      },
      "execution_count": null,
      "outputs": []
    },
    {
      "cell_type": "code",
      "source": [
        "input_images = ['/content/thresholded.png', '/content/inverted_ndvi.png']\n",
        "combine_tiff_images(input_images, \"combined_image.png\")"
      ],
      "metadata": {
        "colab": {
          "base_uri": "https://localhost:8080/"
        },
        "id": "yAKGfpEwh8oZ",
        "outputId": "7b0cc55f-6e6e-4135-96c6-24bcda5f3b4f"
      },
      "execution_count": null,
      "outputs": [
        {
          "output_type": "stream",
          "name": "stdout",
          "text": [
            "(113, 300, 4)\n",
            "uint8\n"
          ]
        }
      ]
    },
    {
      "cell_type": "markdown",
      "source": [
        "Result\n",
        "\n",
        "  ![inverted_ndvi (2).png](data:image/png;base64,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)"
      ],
      "metadata": {
        "id": "2q3dQojdEE8F"
      }
    }
  ]
}