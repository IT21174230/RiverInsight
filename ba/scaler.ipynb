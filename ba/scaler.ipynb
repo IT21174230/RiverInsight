{
 "cells": [
  {
   "cell_type": "code",
   "id": "initial_id",
   "metadata": {
    "collapsed": true,
    "ExecuteTime": {
     "end_time": "2025-01-14T08:29:11.785150Z",
     "start_time": "2025-01-14T08:29:11.328481Z"
    }
   },
   "source": [
    "import pandas as pd\n",
    "import numpy as np\n",
    "\n",
    "# Load data from CSV file\n",
    "file_path = \"master.csv\" \n",
    "df = pd.read_csv(file_path)\n",
    "\n",
    "# Calculate the top 5% threshold\n",
    "water_area = df[\"water_area_km2\"]\n",
    "top_5_percentile = np.percentile(water_area, 95)  # Top 5% threshold\n",
    "\n",
    "# Save the threshold value to a file\n",
    "threshold_file = \"water_area_threshold.txt\" \n",
    "with open(threshold_file, \"w\") as f:\n",
    "    f.write(f\"Top 5% Threshold for Water Area (Flood Marker): {top_5_percentile}\")\n",
    "\n",
    "# Display result\n",
    "print(\"Top 5% Threshold (Flood Marker):\", top_5_percentile)\n"
   ],
   "outputs": [
    {
     "name": "stdout",
     "output_type": "stream",
     "text": [
      "Top 5% Threshold (Flood Marker): 13.262065526037867\n"
     ]
    }
   ],
   "execution_count": 1
  }
 ],
 "metadata": {
  "kernelspec": {
   "display_name": "Python 3",
   "language": "python",
   "name": "python3"
  },
  "language_info": {
   "codemirror_mode": {
    "name": "ipython",
    "version": 2
   },
   "file_extension": ".py",
   "mimetype": "text/x-python",
   "name": "python",
   "nbconvert_exporter": "python",
   "pygments_lexer": "ipython2",
   "version": "2.7.6"
  }
 },
 "nbformat": 4,
 "nbformat_minor": 5
}
