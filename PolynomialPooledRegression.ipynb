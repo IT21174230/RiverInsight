{
  "nbformat": 4,
  "nbformat_minor": 0,
  "metadata": {
    "colab": {
      "provenance": [],
      "gpuType": "T4"
    },
    "kernelspec": {
      "name": "python3",
      "display_name": "Python 3"
    },
    "language_info": {
      "name": "python"
    }
  },
  "cells": [
    {
      "cell_type": "code",
      "execution_count": null,
      "metadata": {
        "id": "DhqOwbJ8eY3s"
      },
      "outputs": [],
      "source": [
        "import pandas as pd\n",
        "from sklearn.preprocessing import OneHotEncoder\n",
        "from sklearn.compose import ColumnTransformer\n",
        "from sklearn.pipeline import Pipeline\n",
        "from sklearn.model_selection import train_test_split\n",
        "from sklearn.preprocessing import PolynomialFeatures\n",
        "from sklearn.linear_model import Ridge\n",
        "import numpy as np\n",
        "import matplotlib.pyplot as plt\n",
        "from scipy.signal import medfilt\n"
      ]
    },
    {
      "cell_type": "code",
      "source": [
        "dataset='/content/MeanderingInterploatedUpdated.csv'\n",
        "\n",
        "df=pd.read_csv(dataset, index_col=0)"
      ],
      "metadata": {
        "id": "q4iHsyXPfBtB"
      },
      "execution_count": null,
      "outputs": []
    },
    {
      "cell_type": "code",
      "source": [
        "print(df.head())"
      ],
      "metadata": {
        "colab": {
          "base_uri": "https://localhost:8080/"
        },
        "id": "NeKntl5Hf_NB",
        "outputId": "89bd7beb-1358-4754-dc6c-947f912f58e7"
      },
      "execution_count": null,
      "outputs": [
        {
          "output_type": "stream",
          "name": "stdout",
          "text": [
            "     name    c1_dist    c2_dist      c3_dist      c4_dist      c5_dist  \\\n",
            "0  1988-1  80.622577   2.236068  1118.456079  1087.443332  2572.616567   \n",
            "1  1988-2  89.201242   8.732515  1112.007378  1089.762294  2571.456646   \n",
            "2  1988-3  90.426766  10.770330  1091.650127  1090.093574  2567.532084   \n",
            "3  1988-4  75.000000   8.062258   892.453360   968.810095  2475.422590   \n",
            "4  1989-1  75.485233   8.156297   852.133189   926.992124  2424.462205   \n",
            "\n",
            "       c6_dist      c7_dist      c8_dist  \n",
            "0  2748.070232  2197.682643  2400.496824  \n",
            "1  2747.082249  2190.347995  2392.594177  \n",
            "2  2743.753998  2166.673026  2367.186516  \n",
            "3  2671.696465  1879.447259  2071.386251  \n",
            "4  2622.730393  1848.250870  2040.697558  \n"
          ]
        }
      ]
    },
    {
      "cell_type": "code",
      "source": [
        "df_long = df.melt(id_vars='name', var_name='series', value_name='value')\n",
        "# turn the df into a long df\n",
        "\n",
        "df_long['year'] = df_long['name'].str.split('-').str[0].astype(int)\n",
        "df_long['quarter'] = df_long['name'].str.split('-').str[1].astype(int)\n",
        "# turn years and quarteres into int\n",
        "\n",
        "X = df_long[['series', 'year', 'quarter']]\n",
        "y = df_long['value']\n",
        "\n",
        "y=medfilt(y, kernel_size=3)\n",
        "\n",
        "X_train, X_test, y_train, y_test = train_test_split(X, y, test_size=0.2, random_state=42)\n",
        "\n",
        "# prepare features\n",
        "# encode series and quarter but others can ignored - drop one encoded colum to get rid of multicolinearity\n",
        "preprocessor = ColumnTransformer(\n",
        "    transformers=[\n",
        "        ('cat', OneHotEncoder(drop='first'), ['series', 'quarter', 'year'])  # One-hot encode 'series' and 'quarter'\n",
        "    ],\n",
        "    remainder='passthrough'\n",
        ")\n"
      ],
      "metadata": {
        "id": "_Q-os75nfMN7"
      },
      "execution_count": null,
      "outputs": []
    },
    {
      "cell_type": "code",
      "source": [
        "degree = 2\n",
        "pipeline = Pipeline([\n",
        "    ('preprocessor', preprocessor),\n",
        "    ('poly', PolynomialFeatures(degree=degree, include_bias=True)),\n",
        "    ('regressor', Ridge(alpha=0.5))\n",
        "])"
      ],
      "metadata": {
        "id": "yH6gybyBf8bI"
      },
      "execution_count": null,
      "outputs": []
    },
    {
      "cell_type": "code",
      "source": [
        "pipeline.fit(X_train, y_train)\n",
        "\n",
        "# Predict\n",
        "y_pred = pipeline.predict(X_test)\n",
        "\n",
        "# Evaluate\n",
        "from sklearn.metrics import mean_squared_error, r2_score, mean_absolute_error, mean_absolute_percentage_error\n",
        "\n",
        "mae= mean_absolute_error(y_test, y_pred)\n",
        "mape = mean_absolute_percentage_error(y_test, y_pred)\n",
        "mse = mean_squared_error(y_test, y_pred)\n",
        "r2 = r2_score(y_test, y_pred)\n",
        "rmse = np.sqrt(mse)\n",
        "print(f\"Mean Absolute Error: {mae:.2f}\")\n",
        "print(f'Mean Absolute Percentage Error: {mape:.2f}')\n",
        "print(f\"Mean Squared Error: {mse:.2f}\")\n",
        "print(f\"Root MSE Score: {rmse:.2f}\")\n",
        "\n"
      ],
      "metadata": {
        "colab": {
          "base_uri": "https://localhost:8080/"
        },
        "id": "ogqYhuLzh8QQ",
        "outputId": "1fca8cf3-08ae-426d-9704-8cf8ef4bb853"
      },
      "execution_count": null,
      "outputs": [
        {
          "output_type": "stream",
          "name": "stdout",
          "text": [
            "Mean Absolute Error: 33.09\n",
            "Mean Absolute Percentage Error: 0.18\n",
            "Mean Squared Error: 2151.54\n",
            "Root MSE Score: 46.38\n"
          ]
        }
      ]
    },
    {
      "cell_type": "code",
      "source": [
        "err_percentage=(rmse/(max(df_long['value'])-min(df_long['value'])))*100\n",
        "\n",
        "print(f'Error percentage : {err_percentage:.2f}')"
      ],
      "metadata": {
        "colab": {
          "base_uri": "https://localhost:8080/"
        },
        "id": "KVzEXIQb5bYg",
        "outputId": "db58cfae-f7f5-43de-9a93-9ed193146523"
      },
      "execution_count": null,
      "outputs": [
        {
          "output_type": "stream",
          "name": "stdout",
          "text": [
            "Error percentage : 1.69\n"
          ]
        }
      ]
    },
    {
      "cell_type": "code",
      "source": [
        "y_train_pred = pipeline.predict(X_train)\n",
        "\n",
        "# Calculate training metrics\n",
        "mae = mean_absolute_error(y_train, y_train_pred)\n",
        "mse = mean_squared_error(y_train, y_train_pred)\n",
        "rmse = np.sqrt(mse)\n",
        "r2 = r2_score(y_train, y_train_pred)\n",
        "\n",
        "# Print training metrics\n",
        "print(f\"Training Metrics:\")\n",
        "print(f\"MAE: {mae:.2f}\")\n",
        "print(f\"MSE: {mse:.2f}\")\n",
        "print(f\"RMSE: {rmse:.2f}\")\n",
        "print(f\"R2: {r2:.2f}\")"
      ],
      "metadata": {
        "colab": {
          "base_uri": "https://localhost:8080/"
        },
        "id": "z0dlc5-a3_nY",
        "outputId": "f2038a02-d440-4638-a3a4-5533d5037e2e"
      },
      "execution_count": null,
      "outputs": [
        {
          "output_type": "stream",
          "name": "stdout",
          "text": [
            "Training Metrics:\n",
            "MAE: 22.26\n",
            "MSE: 1188.33\n",
            "RMSE: 34.47\n",
            "R2: 1.00\n"
          ]
        }
      ]
    },
    {
      "cell_type": "code",
      "source": [
        "err_percentage=(rmse/(max(df_long['value'])-min(df_long['value'])))*100\n",
        "\n",
        "print(f'Error percentage : {err_percentage:.2f}')"
      ],
      "metadata": {
        "colab": {
          "base_uri": "https://localhost:8080/"
        },
        "id": "svpgROumiaqO",
        "outputId": "2a49ca0b-e4f0-465b-d527-6be7129d00df"
      },
      "execution_count": null,
      "outputs": [
        {
          "output_type": "stream",
          "name": "stdout",
          "text": [
            "Error percentage : 1.26\n"
          ]
        }
      ]
    },
    {
      "cell_type": "code",
      "source": [
        "baseline_mae = mean_absolute_error(y_test, [y_test.mean()] * len(y_test))\n",
        "baseline_mape = mean_absolute_percentage_error(y_test, [y_test.mean()] * len(y_test))\n",
        "baseline_mse= mean_squared_error(y_test, [y_test.mean()] * len(y_test))\n",
        "baseline_rmse = np.sqrt(mean_squared_error(y_test, [y_test.mean()] * len(y_test)))\n",
        "print(f\"Baseline MAE: {baseline_mae}\\nBaseline MAPE: {baseline_mape}\\nBaseline MSE: {baseline_mse}\\nBaseline RMSE: {baseline_rmse}\")"
      ],
      "metadata": {
        "colab": {
          "base_uri": "https://localhost:8080/"
        },
        "id": "WyqowkP112fC",
        "outputId": "7fe28acd-f0e5-4998-c578-70429a376e8e"
      },
      "execution_count": null,
      "outputs": [
        {
          "output_type": "stream",
          "name": "stdout",
          "text": [
            "Baseline MAE: 873.5654256419477\n",
            "Baseline MAPE: 9.556423346590204\n",
            "Baseline MSE: 920242.0954187943\n",
            "Baseline RMSE: 959.2924973222684\n"
          ]
        }
      ]
    },
    {
      "cell_type": "code",
      "source": [
        "from sklearn.model_selection import cross_val_score\n",
        "\n",
        "cv_r2_scores = cross_val_score(pipeline, X_train, y_train, cv=5, scoring='r2')\n",
        "cv_mae_scores = cross_val_score(pipeline, X_train, y_train, cv=5, scoring='neg_mean_absolute_error')\n",
        "cv_mse_scores = cross_val_score(pipeline, X_train, y_train, cv=5, scoring='neg_mean_squared_error')\n",
        "\n",
        "# Convert negative MAE and MSE scores to positive\n",
        "cv_mae_scores = -cv_mae_scores\n",
        "cv_mse_scores = -cv_mse_scores\n",
        "cv_rmse_scores = np.sqrt(cv_mse_scores)\n",
        "\n",
        "# Print cross-validation metrics\n",
        "print(\"\\nCross-Validation Metrics (5-fold):\")\n",
        "print(f\"Mean CV R2: {np.mean(cv_r2_scores)}\")\n",
        "print(f\"Mean CV MAE: {np.mean(cv_mae_scores)}\")\n",
        "print(f\"Mean CV MSE: {np.mean(cv_mse_scores)}\")\n",
        "print(f\"Mean CV RMSE: {np.mean(cv_rmse_scores)}\")"
      ],
      "metadata": {
        "colab": {
          "base_uri": "https://localhost:8080/"
        },
        "id": "Zfh4Dzok4hZ4",
        "outputId": "3bb4ecbf-717c-4072-b1a1-51bb94c9a394"
      },
      "execution_count": null,
      "outputs": [
        {
          "output_type": "stream",
          "name": "stdout",
          "text": [
            "\n",
            "Cross-Validation Metrics (5-fold):\n",
            "Mean CV R2: 0.9963098092264868\n",
            "Mean CV MAE: 40.79988068727823\n",
            "Mean CV MSE: 3461.797621225367\n",
            "Mean CV RMSE: 58.75685647697924\n"
          ]
        }
      ]
    },
    {
      "cell_type": "code",
      "source": [
        "ridge_model=pipeline.named_steps['regressor']\n",
        "coefficients = ridge_model.coef_\n",
        "\n",
        "# Intercept\n",
        "intercept = ridge_model.intercept_\n",
        "\n",
        "print(\"Intercept:\", intercept)\n",
        "print(\"Coefficients:\", coefficients)"
      ],
      "metadata": {
        "id": "Zr0-d3I5jHlj"
      },
      "execution_count": null,
      "outputs": []
    },
    {
      "cell_type": "code",
      "source": [
        "X.head()"
      ],
      "metadata": {
        "colab": {
          "base_uri": "https://localhost:8080/",
          "height": 206
        },
        "id": "3zFFgOgqkNT3",
        "outputId": "8ef65c52-dded-4635-e158-08fc87690d25"
      },
      "execution_count": null,
      "outputs": [
        {
          "output_type": "execute_result",
          "data": {
            "text/plain": [
              "    series  year  quarter\n",
              "0  c1_dist  1988        1\n",
              "1  c1_dist  1988        2\n",
              "2  c1_dist  1988        3\n",
              "3  c1_dist  1988        4\n",
              "4  c1_dist  1989        1"
            ],
            "text/html": [
              "\n",
              "  <div id=\"df-cda77a3c-c140-4786-92cc-7206389e5190\" class=\"colab-df-container\">\n",
              "    <div>\n",
              "<style scoped>\n",
              "    .dataframe tbody tr th:only-of-type {\n",
              "        vertical-align: middle;\n",
              "    }\n",
              "\n",
              "    .dataframe tbody tr th {\n",
              "        vertical-align: top;\n",
              "    }\n",
              "\n",
              "    .dataframe thead th {\n",
              "        text-align: right;\n",
              "    }\n",
              "</style>\n",
              "<table border=\"1\" class=\"dataframe\">\n",
              "  <thead>\n",
              "    <tr style=\"text-align: right;\">\n",
              "      <th></th>\n",
              "      <th>series</th>\n",
              "      <th>year</th>\n",
              "      <th>quarter</th>\n",
              "    </tr>\n",
              "  </thead>\n",
              "  <tbody>\n",
              "    <tr>\n",
              "      <th>0</th>\n",
              "      <td>c1_dist</td>\n",
              "      <td>1988</td>\n",
              "      <td>1</td>\n",
              "    </tr>\n",
              "    <tr>\n",
              "      <th>1</th>\n",
              "      <td>c1_dist</td>\n",
              "      <td>1988</td>\n",
              "      <td>2</td>\n",
              "    </tr>\n",
              "    <tr>\n",
              "      <th>2</th>\n",
              "      <td>c1_dist</td>\n",
              "      <td>1988</td>\n",
              "      <td>3</td>\n",
              "    </tr>\n",
              "    <tr>\n",
              "      <th>3</th>\n",
              "      <td>c1_dist</td>\n",
              "      <td>1988</td>\n",
              "      <td>4</td>\n",
              "    </tr>\n",
              "    <tr>\n",
              "      <th>4</th>\n",
              "      <td>c1_dist</td>\n",
              "      <td>1989</td>\n",
              "      <td>1</td>\n",
              "    </tr>\n",
              "  </tbody>\n",
              "</table>\n",
              "</div>\n",
              "    <div class=\"colab-df-buttons\">\n",
              "\n",
              "  <div class=\"colab-df-container\">\n",
              "    <button class=\"colab-df-convert\" onclick=\"convertToInteractive('df-cda77a3c-c140-4786-92cc-7206389e5190')\"\n",
              "            title=\"Convert this dataframe to an interactive table.\"\n",
              "            style=\"display:none;\">\n",
              "\n",
              "  <svg xmlns=\"http://www.w3.org/2000/svg\" height=\"24px\" viewBox=\"0 -960 960 960\">\n",
              "    <path d=\"M120-120v-720h720v720H120Zm60-500h600v-160H180v160Zm220 220h160v-160H400v160Zm0 220h160v-160H400v160ZM180-400h160v-160H180v160Zm440 0h160v-160H620v160ZM180-180h160v-160H180v160Zm440 0h160v-160H620v160Z\"/>\n",
              "  </svg>\n",
              "    </button>\n",
              "\n",
              "  <style>\n",
              "    .colab-df-container {\n",
              "      display:flex;\n",
              "      gap: 12px;\n",
              "    }\n",
              "\n",
              "    .colab-df-convert {\n",
              "      background-color: #E8F0FE;\n",
              "      border: none;\n",
              "      border-radius: 50%;\n",
              "      cursor: pointer;\n",
              "      display: none;\n",
              "      fill: #1967D2;\n",
              "      height: 32px;\n",
              "      padding: 0 0 0 0;\n",
              "      width: 32px;\n",
              "    }\n",
              "\n",
              "    .colab-df-convert:hover {\n",
              "      background-color: #E2EBFA;\n",
              "      box-shadow: 0px 1px 2px rgba(60, 64, 67, 0.3), 0px 1px 3px 1px rgba(60, 64, 67, 0.15);\n",
              "      fill: #174EA6;\n",
              "    }\n",
              "\n",
              "    .colab-df-buttons div {\n",
              "      margin-bottom: 4px;\n",
              "    }\n",
              "\n",
              "    [theme=dark] .colab-df-convert {\n",
              "      background-color: #3B4455;\n",
              "      fill: #D2E3FC;\n",
              "    }\n",
              "\n",
              "    [theme=dark] .colab-df-convert:hover {\n",
              "      background-color: #434B5C;\n",
              "      box-shadow: 0px 1px 3px 1px rgba(0, 0, 0, 0.15);\n",
              "      filter: drop-shadow(0px 1px 2px rgba(0, 0, 0, 0.3));\n",
              "      fill: #FFFFFF;\n",
              "    }\n",
              "  </style>\n",
              "\n",
              "    <script>\n",
              "      const buttonEl =\n",
              "        document.querySelector('#df-cda77a3c-c140-4786-92cc-7206389e5190 button.colab-df-convert');\n",
              "      buttonEl.style.display =\n",
              "        google.colab.kernel.accessAllowed ? 'block' : 'none';\n",
              "\n",
              "      async function convertToInteractive(key) {\n",
              "        const element = document.querySelector('#df-cda77a3c-c140-4786-92cc-7206389e5190');\n",
              "        const dataTable =\n",
              "          await google.colab.kernel.invokeFunction('convertToInteractive',\n",
              "                                                    [key], {});\n",
              "        if (!dataTable) return;\n",
              "\n",
              "        const docLinkHtml = 'Like what you see? Visit the ' +\n",
              "          '<a target=\"_blank\" href=https://colab.research.google.com/notebooks/data_table.ipynb>data table notebook</a>'\n",
              "          + ' to learn more about interactive tables.';\n",
              "        element.innerHTML = '';\n",
              "        dataTable['output_type'] = 'display_data';\n",
              "        await google.colab.output.renderOutput(dataTable, element);\n",
              "        const docLink = document.createElement('div');\n",
              "        docLink.innerHTML = docLinkHtml;\n",
              "        element.appendChild(docLink);\n",
              "      }\n",
              "    </script>\n",
              "  </div>\n",
              "\n",
              "\n",
              "<div id=\"df-e2c8215f-0c3e-4934-b2a9-515d2489d9b6\">\n",
              "  <button class=\"colab-df-quickchart\" onclick=\"quickchart('df-e2c8215f-0c3e-4934-b2a9-515d2489d9b6')\"\n",
              "            title=\"Suggest charts\"\n",
              "            style=\"display:none;\">\n",
              "\n",
              "<svg xmlns=\"http://www.w3.org/2000/svg\" height=\"24px\"viewBox=\"0 0 24 24\"\n",
              "     width=\"24px\">\n",
              "    <g>\n",
              "        <path d=\"M19 3H5c-1.1 0-2 .9-2 2v14c0 1.1.9 2 2 2h14c1.1 0 2-.9 2-2V5c0-1.1-.9-2-2-2zM9 17H7v-7h2v7zm4 0h-2V7h2v10zm4 0h-2v-4h2v4z\"/>\n",
              "    </g>\n",
              "</svg>\n",
              "  </button>\n",
              "\n",
              "<style>\n",
              "  .colab-df-quickchart {\n",
              "      --bg-color: #E8F0FE;\n",
              "      --fill-color: #1967D2;\n",
              "      --hover-bg-color: #E2EBFA;\n",
              "      --hover-fill-color: #174EA6;\n",
              "      --disabled-fill-color: #AAA;\n",
              "      --disabled-bg-color: #DDD;\n",
              "  }\n",
              "\n",
              "  [theme=dark] .colab-df-quickchart {\n",
              "      --bg-color: #3B4455;\n",
              "      --fill-color: #D2E3FC;\n",
              "      --hover-bg-color: #434B5C;\n",
              "      --hover-fill-color: #FFFFFF;\n",
              "      --disabled-bg-color: #3B4455;\n",
              "      --disabled-fill-color: #666;\n",
              "  }\n",
              "\n",
              "  .colab-df-quickchart {\n",
              "    background-color: var(--bg-color);\n",
              "    border: none;\n",
              "    border-radius: 50%;\n",
              "    cursor: pointer;\n",
              "    display: none;\n",
              "    fill: var(--fill-color);\n",
              "    height: 32px;\n",
              "    padding: 0;\n",
              "    width: 32px;\n",
              "  }\n",
              "\n",
              "  .colab-df-quickchart:hover {\n",
              "    background-color: var(--hover-bg-color);\n",
              "    box-shadow: 0 1px 2px rgba(60, 64, 67, 0.3), 0 1px 3px 1px rgba(60, 64, 67, 0.15);\n",
              "    fill: var(--button-hover-fill-color);\n",
              "  }\n",
              "\n",
              "  .colab-df-quickchart-complete:disabled,\n",
              "  .colab-df-quickchart-complete:disabled:hover {\n",
              "    background-color: var(--disabled-bg-color);\n",
              "    fill: var(--disabled-fill-color);\n",
              "    box-shadow: none;\n",
              "  }\n",
              "\n",
              "  .colab-df-spinner {\n",
              "    border: 2px solid var(--fill-color);\n",
              "    border-color: transparent;\n",
              "    border-bottom-color: var(--fill-color);\n",
              "    animation:\n",
              "      spin 1s steps(1) infinite;\n",
              "  }\n",
              "\n",
              "  @keyframes spin {\n",
              "    0% {\n",
              "      border-color: transparent;\n",
              "      border-bottom-color: var(--fill-color);\n",
              "      border-left-color: var(--fill-color);\n",
              "    }\n",
              "    20% {\n",
              "      border-color: transparent;\n",
              "      border-left-color: var(--fill-color);\n",
              "      border-top-color: var(--fill-color);\n",
              "    }\n",
              "    30% {\n",
              "      border-color: transparent;\n",
              "      border-left-color: var(--fill-color);\n",
              "      border-top-color: var(--fill-color);\n",
              "      border-right-color: var(--fill-color);\n",
              "    }\n",
              "    40% {\n",
              "      border-color: transparent;\n",
              "      border-right-color: var(--fill-color);\n",
              "      border-top-color: var(--fill-color);\n",
              "    }\n",
              "    60% {\n",
              "      border-color: transparent;\n",
              "      border-right-color: var(--fill-color);\n",
              "    }\n",
              "    80% {\n",
              "      border-color: transparent;\n",
              "      border-right-color: var(--fill-color);\n",
              "      border-bottom-color: var(--fill-color);\n",
              "    }\n",
              "    90% {\n",
              "      border-color: transparent;\n",
              "      border-bottom-color: var(--fill-color);\n",
              "    }\n",
              "  }\n",
              "</style>\n",
              "\n",
              "  <script>\n",
              "    async function quickchart(key) {\n",
              "      const quickchartButtonEl =\n",
              "        document.querySelector('#' + key + ' button');\n",
              "      quickchartButtonEl.disabled = true;  // To prevent multiple clicks.\n",
              "      quickchartButtonEl.classList.add('colab-df-spinner');\n",
              "      try {\n",
              "        const charts = await google.colab.kernel.invokeFunction(\n",
              "            'suggestCharts', [key], {});\n",
              "      } catch (error) {\n",
              "        console.error('Error during call to suggestCharts:', error);\n",
              "      }\n",
              "      quickchartButtonEl.classList.remove('colab-df-spinner');\n",
              "      quickchartButtonEl.classList.add('colab-df-quickchart-complete');\n",
              "    }\n",
              "    (() => {\n",
              "      let quickchartButtonEl =\n",
              "        document.querySelector('#df-e2c8215f-0c3e-4934-b2a9-515d2489d9b6 button');\n",
              "      quickchartButtonEl.style.display =\n",
              "        google.colab.kernel.accessAllowed ? 'block' : 'none';\n",
              "    })();\n",
              "  </script>\n",
              "</div>\n",
              "\n",
              "    </div>\n",
              "  </div>\n"
            ],
            "application/vnd.google.colaboratory.intrinsic+json": {
              "type": "dataframe",
              "variable_name": "X",
              "summary": "{\n  \"name\": \"X\",\n  \"rows\": 1176,\n  \"fields\": [\n    {\n      \"column\": \"series\",\n      \"properties\": {\n        \"dtype\": \"category\",\n        \"num_unique_values\": 8,\n        \"samples\": [\n          \"c2_dist\",\n          \"c6_dist\",\n          \"c1_dist\"\n        ],\n        \"semantic_type\": \"\",\n        \"description\": \"\"\n      }\n    },\n    {\n      \"column\": \"year\",\n      \"properties\": {\n        \"dtype\": \"number\",\n        \"std\": 10,\n        \"min\": 1988,\n        \"max\": 2024,\n        \"num_unique_values\": 37,\n        \"samples\": [\n          2005,\n          2001,\n          1992\n        ],\n        \"semantic_type\": \"\",\n        \"description\": \"\"\n      }\n    },\n    {\n      \"column\": \"quarter\",\n      \"properties\": {\n        \"dtype\": \"number\",\n        \"std\": 1,\n        \"min\": 1,\n        \"max\": 4,\n        \"num_unique_values\": 4,\n        \"samples\": [\n          2,\n          4,\n          1\n        ],\n        \"semantic_type\": \"\",\n        \"description\": \"\"\n      }\n    }\n  ]\n}"
            }
          },
          "metadata": {},
          "execution_count": 30
        }
      ]
    },
    {
      "cell_type": "code",
      "source": [
        "print(df_long['series'].unique())"
      ],
      "metadata": {
        "colab": {
          "base_uri": "https://localhost:8080/"
        },
        "id": "dN40jPeZkUg4",
        "outputId": "2e8dae90-6886-4166-b60c-5ea9b9ef2e8c"
      },
      "execution_count": null,
      "outputs": [
        {
          "output_type": "stream",
          "name": "stdout",
          "text": [
            "['c1_dist' 'c2_dist' 'c3_dist' 'c4_dist' 'c5_dist' 'c6_dist' 'c7_dist'\n",
            " 'c8_dist']\n"
          ]
        }
      ]
    },
    {
      "cell_type": "code",
      "source": [
        "r2_train = pipeline.score(X_train, y_train)\n",
        "r2_test = pipeline.score(X_test, y_test)\n",
        "print(f\"R^2 on Training Data: {r2_train:.4f}\")\n",
        "print(f\"R^2 on Test Data: {r2_test:.4f}\")"
      ],
      "metadata": {
        "colab": {
          "base_uri": "https://localhost:8080/"
        },
        "id": "rdQGvJQqlIez",
        "outputId": "07e9b1cd-49bf-49c7-fba7-7bcb45812481"
      },
      "execution_count": null,
      "outputs": [
        {
          "output_type": "stream",
          "name": "stdout",
          "text": [
            "R^2 on Training Data: 0.9995\n",
            "R^2 on Test Data: 0.9979\n"
          ]
        }
      ]
    },
    {
      "cell_type": "code",
      "source": [
        "residuals = y_test - y_pred\n",
        "plt.scatter(y_test, residuals)\n",
        "plt.axhline(0, color='red', linestyle='--')\n",
        "plt.xlabel('Actual Values')\n",
        "plt.ylabel('Residuals')\n",
        "plt.title('Residuals vs Actual Values')\n",
        "plt.show()"
      ],
      "metadata": {
        "colab": {
          "base_uri": "https://localhost:8080/",
          "height": 472
        },
        "id": "UdT5Rn_KlP81",
        "outputId": "1be96035-9c76-4a6d-b613-69b05b296c90"
      },
      "execution_count": null,
      "outputs": [
        {
          "output_type": "display_data",
          "data": {
            "text/plain": [
              "<Figure size 640x480 with 1 Axes>"
            ],
            "image/png": "[encoded data removed]"
          },
          "metadata": {}
        }
      ]
    },
    {
      "cell_type": "code",
      "source": [
        "from statsmodels.stats.stattools import durbin_watson\n",
        "\n",
        "dw_stat = durbin_watson(y_test - y_pred)\n",
        "print(f\"Durbin-Watson Statistic: {dw_stat}\")\n"
      ],
      "metadata": {
        "colab": {
          "base_uri": "https://localhost:8080/"
        },
        "id": "v62zytPgmIsL",
        "outputId": "14b0cd63-15a1-46b1-dd48-5ce619cc731d"
      },
      "execution_count": null,
      "outputs": [
        {
          "output_type": "stream",
          "name": "stdout",
          "text": [
            "Durbin-Watson Statistic: 1.8032814312432277\n"
          ]
        }
      ]
    },
    {
      "cell_type": "code",
      "source": [
        "from statsmodels.stats.diagnostic import het_breuschpagan\n",
        "from statsmodels.api import OLS, add_constant\n",
        "\n",
        "X_train_preprocessed = pipeline.named_steps['preprocessor'].transform(X_train)\n",
        "X_train_preprocessed = X_train_preprocessed.toarray() if hasattr(X_train_preprocessed, \"toarray\") else X_train_preprocessed\n",
        "X_train_const = add_constant(X_train_preprocessed)\n",
        "residuals = y_train - pipeline.predict(X_train)\n",
        "\n",
        "bp_test = het_breuschpagan(residuals, X_train_const)\n",
        "print(f\"Breusch-Pagan p-value: {bp_test[1]}\")\n"
      ],
      "metadata": {
        "colab": {
          "base_uri": "https://localhost:8080/"
        },
        "id": "m7L8suNKp3cJ",
        "outputId": "d8ce6b63-5699-489d-b547-3755bf264622"
      },
      "execution_count": null,
      "outputs": [
        {
          "output_type": "stream",
          "name": "stdout",
          "text": [
            "Breusch-Pagan p-value: 1.1705074951186477e-43\n"
          ]
        }
      ]
    },
    {
      "cell_type": "code",
      "source": [
        "from statsmodels.stats.outliers_influence import variance_inflation_factor\n",
        "\n",
        "X_train_preprocessed = preprocessor.fit_transform(X_train)\n",
        "\n",
        "# Retrieve feature names from the preprocessor\n",
        "cat_feature_names = preprocessor.named_transformers_['cat'].get_feature_names_out(['series','quarter', 'year'])\n",
        "all_feature_names = pd.Index(cat_feature_names.tolist())\n",
        "if hasattr(X_train_preprocessed, \"toarray\"):\n",
        "    X_train_preprocessed = X_train_preprocessed.toarray()\n",
        "\n",
        "# Calculate VIF\n",
        "vif_data = pd.DataFrame()\n",
        "vif_data['feature'] = all_feature_names  # Assign the actual feature names\n",
        "vif_data['VIF'] = [\n",
        "    variance_inflation_factor(X_train_preprocessed, i)\n",
        "    for i in range(X_train_preprocessed.shape[1])\n",
        "]\n",
        "\n",
        "print(vif_data)"
      ],
      "metadata": {
        "colab": {
          "base_uri": "https://localhost:8080/"
        },
        "id": "fDKb1wmrtgxZ",
        "outputId": "fdaf711f-93c2-4337-f034-9fd64e15bf79"
      },
      "execution_count": null,
      "outputs": [
        {
          "output_type": "stream",
          "name": "stdout",
          "text": [
            "           feature       VIF\n",
            "0   series_c2_dist  1.827558\n",
            "1   series_c3_dist  1.811337\n",
            "2   series_c4_dist  1.847433\n",
            "3   series_c5_dist  1.858654\n",
            "4   series_c6_dist  1.865521\n",
            "5   series_c7_dist  1.822187\n",
            "6   series_c8_dist  1.853998\n",
            "7        quarter_2  1.946120\n",
            "8        quarter_3  1.942928\n",
            "9        quarter_4  1.965759\n",
            "10       year_1989  1.203115\n",
            "11       year_1990  1.212990\n",
            "12       year_1991  1.243254\n",
            "13       year_1992  1.215682\n",
            "14       year_1993  1.215381\n",
            "15       year_1994  1.206861\n",
            "16       year_1995  1.228241\n",
            "17       year_1996  1.209085\n",
            "18       year_1997  1.214503\n",
            "19       year_1998  1.254275\n",
            "20       year_1999  1.228602\n",
            "21       year_2000  1.194674\n",
            "22       year_2001  1.222510\n",
            "23       year_2002  1.267764\n",
            "24       year_2003  1.193375\n",
            "25       year_2004  1.214702\n",
            "26       year_2005  1.251034\n",
            "27       year_2006  1.226966\n",
            "28       year_2007  1.204933\n",
            "29       year_2008  1.194706\n",
            "30       year_2009  1.205176\n",
            "31       year_2010  1.233028\n",
            "32       year_2011  1.220652\n",
            "33       year_2012  1.221082\n",
            "34       year_2013  1.183322\n",
            "35       year_2014  1.207962\n",
            "36       year_2015  1.241860\n",
            "37       year_2016  1.206977\n",
            "38       year_2017  1.202595\n",
            "39       year_2018  1.234289\n",
            "40       year_2019  1.203546\n",
            "41       year_2020  1.206362\n",
            "42       year_2021  1.191455\n",
            "43       year_2022  1.216271\n",
            "44       year_2023  1.226776\n",
            "45       year_2024  1.219575\n"
          ]
        }
      ]
    },
    {
      "cell_type": "code",
      "source": [
        "from scipy.stats import shapiro\n",
        "\n",
        "# Perform Shapiro-Wilk test\n",
        "stat, p_value = shapiro(residuals)\n",
        "\n",
        "# Print results\n",
        "print(f\"Shapiro-Wilk Test Statistic: {stat}\")\n",
        "print(f\"P-value: {p_value}\")\n",
        "\n",
        "# Interpret the results\n",
        "if p_value > 0.05:\n",
        "    print(\"Data appears to be normally distributed (fail to reject H0).\")\n",
        "else:\n",
        "    print(\"Data does not appear to be normally distributed (reject H0).\")\n"
      ],
      "metadata": {
        "colab": {
          "base_uri": "https://localhost:8080/"
        },
        "id": "HC0YsSUUtplB",
        "outputId": "d53d59c5-c28f-4a21-d3b3-3d8286b8382a"
      },
      "execution_count": null,
      "outputs": [
        {
          "output_type": "stream",
          "name": "stdout",
          "text": [
            "Shapiro-Wilk Test Statistic: 0.8994235311458143\n",
            "P-value: 2.447249991478881e-24\n",
            "Data does not appear to be normally distributed (reject H0).\n"
          ]
        }
      ]
    },
    {
      "cell_type": "code",
      "source": [
        "print(X_train)"
      ],
      "metadata": {
        "colab": {
          "base_uri": "https://localhost:8080/",
          "height": 141
        },
        "id": "XA66OlanqVjJ",
        "outputId": "6b2e66a3-0463-479c-ac09-a367df94092b"
      },
      "execution_count": null,
      "outputs": [
        {
          "output_type": "error",
          "ename": "NameError",
          "evalue": "name 'X_train' is not defined",
          "traceback": [
            "\u001b[0;31m---------------------------------------------------------------------------\u001b[0m",
            "\u001b[0;31mNameError\u001b[0m                                 Traceback (most recent call last)",
            "\u001b[0;32m<ipython-input-1-1c88d69feddc>\u001b[0m in \u001b[0;36m<cell line: 1>\u001b[0;34m()\u001b[0m\n\u001b[0;32m----> 1\u001b[0;31m \u001b[0mprint\u001b[0m\u001b[0;34m(\u001b[0m\u001b[0mX_train\u001b[0m\u001b[0;34m)\u001b[0m\u001b[0;34m\u001b[0m\u001b[0;34m\u001b[0m\u001b[0m\n\u001b[0m",
            "\u001b[0;31mNameError\u001b[0m: name 'X_train' is not defined"
          ]
        }
      ]
    }
  ]
}