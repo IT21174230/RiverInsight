{
 "cells": [
  {
   "cell_type": "code",
   "execution_count": 1,
   "metadata": {},
   "outputs": [
    {
     "name": "stdout",
     "output_type": "stream",
     "text": [
      "Earth Engine API imported successfully!\n"
     ]
    }
   ],
   "source": [
    "import ee\n",
    "print(\"Earth Engine API imported successfully!\")"
   ]
  },
  {
   "cell_type": "code",
   "execution_count": 2,
   "metadata": {},
   "outputs": [
    {
     "data": {
      "text/html": [
       "<p>To authorize access needed by Earth Engine, open the following\n",
       "        URL in a web browser and follow the instructions:</p>\n",
       "        <p><a href=https://code.earthengine.google.com/client-auth?scopes=https%3A//www.googleapis.com/auth/earthengine%20https%3A//www.googleapis.com/auth/cloud-platform%20https%3A//www.googleapis.com/auth/devstorage.full_control&request_id=2mFE6NK79oyRsSieLWxLMDZCQNYqxbogjvkjiZa7bPU&tc=fYKqnJ5csPdjyP7rzDiiWR67EEKWKeeUucWlBL0Ulho&cc=TYH_QjOtzQOp6QVBreAVHvBraNR6tHx3bh_9rc54jTs>https://code.earthengine.google.com/client-auth?scopes=https%3A//www.googleapis.com/auth/earthengine%20https%3A//www.googleapis.com/auth/cloud-platform%20https%3A//www.googleapis.com/auth/devstorage.full_control&request_id=2mFE6NK79oyRsSieLWxLMDZCQNYqxbogjvkjiZa7bPU&tc=fYKqnJ5csPdjyP7rzDiiWR67EEKWKeeUucWlBL0Ulho&cc=TYH_QjOtzQOp6QVBreAVHvBraNR6tHx3bh_9rc54jTs</a></p>\n",
       "        <p>The authorization workflow will generate a code, which you should paste in the box below.</p>\n",
       "        "
      ],
      "text/plain": [
       "<IPython.core.display.HTML object>"
      ]
     },
     "metadata": {},
     "output_type": "display_data"
    },
    {
     "name": "stdout",
     "output_type": "stream",
     "text": [
      "\n",
      "Successfully saved authorization token.\n"
     ]
    },
    {
     "name": "stderr",
     "output_type": "stream",
     "text": [
      "*** Earth Engine *** Share your feedback by taking our Annual Developer Satisfaction Survey: https://google.qualtrics.com/jfe/form/SV_0JLhFqfSY1uiEaW?source=Init\n"
     ]
    }
   ],
   "source": [
    "import ee\n",
    "ee.Authenticate()\n",
    "ee.Initialize(project='ee-damyadharmawardhana')"
   ]
  },
  {
   "cell_type": "code",
   "execution_count": 4,
   "metadata": {},
   "outputs": [
    {
     "name": "stdout",
     "output_type": "stream",
     "text": [
      "Temperature data exported to temperature_peradeniya_kandy_2006_2021.csv\n"
     ]
    }
   ],
   "source": [
    "import pandas as pd\n",
    "ee.Initialize(project='ee-damyadharmawardhana')\n",
    "\n",
    "# Define the area of interest (Peradeniya, Kandy).\n",
    "aoi = ee.Geometry.Point([80.593016, 7.271481])\n",
    "\n",
    "# Define the time range for the analysis.\n",
    "start_date = '2010-01-01'\n",
    "end_date = '2021-12-31'\n",
    "\n",
    "# Load the ERA5 Daily dataset.\n",
    "era5 = ee.ImageCollection('ECMWF/ERA5/DAILY') \\\n",
    "    .filterDate(start_date, end_date) \\\n",
    "    .select('mean_2m_air_temperature')\n",
    "\n",
    "# Function to reduce the image collection to a time series.\n",
    "def extract_temperature(image):\n",
    "    date = ee.Date(image.get('system:time_start')).format('YYYY-MM-dd')\n",
    "    temperature = image.reduceRegion(\n",
    "        reducer=ee.Reducer.mean(),\n",
    "        geometry=aoi,\n",
    "        scale=10000\n",
    "    ).get('mean_2m_air_temperature')\n",
    "    return ee.Feature(None, {'date': date, 'temperature': temperature})\n",
    "\n",
    "# Apply the function to the image collection.\n",
    "temperature_series = era5.map(extract_temperature).filter(ee.Filter.notNull(['temperature']))\n",
    "\n",
    "# Convert to a list of dictionaries.\n",
    "temperature_list = temperature_series.getInfo()['features']\n",
    "\n",
    "# Convert the list to a pandas DataFrame.\n",
    "temperature_data = []\n",
    "for item in temperature_list:\n",
    "    date = item['properties']['date']\n",
    "    temperature = item['properties']['temperature'] - 273.15  # Convert from Kelvin to Celsius\n",
    "    temperature_data.append({'date': date, 'temperature': temperature})\n",
    "\n",
    "df = pd.DataFrame(temperature_data)\n",
    "\n",
    "# Save to CSV\n",
    "df.to_csv('temperature_peradeniya_kandy_2006_2021.csv', index=False)\n",
    "\n",
    "print('Temperature data exported to temperature_peradeniya_kandy_2006_2021.csv')"
   ]
  }
 ],
 "metadata": {
  "kernelspec": {
   "display_name": "base",
   "language": "python",
   "name": "python3"
  },
  "language_info": {
   "codemirror_mode": {
    "name": "ipython",
    "version": 3
   },
   "file_extension": ".py",
   "mimetype": "text/x-python",
   "name": "python",
   "nbconvert_exporter": "python",
   "pygments_lexer": "ipython3",
   "version": "3.11.5"
  }
 },
 "nbformat": 4,
 "nbformat_minor": 2
}
