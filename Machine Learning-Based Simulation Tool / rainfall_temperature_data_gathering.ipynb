{
 "cells": [
  {
   "cell_type": "code",
   "execution_count": null,
   "metadata": {},
   "outputs": [],
   "source": [
    "import ee\n",
    "import pandas as pd\n",
    "print(\"Earth Engine API imported successfully!\")"
   ]
  },
  {
   "cell_type": "code",
   "execution_count": null,
   "metadata": {},
   "outputs": [],
   "source": [
    "import ee\n",
    "ee.Authenticate()\n",
    "ee.Initialize(project='ee-damyadharmawardhana')"
   ]
  },
  {
   "cell_type": "code",
   "execution_count": null,
   "metadata": {},
   "outputs": [],
   "source": [
    "roi = ee.Geometry.Polygon([\n",
    "    [[7.62606, 79.80086],\n",
    "    #  [7.62470, 79.86712],\n",
    "    #  [7.59595, 79.86712],\n",
    "    #  [7.59731, 79.78592]\n",
    "     ]\n",
    "])\n",
    "start_date = '1990-01-01'\n",
    "end_date = '2024-12-31'\n",
    "\n",
    "# Filter dataset\n",
    "dataset = ee.ImageCollection('ECMWF/ERA5/MONTHLY') \\\n",
    "    .filterBounds(roi) \\\n",
    "    .filterDate(start_date, end_date)\n",
    "\n",
    "# Calculate monthly mean temperature\n",
    "def calculate_mean(image):\n",
    "    date = ee.Date(image.get('system:time_start'))\n",
    "    month = date.format('YYYY-MM')\n",
    "    mean_temp = image.select('mean_2m_air_temperature') \\\n",
    "        .reduceRegion(\n",
    "            reducer=ee.Reducer.mean(),\n",
    "            geometry=roi,\n",
    "            scale=1000,\n",
    "            maxPixels=1e13\n",
    "        ).get('mean_2m_air_temperature')\n",
    "    return ee.Feature(None, {'date': month, 'mean_temp': mean_temp})\n",
    "\n",
    "# Apply mapping\n",
    "monthly_mean_features = dataset.map(calculate_mean)\n",
    "\n",
    "# Convert the FeatureCollection to a DataFrame\n",
    "feature_list = monthly_mean_features.getInfo()['features']\n",
    "data = [{'date': feature['properties']['date'], 'mean_temp': feature['properties']['mean_temp']} for feature in feature_list]\n",
    "\n",
    "import pandas as pd\n",
    "df = pd.DataFrame(data)"
   ]
  },
  {
   "cell_type": "code",
   "execution_count": null,
   "metadata": {},
   "outputs": [],
   "source": [
    "print(df)"
   ]
  },
  {
   "cell_type": "code",
   "execution_count": null,
   "metadata": {},
   "outputs": [],
   "source": [
    "#Debugging Missing Values\n",
    "print(dataset.first().getInfo())  # Inspect the first image for variable names"
   ]
  },
  {
   "cell_type": "markdown",
   "metadata": {},
   "source": [
    "#### Verify Dataset Coverage"
   ]
  },
  {
   "cell_type": "code",
   "execution_count": null,
   "metadata": {},
   "outputs": [],
   "source": [
    "print(dataset.size().getInfo()) "
   ]
  },
  {
   "cell_type": "markdown",
   "metadata": {},
   "source": [
    "#### Revisit Mapping and System Properties"
   ]
  },
  {
   "cell_type": "code",
   "execution_count": null,
   "metadata": {},
   "outputs": [],
   "source": [
    "def check_properties(image):\n",
    "    return ee.Feature(None, {\n",
    "        'id': image.id(),\n",
    "        'system_time_start': image.get('system:time_start')\n",
    "    })\n",
    "\n",
    "properties = dataset.map(check_properties).getInfo()\n",
    "\n",
    "# Print to inspect missing properties\n",
    "for feature in properties['features']:\n",
    "    print(feature['properties'])"
   ]
  },
  {
   "cell_type": "markdown",
   "metadata": {},
   "source": [
    "#### Test with a Simpler ROI"
   ]
  },
  {
   "cell_type": "code",
   "execution_count": null,
   "metadata": {},
   "outputs": [],
   "source": [
    "roi_test = ee.Geometry.Rectangle([79.6, 7.5, 79.9, 8.0])  # Larger rectangle\n",
    "dataset_test = ee.ImageCollection('ECMWF/ERA5/MONTHLY') \\\n",
    "    .filterBounds(roi_test) \\\n",
    "    .filterDate(start_date, end_date)\n",
    "\n",
    "print(dataset_test.size().getInfo())  # Should return a number > 0"
   ]
  },
  {
   "cell_type": "code",
   "execution_count": null,
   "metadata": {},
   "outputs": [],
   "source": [
    "#Expand ROI\n",
    "expanded_roi = roi.buffer(10000)  # Buffer by 10 km\n",
    "dataset_expanded = ee.ImageCollection('ECMWF/ERA5/MONTHLY') \\\n",
    "    .filterBounds(expanded_roi) \\\n",
    "    .filterDate(start_date, end_date)\n",
    "\n",
    "print(dataset_expanded.size().getInfo())"
   ]
  },
  {
   "cell_type": "markdown",
   "metadata": {},
   "source": [
    "#### Debugging the Time Range"
   ]
  },
  {
   "cell_type": "code",
   "execution_count": null,
   "metadata": {},
   "outputs": [],
   "source": [
    "dataset_debug = ee.ImageCollection('ECMWF/ERA5/MONTHLY') \\\n",
    "    .filterBounds(roi) \\\n",
    "    .filterDate('2020-01-01', '2020-12-31')  # One year for testing\n",
    "\n",
    "print(dataset_debug.size().getInfo())  # Check if data exists for this time range"
   ]
  },
  {
   "cell_type": "markdown",
   "metadata": {},
   "source": [
    "#### Yearly data"
   ]
  },
  {
   "cell_type": "code",
   "execution_count": null,
   "metadata": {},
   "outputs": [],
   "source": [
    "import ee\n",
    "import pandas as pd\n",
    "print(\"Earth Engine API imported successfully!\")"
   ]
  },
  {
   "cell_type": "code",
   "execution_count": null,
   "metadata": {},
   "outputs": [],
   "source": [
    "import ee\n",
    "ee.Authenticate()\n",
    "ee.Initialize(project='ee-damyadharmawardhana')"
   ]
  },
  {
   "cell_type": "code",
   "execution_count": 24,
   "metadata": {},
   "outputs": [],
   "source": [
    "mender_dispalcement = pd.read_csv('meander_displacement.csv')"
   ]
  },
  {
   "cell_type": "code",
   "execution_count": null,
   "metadata": {},
   "outputs": [],
   "source": [
    "# Define the area of interest (ROI)\n",
    "aoi = ee.Geometry.Polygon([\n",
    "    [[79.80086, 7.62606], [79.86712, 7.62470],\n",
    "     [79.86712, 7.59595], [79.78592, 7.59731], [79.80086, 7.62606]]\n",
    "])\n",
    "\n",
    "# Define the time range\n",
    "start_date = '1980-01-01'\n",
    "end_date = '2024-10-31'\n",
    "\n",
    "# Load the ERA5 Daily dataset\n",
    "era5 = ee.ImageCollection('ECMWF/ERA5/DAILY') \\\n",
    "    .filterDate(start_date, end_date) \\\n",
    "    .select('mean_2m_air_temperature')\n",
    "\n",
    "# Function to reduce the image collection to mean temperature and date\n",
    "def extract_temperature(image):\n",
    "    date = ee.Date(image.get('system:time_start')).format('YYYY-MM-dd')\n",
    "    temperature = image.reduceRegion(\n",
    "        reducer=ee.Reducer.mean(),\n",
    "        geometry=aoi,\n",
    "        scale=1000,\n",
    "        maxPixels=1e9\n",
    "    ).get('mean_2m_air_temperature')\n",
    "    return ee.Feature(None, {'date': date, 'temperature': temperature})\n",
    "\n",
    "# Apply the function to the image collection\n",
    "temperature_series = era5.map(extract_temperature)\n",
    "\n",
    "# Export the data to a CSV file in Google Drive\n",
    "task = ee.batch.Export.table.toDrive(\n",
    "    collection=temperature_series,\n",
    "    description='Temperature_Data_Export',\n",
    "    fileFormat='CSV',\n",
    "    folder='GEE_Temperature'  # You can choose your Google Drive folder here\n",
    ")\n",
    "task.start()\n",
    "\n",
    "print(\"Export started. Check your Google Drive after processing.\")"
   ]
  },
  {
   "cell_type": "code",
   "execution_count": null,
   "metadata": {},
   "outputs": [],
   "source": [
    "# Define the area of interest (ROI)\n",
    "aoi = ee.Geometry.Polygon([\n",
    "    [[79.80086, 7.62606], [79.86712, 7.62470],\n",
    "     [79.86712, 7.59595], [79.78592, 7.59731], [79.80086, 7.62606]]\n",
    "])\n",
    "\n",
    "# Define the time range\n",
    "start_date = '1980-01-01'\n",
    "end_date = '2024-10-31'\n",
    "\n",
    "# Load the ERA5 Daily dataset\n",
    "era5 = ee.ImageCollection('ECMWF/ERA5/DAILY') \\\n",
    "    .filterDate(start_date, end_date)\n",
    "\n",
    "# Function to reduce the image collection to mean rainfall and date\n",
    "def extract_rainfall(image):\n",
    "    date = ee.Date(image.get('system:time_start')).format('YYYY-MM-dd')\n",
    "    rainfall = image.reduceRegion(\n",
    "        reducer=ee.Reducer.mean(),\n",
    "        geometry=aoi,\n",
    "        scale=1000,\n",
    "        maxPixels=1e9\n",
    "    ).get('total_precipitation')  # Adjust to the correct rainfall band\n",
    "    return ee.Feature(None, {'date': date, 'rainfall': rainfall})\n",
    "\n",
    "# Select the rainfall band and apply the function\n",
    "rainfall_series = era5.select('total_precipitation').map(extract_rainfall)\n",
    "\n",
    "# Export the data to a CSV file in Google Drive\n",
    "task = ee.batch.Export.table.toDrive(\n",
    "    collection=rainfall_series,\n",
    "    description='Rainfall_Data_Export',\n",
    "    fileFormat='CSV',\n",
    "    folder='GEE_Rainfall'  # You can choose your Google Drive folder here\n",
    ")\n",
    "task.start()\n",
    "\n",
    "print(\"Rainfall export started. Check your Google Drive after processing.\")"
   ]
  },
  {
   "cell_type": "code",
   "execution_count": 5,
   "metadata": {},
   "outputs": [],
   "source": [
    "Temp_data = pd.read_csv('Temperature_Data_Export.csv')"
   ]
  },
  {
   "cell_type": "code",
   "execution_count": 6,
   "metadata": {},
   "outputs": [],
   "source": [
    "rainfall_data = pd.read_csv('Rainfall_Data_Export.csv')"
   ]
  },
  {
   "cell_type": "code",
   "execution_count": 12,
   "metadata": {},
   "outputs": [],
   "source": [
    "temperature_data = pd.read_csv('Temperature_Data_Export.csv')  # File with date and temperature\n",
    "rainfall_data = pd.read_csv('Rainfall_Data_Export.csv')  # File with date and rainfall\n",
    "\n",
    "# Ensure both datasets have 'date' in the same format\n",
    "temperature_data['date'] = pd.to_datetime(temperature_data['date'])\n",
    "rainfall_data['date'] = pd.to_datetime(rainfall_data['date'])\n",
    "\n",
    "# Merge the two datasets on the 'date' column\n",
    "temp_rainfall_data = pd.merge(temperature_data, rainfall_data, on='date', how='inner')"
   ]
  },
  {
   "cell_type": "code",
   "execution_count": null,
   "metadata": {},
   "outputs": [],
   "source": [
    "temp_rainfall_data"
   ]
  },
  {
   "cell_type": "code",
   "execution_count": 18,
   "metadata": {},
   "outputs": [],
   "source": [
    "temp_rainfall_data = temp_rainfall_data.drop(['.geo_x', '.geo_y', 'system:index_y', 'system:index_x'], axis=1)"
   ]
  },
  {
   "cell_type": "code",
   "execution_count": null,
   "metadata": {},
   "outputs": [],
   "source": [
    "temp_rainfall_data"
   ]
  },
  {
   "cell_type": "code",
   "execution_count": null,
   "metadata": {},
   "outputs": [],
   "source": [
    "mender_dispalcement"
   ]
  },
  {
   "cell_type": "code",
   "execution_count": 26,
   "metadata": {},
   "outputs": [],
   "source": [
    "# Drop the first row (contains headers as data)\n",
    "mender_dispalcement = mender_dispalcement.iloc[1:].reset_index(drop=True)\n",
    "\n",
    "# Rename columns for easier access\n",
    "mender_dispalcement.columns = ['image', 'c1_x', 'c1_y', 'c1_dist', 'c2_x', 'c2_y', 'c2_dist', \n",
    "                'c3_x', 'c3_y', 'c3_dist', 'c4_x', 'c4_y', 'c4_dist','c5_x', 'c5_y', 'c5_dist','c6_x', 'c6_y', 'c6_dist','c7_x', 'c7_y', 'c7_dist','c8_x', 'c8_y','c8_dist'] \n",
    "\n",
    "# Convert numeric columns to proper data types\n",
    "numeric_cols = mender_dispalcement.columns[1:]  # Skip the 'image' column\n",
    "mender_dispalcement[numeric_cols] = mender_dispalcement[numeric_cols].apply(pd.to_numeric, errors='coerce')\n",
    "\n",
    "# Handle missing data if necessary\n",
    "mender_dispalcement = mender_dispalcement.fillna(0)  # Example: Fill NaN with 0"
   ]
  },
  {
   "cell_type": "code",
   "execution_count": 27,
   "metadata": {},
   "outputs": [],
   "source": [
    "# Extract the date from the 'image' column and convert to datetime format\n",
    "mender_dispalcement['date'] = mender_dispalcement['image'].str.extract(r'(\\d{4}_\\d{2}_\\d{2})')[0]  # Extract date part\n",
    "mender_dispalcement['date'] = pd.to_datetime(mender_dispalcement['date'], format='%Y_%m_%d')  # Convert to datetime\n",
    "\n",
    "# Drop the original 'image' column if not needed\n",
    "mender_dispalcement = mender_dispalcement.drop(columns=['image'])"
   ]
  },
  {
   "cell_type": "code",
   "execution_count": null,
   "metadata": {},
   "outputs": [],
   "source": [
    "mender_dispalcement"
   ]
  },
  {
   "cell_type": "code",
   "execution_count": null,
   "metadata": {},
   "outputs": [],
   "source": []
  }
 ],
 "metadata": {
  "kernelspec": {
   "display_name": "base",
   "language": "python",
   "name": "python3"
  },
  "language_info": {
   "codemirror_mode": {
    "name": "ipython",
    "version": 3
   },
   "file_extension": ".py",
   "mimetype": "text/x-python",
   "name": "python",
   "nbconvert_exporter": "python",
   "pygments_lexer": "ipython3",
   "version": "3.11.5"
  }
 },
 "nbformat": 4,
 "nbformat_minor": 2
}
