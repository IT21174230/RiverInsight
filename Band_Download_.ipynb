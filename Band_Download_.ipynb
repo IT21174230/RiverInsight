{
  "nbformat": 4,
  "nbformat_minor": 0,
  "metadata": {
    "colab": {
      "provenance": []
    },
    "kernelspec": {
      "name": "python3",
      "display_name": "Python 3"
    },
    "language_info": {
      "name": "python"
    }
  },
  "cells": [
    {
      "cell_type": "code",
      "execution_count": null,
      "metadata": {
        "colab": {
          "base_uri": "https://localhost:8080/",
          "height": 34
        },
        "id": "FEKePAf5WLsl",
        "outputId": "ce8c530a-80c3-4cd6-c840-8bf55104d315"
      },
      "outputs": [
        {
          "output_type": "stream",
          "name": "stderr",
          "text": [
            "*** Earth Engine *** Share your feedback by taking our Annual Developer Satisfaction Survey: https://google.qualtrics.com/jfe/form/SV_0JLhFqfSY1uiEaW?source=Init\n"
          ]
        }
      ],
      "source": [
        "import geemap\n",
        "import datetime\n",
        "from google.colab import drive\n",
        "# drive.mount('/content/drive')\n",
        "import ee\n",
        "ee.Authenticate()\n",
        "ee.Initialize(project='ee-thaarushiherath')\n",
        "\n",
        "aoi = ee.Geometry.Polygon([\n",
        "    [\n",
        "        [79.80086, 7.62606],\n",
        "        [79.86712, 7.62470],\n",
        "        [79.86712, 7.59595],\n",
        "        [79.78592, 7.59731]\n",
        "    ]\n",
        "])\n"
      ]
    },
    {
      "cell_type": "code",
      "source": [
        "# Define date range and area of interest (replace `aoi` with your geometry)\n",
        "start_date = '2024-06-01'\n",
        "end_date = '2024-08-30'\n",
        "\n",
        "# Load the Landsat 8 ImageCollection\n",
        "landsat = ee.ImageCollection('LANDSAT/LC08/C02/T1_L2') \\\n",
        "    .filterBounds(aoi) \\\n",
        "    .filterDate(start_date, end_date) \\\n",
        "    .sort('CLOUD_COVER')\n",
        "\n",
        "# Function to mask clouds using the QA_PIXEL band (specific for Landsat 8)\n",
        "def cloud_mask(image):\n",
        "    cloud_shadow_bit_mask = (1 << 3)  # Cloud shadow bit\n",
        "    clouds_bit_mask = (1 << 5)       # Clouds bit\n",
        "    qa = image.select('QA_PIXEL')\n",
        "    mask = qa.bitwiseAnd(cloud_shadow_bit_mask).eq(0).And(\n",
        "           qa.bitwiseAnd(clouds_bit_mask).eq(0))\n",
        "    return image.updateMask(mask)\n",
        "\n",
        "# Function to export a single image with NDVI, NDWI, and MNDWI\n",
        "def export_image(image):\n",
        "    # Apply cloud mask\n",
        "    image = cloud_mask(image)\n",
        "\n",
        "    # Extract acquisition date as a string\n",
        "    acquisition_date = ee.Date(image.get('system:time_start')).format('YYYY_MM_dd').getInfo()\n",
        "\n",
        "    # Calculate NDVI, NDWI, and MNDWI\n",
        "    ndvi = image.normalizedDifference(['SR_B5', 'SR_B4']).rename('NDVI')\n",
        "    ndwi = image.normalizedDifference(['SR_B3', 'SR_B5']).rename('NDWI')\n",
        "    mndwi = image.normalizedDifference(['SR_B3', 'SR_B6']).rename('MNDWI')\n",
        "\n",
        "    # Define the Google Drive folder for exports\n",
        "    drive_folder = 'GEE_2024'\n",
        "\n",
        "    # Export NDVI to Google Drive\n",
        "    ee.batch.Export.image.toDrive(\n",
        "        image=ndvi,\n",
        "        description=f'Export_NDVI_{acquisition_date}',\n",
        "        folder=drive_folder,\n",
        "        fileNamePrefix=f'NDVI_{acquisition_date}',\n",
        "        scale=30,\n",
        "        region=aoi,\n",
        "        crs='EPSG:4326'\n",
        "    ).start()\n",
        "\n",
        "    # Export NDWI to Google Drive\n",
        "    ee.batch.Export.image.toDrive(\n",
        "        image=ndwi,\n",
        "        description=f'Export_NDWI_{acquisition_date}',\n",
        "        folder=drive_folder,\n",
        "        fileNamePrefix=f'NDWI_{acquisition_date}',\n",
        "        scale=30,\n",
        "        region=aoi,\n",
        "        crs='EPSG:4326'\n",
        "    ).start()\n",
        "\n",
        "    # Export MNDWI to Google Drive\n",
        "    ee.batch.Export.image.toDrive(\n",
        "        image=mndwi,\n",
        "        description=f'Export_MNDWI_{acquisition_date}',\n",
        "        folder=drive_folder,\n",
        "        fileNamePrefix=f'MNDWI_{acquisition_date}',\n",
        "        scale=30,\n",
        "        region=aoi,\n",
        "        crs='EPSG:4326'\n",
        "    ).start()\n",
        "\n",
        "# Convert the ImageCollection to a list for iterative processing\n",
        "image_list = landsat.toList(landsat.size())\n",
        "\n",
        "# Process each image in the list\n",
        "num_images = image_list.size().getInfo()\n",
        "if num_images > 0:\n",
        "    for i in range(num_images):\n",
        "        image = ee.Image(image_list.get(i))\n",
        "        export_image(image)\n",
        "    print(f\"Export tasks initiated for {num_images} images.\")\n",
        "else:\n",
        "    print(\"No images found for the specified date range and location.\")\n"
      ],
      "metadata": {
        "id": "GyhrLajHV8xd",
        "colab": {
          "base_uri": "https://localhost:8080/",
          "height": 34
        },
        "outputId": "51c32d20-f023-482a-dc80-da8e2acf8dd6"
      },
      "execution_count": null,
      "outputs": [
        {
          "output_type": "display_data",
          "data": {
            "text/plain": [
              "<IPython.core.display.HTML object>"
            ],
            "text/html": [
              "\n",
              "            <style>\n",
              "                .geemap-dark {\n",
              "                    --jp-widgets-color: white;\n",
              "                    --jp-widgets-label-color: white;\n",
              "                    --jp-ui-font-color1: white;\n",
              "                    --jp-layout-color2: #454545;\n",
              "                    background-color: #383838;\n",
              "                }\n",
              "\n",
              "                .geemap-dark .jupyter-button {\n",
              "                    --jp-layout-color3: #383838;\n",
              "                }\n",
              "\n",
              "                .geemap-colab {\n",
              "                    background-color: var(--colab-primary-surface-color, white);\n",
              "                }\n",
              "\n",
              "                .geemap-colab .jupyter-button {\n",
              "                    --jp-layout-color3: var(--colab-primary-surface-color, white);\n",
              "                }\n",
              "            </style>\n",
              "            "
            ]
          },
          "metadata": {}
        },
        {
          "output_type": "stream",
          "name": "stdout",
          "text": [
            "Export tasks initiated for 9 images.\n"
          ]
        }
      ]
    },
    {
      "cell_type": "code",
      "source": [
        "\n",
        "start_date = '1988-01-01'\n",
        "end_date = '2012-12-30'\n",
        "\n",
        "\n",
        "landsat = ee.ImageCollection('LANDSAT/LT05/C02/T1_L2') \\\n",
        "    .filterBounds(aoi) \\\n",
        "    .filterDate(start_date, end_date) \\\n",
        "    .sort('CLOUD_COVER')\n",
        "\n",
        "def cloud_mask(image):\n",
        "    cloud_shadow_bit_mask = (1 << 4)\n",
        "    clouds_bit_mask = (1 << 5)\n",
        "    qa = image.select('QA_PIXEL')\n",
        "    mask = qa.bitwiseAnd(cloud_shadow_bit_mask).eq(0).And(\n",
        "           qa.bitwiseAnd(clouds_bit_mask).eq(0))\n",
        "    return image.updateMask(mask)\n",
        "\n",
        "def export_image(image):\n",
        "    image = cloud_mask(image)\n",
        "    acquisition_date = ee.Date(image.get('system:time_start')).format('YYYY_MM_dd').getInfo()\n",
        "    ndvi = image.normalizedDifference(['SR_B4', 'SR_B3']).rename('NDVI')  # NIR, Red\n",
        "    ndwi = image.normalizedDifference(['SR_B2', 'SR_B4']).rename('NDWI')  # Green, NIR\n",
        "    mndwi = image.normalizedDifference(['SR_B2', 'SR_B5']).rename('MNDWI')  # Green, SWIR1\n",
        "    drive_folder = 'GEE_Landsat5_Exports'\n",
        "\n",
        "    ee.batch.Export.image.toDrive(\n",
        "        image=ndvi,\n",
        "        description=f'Export_NDVI_{acquisition_date}',\n",
        "        folder=drive_folder,\n",
        "        fileNamePrefix=f'NDVI_{acquisition_date}',\n",
        "        scale=30,\n",
        "        region=aoi,\n",
        "        crs='EPSG:4326'\n",
        "    ).start()\n",
        "\n",
        "    ee.batch.Export.image.toDrive(\n",
        "        image=ndwi,\n",
        "        description=f'Export_NDWI_{acquisition_date}',\n",
        "        folder=drive_folder,\n",
        "        fileNamePrefix=f'NDWI_{acquisition_date}',\n",
        "        scale=30,\n",
        "        region=aoi,\n",
        "        crs='EPSG:4326'\n",
        "    ).start()\n",
        "\n",
        "    ee.batch.Export.image.toDrive(\n",
        "        image=mndwi,\n",
        "        description=f'Export_MNDWI_{acquisition_date}',\n",
        "        folder=drive_folder,\n",
        "        fileNamePrefix=f'MNDWI_{acquisition_date}',\n",
        "        scale=30,\n",
        "        region=aoi,\n",
        "        crs='EPSG:4326'\n",
        "    ).start()\n",
        "\n",
        "image_list = landsat.toList(landsat.size())\n",
        "\n",
        "num_images = image_list.size().getInfo()\n",
        "if num_images > 0:\n",
        "    for i in range(num_images):\n",
        "        image = ee.Image(image_list.get(i))\n",
        "        export_image(image)\n",
        "    print(f\"Export tasks initiated for {num_images} images.\")\n",
        "else:\n",
        "    print(\"No images found for the specified date range and location.\")\n"
      ],
      "metadata": {
        "colab": {
          "base_uri": "https://localhost:8080/",
          "height": 34
        },
        "id": "ao1NBtS8Zwic",
        "outputId": "3aec213e-4257-4643-cf9e-b3ad031cb83e"
      },
      "execution_count": null,
      "outputs": [
        {
          "output_type": "display_data",
          "data": {
            "text/plain": [
              "<IPython.core.display.HTML object>"
            ],
            "text/html": [
              "\n",
              "            <style>\n",
              "                .geemap-dark {\n",
              "                    --jp-widgets-color: white;\n",
              "                    --jp-widgets-label-color: white;\n",
              "                    --jp-ui-font-color1: white;\n",
              "                    --jp-layout-color2: #454545;\n",
              "                    background-color: #383838;\n",
              "                }\n",
              "\n",
              "                .geemap-dark .jupyter-button {\n",
              "                    --jp-layout-color3: #383838;\n",
              "                }\n",
              "\n",
              "                .geemap-colab {\n",
              "                    background-color: var(--colab-primary-surface-color, white);\n",
              "                }\n",
              "\n",
              "                .geemap-colab .jupyter-button {\n",
              "                    --jp-layout-color3: var(--colab-primary-surface-color, white);\n",
              "                }\n",
              "            </style>\n",
              "            "
            ]
          },
          "metadata": {}
        },
        {
          "output_type": "stream",
          "name": "stdout",
          "text": [
            "Export tasks initiated for 301 images.\n"
          ]
        }
      ]
    },
    {
      "cell_type": "code",
      "source": [
        "\n",
        "# Get a list of all tasks\n",
        "tasks = ee.batch.Task.list()\n",
        "\n",
        "# Iterate through the tasks and cancel them\n",
        "for task in tasks:\n",
        "    if task.state in ['RUNNING', 'READY']:\n",
        "        print(f\"Cancelling task: {task.id}, Name: {task.config.get('description', 'No description')}\")\n",
        "        task.cancel()"
      ],
      "metadata": {
        "id": "3S-1GAlxOiYV"
      },
      "execution_count": null,
      "outputs": []
    },
    {
      "cell_type": "code",
      "source": [
        "# check availability\n",
        "start_date = '2001-01-01'\n",
        "end_date = '2002-12-30'\n",
        "\n",
        "# Landsat 5 collection\n",
        "landsat5_collection = ee.ImageCollection('LANDSAT/LT05/C02/T1_L2') \\\n",
        "    .filterBounds(aoi) \\\n",
        "    .filterDate(start_date, end_date)\n",
        "\n",
        "# Get count of images in this date range\n",
        "count = landsat5_collection.size().getInfo()\n",
        "print(f\"Number of images from {start_date} to {end_date}: {count}\")"
      ],
      "metadata": {
        "colab": {
          "base_uri": "https://localhost:8080/",
          "height": 35
        },
        "id": "HaPIWS1hPnbE",
        "outputId": "3d418592-aae3-44b7-f304-3ee0349df435"
      },
      "execution_count": null,
      "outputs": [
        {
          "output_type": "display_data",
          "data": {
            "text/plain": [
              "<IPython.core.display.HTML object>"
            ],
            "text/html": [
              "\n",
              "            <style>\n",
              "                .geemap-dark {\n",
              "                    --jp-widgets-color: white;\n",
              "                    --jp-widgets-label-color: white;\n",
              "                    --jp-ui-font-color1: white;\n",
              "                    --jp-layout-color2: #454545;\n",
              "                    background-color: #383838;\n",
              "                }\n",
              "\n",
              "                .geemap-dark .jupyter-button {\n",
              "                    --jp-layout-color3: #383838;\n",
              "                }\n",
              "\n",
              "                .geemap-colab {\n",
              "                    background-color: var(--colab-primary-surface-color, white);\n",
              "                }\n",
              "\n",
              "                .geemap-colab .jupyter-button {\n",
              "                    --jp-layout-color3: var(--colab-primary-surface-color, white);\n",
              "                }\n",
              "            </style>\n",
              "            "
            ]
          },
          "metadata": {}
        },
        {
          "output_type": "stream",
          "name": "stdout",
          "text": [
            "Number of images from 2001-01-01 to 2002-12-30: 5\n"
          ]
        }
      ]
    },
    {
      "cell_type": "code",
      "source": [
        "# check availability\n",
        "start_date = '2002-01-01'\n",
        "end_date = '2012-12-30'\n",
        "\n",
        "# Landsat 5 collection\n",
        "landsat5_collection = ee.ImageCollection('LANDSAT/LC08/C02/T1_L2') \\\n",
        "    .filterBounds(aoi) \\\n",
        "    .filterDate(start_date, end_date)\n",
        "\n",
        "# Get count of images in this date range\n",
        "count = landsat5_collection.size().getInfo()\n",
        "print(f\"Number of images from {start_date} to {end_date}: {count}\")"
      ],
      "metadata": {
        "id": "zB2R9J-OxvC3"
      },
      "execution_count": null,
      "outputs": []
    },
    {
      "cell_type": "code",
      "source": [
        "start_date = '2024-10-01'\n",
        "end_date = '2024-12-30'\n",
        "#landsat 8 (2013 - present)\n",
        "landsat = ee.ImageCollection('LANDSAT/LC08/C02/T1_L2')\\\n",
        "            .filterBounds(aoi) \\\n",
        "            .filterDate(start_date, end_date) \\\n",
        "            .sort('CLOUD_COVER') \\\n",
        "            .first()\n",
        "\n",
        "# landsat 5 (1982 - 2013)\n",
        "# landsat = ee.ImageCollection('LANDSAT/LT05/C02/T1_L2') \\\n",
        "#             .filterBounds(aoi) \\\n",
        "#             .filterDate(start_date, end_date) \\\n",
        "#             .sort('CLOUD_COVER') \\\n",
        "#             .first()\n",
        "\n",
        "\n",
        "band_sr_b3 = landsat.select(['SR_B3']) #this is only needed for LANDSAT8\n",
        "band_sr_b5 = landsat.select(['SR_B5'])\n",
        "band_sr_b6 = landsat.select(['SR_B6']) #SR_B6 is only available for LANDSAT8\n",
        "# band_sr_b2 = landsat.select(['SR_B2']) #for LANDSAT5\n",
        "band_sr_b4 = landsat.select(['SR_B4'])\n",
        "\n",
        "\"\"\"individual band download fir landsat 8\"\"\"\n",
        "\n",
        "if landsat is None:\n",
        "    print(\"No images found for the specified date range and location.\")\n",
        "else:\n",
        "    acquisition_date = ee.Date(landsat.get('system:time_start')).format('YYYY_MM_dd').getInfo()\n",
        "    print(f\"Image acquisition date: {acquisition_date}\")\n",
        "\n",
        "\n",
        "\n",
        "# out_dir_b3 = 'SR_B3_output.tif'\n",
        "# out_dir_b5 = 'SR_B5_output.tif'\n",
        "# out_dir_b6 = 'SR_B6_output.tif'\n",
        "# out_dir_b4 = 'SR_B4_output.tif'\n",
        "\n",
        "\n",
        "# geemap.ee_export_image(band_sr_b3, filename=out_dir_b3, scale=30, region=aoi, file_per_band=False)\n",
        "# geemap.ee_export_image(band_sr_b5, filename=out_dir_b5, scale=30, region=aoi, file_per_band=False)\n",
        "# geemap.ee_export_image(band_sr_b6, filename=out_dir_b6, scale=30, region=aoi, file_per_band=False)\n",
        "# geemap.ee_export_image(band_sr_b4, filename=out_dir_b4, scale=30, region=aoi, file_per_band=False)\n",
        "\n",
        "\n",
        "# print(f\"Band SR_B3 saved as {out_dir_b3}\")\n",
        "# print(f\"Band SR_B5 saved as {out_dir_b5}\")\n",
        "# print(f\"Band SR_B6 saved as {out_dir_b6}\")\n",
        "# print(f\"Band SR_B4 saved as {out_dir_b4}\")\n"
      ],
      "metadata": {
        "colab": {
          "base_uri": "https://localhost:8080/",
          "height": 35
        },
        "id": "Qyz7yyCak4_f",
        "outputId": "1ed53179-d478-4672-e1fe-13241ab6e374"
      },
      "execution_count": null,
      "outputs": [
        {
          "output_type": "display_data",
          "data": {
            "text/plain": [
              "<IPython.core.display.HTML object>"
            ],
            "text/html": [
              "\n",
              "            <style>\n",
              "                .geemap-dark {\n",
              "                    --jp-widgets-color: white;\n",
              "                    --jp-widgets-label-color: white;\n",
              "                    --jp-ui-font-color1: white;\n",
              "                    --jp-layout-color2: #454545;\n",
              "                    background-color: #383838;\n",
              "                }\n",
              "\n",
              "                .geemap-dark .jupyter-button {\n",
              "                    --jp-layout-color3: #383838;\n",
              "                }\n",
              "\n",
              "                .geemap-colab {\n",
              "                    background-color: var(--colab-primary-surface-color, white);\n",
              "                }\n",
              "\n",
              "                .geemap-colab .jupyter-button {\n",
              "                    --jp-layout-color3: var(--colab-primary-surface-color, white);\n",
              "                }\n",
              "            </style>\n",
              "            "
            ]
          },
          "metadata": {}
        },
        {
          "output_type": "stream",
          "name": "stdout",
          "text": [
            "Image acquisition date: 2024_11_07\n"
          ]
        }
      ]
    },
    {
      "cell_type": "code",
      "source": [
        "# landsat 8 index calculation\n",
        "\n",
        "ndvi = landsat.normalizedDifference(['SR_B5', 'SR_B4']).rename('NDVI')\n",
        "ndwi = landsat.normalizedDifference(['SR_B3', 'SR_B5']).rename('NDWI')\n",
        "mndwi = landsat.normalizedDifference(['SR_B3', 'SR_B6']).rename('MNDWI')"
      ],
      "metadata": {
        "colab": {
          "base_uri": "https://localhost:8080/",
          "height": 17
        },
        "id": "15MJ3g-fMQgY",
        "outputId": "aea803cc-a81f-4e41-d6c0-bfe428eb9520"
      },
      "execution_count": null,
      "outputs": [
        {
          "output_type": "display_data",
          "data": {
            "text/plain": [
              "<IPython.core.display.HTML object>"
            ],
            "text/html": [
              "\n",
              "            <style>\n",
              "                .geemap-dark {\n",
              "                    --jp-widgets-color: white;\n",
              "                    --jp-widgets-label-color: white;\n",
              "                    --jp-ui-font-color1: white;\n",
              "                    --jp-layout-color2: #454545;\n",
              "                    background-color: #383838;\n",
              "                }\n",
              "\n",
              "                .geemap-dark .jupyter-button {\n",
              "                    --jp-layout-color3: #383838;\n",
              "                }\n",
              "\n",
              "                .geemap-colab {\n",
              "                    background-color: var(--colab-primary-surface-color, white);\n",
              "                }\n",
              "\n",
              "                .geemap-colab .jupyter-button {\n",
              "                    --jp-layout-color3: var(--colab-primary-surface-color, white);\n",
              "                }\n",
              "            </style>\n",
              "            "
            ]
          },
          "metadata": {}
        }
      ]
    },
    {
      "cell_type": "code",
      "source": [
        "#  landsat 5 index calculation\n",
        "\n",
        "ndvi = landsat.normalizedDifference(['SR_B4', 'SR_B2']).rename('NDVI')\n",
        "ndwi = landsat.normalizedDifference(['SR_B2', 'SR_B4']).rename('NDWI')\n",
        "mndwi = landsat.normalizedDifference(['SR_B2', 'SR_B5']).rename('MNDWI')"
      ],
      "metadata": {
        "colab": {
          "base_uri": "https://localhost:8080/",
          "height": 17
        },
        "id": "y_oT86Lt7E5C",
        "outputId": "79cc70a4-b5ae-48e7-b90b-009943a0010c"
      },
      "execution_count": null,
      "outputs": [
        {
          "output_type": "display_data",
          "data": {
            "text/plain": [
              "<IPython.core.display.HTML object>"
            ],
            "text/html": [
              "\n",
              "            <style>\n",
              "                .geemap-dark {\n",
              "                    --jp-widgets-color: white;\n",
              "                    --jp-widgets-label-color: white;\n",
              "                    --jp-ui-font-color1: white;\n",
              "                    --jp-layout-color2: #454545;\n",
              "                    background-color: #383838;\n",
              "                }\n",
              "\n",
              "                .geemap-dark .jupyter-button {\n",
              "                    --jp-layout-color3: #383838;\n",
              "                }\n",
              "\n",
              "                .geemap-colab {\n",
              "                    background-color: var(--colab-primary-surface-color, white);\n",
              "                }\n",
              "\n",
              "                .geemap-colab .jupyter-button {\n",
              "                    --jp-layout-color3: var(--colab-primary-surface-color, white);\n",
              "                }\n",
              "            </style>\n",
              "            "
            ]
          },
          "metadata": {}
        }
      ]
    },
    {
      "cell_type": "code",
      "source": [
        "drive_folder='GEE_Exports'\n",
        "\n",
        "ee.batch.Export.image.toDrive(\n",
        "        image=ndvi,\n",
        "        description=f'Export_NDVI_{acquisition_date}',\n",
        "        folder=drive_folder,\n",
        "        fileNamePrefix=f'NDVI_{acquisition_date}',\n",
        "        scale=30,\n",
        "        region=aoi,\n",
        "        crs='EPSG:4326'\n",
        "    ).start()\n",
        "\n",
        "    # Export NDWI to Google Drive\n",
        "ee.batch.Export.image.toDrive(\n",
        "        image=ndwi,\n",
        "        description=f'Export_NDWI_{acquisition_date}',\n",
        "        folder=drive_folder,\n",
        "        fileNamePrefix=f'NDWI_{acquisition_date}',\n",
        "        scale=30,\n",
        "        region=aoi,\n",
        "        crs='EPSG:4326'\n",
        "    ).start()\n",
        "\n",
        "ee.batch.Export.image.toDrive(\n",
        "        image=mndwi,\n",
        "        description=f'Export_MNDWI_{acquisition_date}',\n",
        "        folder=drive_folder,\n",
        "        fileNamePrefix=f'MNDWI_{acquisition_date}',\n",
        "        scale=30,\n",
        "        region=aoi,\n",
        "        crs='EPSG:4326'\n",
        "    ).start()\n",
        "print(f\"Export tasks for NDVI, NDWI, and MNDWI submitted to Google Drive folder: {drive_folder}.\")"
      ],
      "metadata": {
        "colab": {
          "base_uri": "https://localhost:8080/",
          "height": 35
        },
        "id": "vviSFHGp6szf",
        "outputId": "dcd94690-4652-4504-f3de-a465db78c27c"
      },
      "execution_count": null,
      "outputs": [
        {
          "output_type": "display_data",
          "data": {
            "text/plain": [
              "<IPython.core.display.HTML object>"
            ],
            "text/html": [
              "\n",
              "            <style>\n",
              "                .geemap-dark {\n",
              "                    --jp-widgets-color: white;\n",
              "                    --jp-widgets-label-color: white;\n",
              "                    --jp-ui-font-color1: white;\n",
              "                    --jp-layout-color2: #454545;\n",
              "                    background-color: #383838;\n",
              "                }\n",
              "\n",
              "                .geemap-dark .jupyter-button {\n",
              "                    --jp-layout-color3: #383838;\n",
              "                }\n",
              "\n",
              "                .geemap-colab {\n",
              "                    background-color: var(--colab-primary-surface-color, white);\n",
              "                }\n",
              "\n",
              "                .geemap-colab .jupyter-button {\n",
              "                    --jp-layout-color3: var(--colab-primary-surface-color, white);\n",
              "                }\n",
              "            </style>\n",
              "            "
            ]
          },
          "metadata": {}
        },
        {
          "output_type": "stream",
          "name": "stdout",
          "text": [
            "Export tasks for NDVI, NDWI, and MNDWI submitted to Google Drive folder: GEE_Exports_Indice.\n"
          ]
        }
      ]
    },
    {
      "cell_type": "code",
      "source": [
        "out_dir_ndvi = 'ndvi.tif'\n",
        "out_dir_ndwi = 'ndwi.tif'\n",
        "out_dir_mndwi = 'mndwi.tif'\n",
        "\n",
        "geemap.ee_export_image(ndvi, filename=out_dir_ndvi, scale=30, region=aoi, file_per_band=False)\n",
        "geemap.ee_export_image(ndwi, filename=out_dir_ndwi, scale=30, region=aoi, file_per_band=False)\n",
        "geemap.ee_export_image(mndwi, filename=out_dir_mndwi, scale=30, region=aoi, file_per_band=False)\n"
      ],
      "metadata": {
        "colab": {
          "base_uri": "https://localhost:8080/",
          "height": 256
        },
        "id": "tqKWYemdMZXP",
        "outputId": "95330109-c2e9-42a1-a1de-b8581f3c4e2a"
      },
      "execution_count": null,
      "outputs": [
        {
          "output_type": "display_data",
          "data": {
            "text/plain": [
              "<IPython.core.display.HTML object>"
            ],
            "text/html": [
              "\n",
              "            <style>\n",
              "                .geemap-dark {\n",
              "                    --jp-widgets-color: white;\n",
              "                    --jp-widgets-label-color: white;\n",
              "                    --jp-ui-font-color1: white;\n",
              "                    --jp-layout-color2: #454545;\n",
              "                    background-color: #383838;\n",
              "                }\n",
              "\n",
              "                .geemap-dark .jupyter-button {\n",
              "                    --jp-layout-color3: #383838;\n",
              "                }\n",
              "\n",
              "                .geemap-colab {\n",
              "                    background-color: var(--colab-primary-surface-color, white);\n",
              "                }\n",
              "\n",
              "                .geemap-colab .jupyter-button {\n",
              "                    --jp-layout-color3: var(--colab-primary-surface-color, white);\n",
              "                }\n",
              "            </style>\n",
              "            "
            ]
          },
          "metadata": {}
        },
        {
          "output_type": "stream",
          "name": "stdout",
          "text": [
            "Generating URL ...\n",
            "Downloading data from https://earthengine.googleapis.com/v1/projects/ee-thaarushiherath/thumbnails/ea5a404fd774eaf4672c6646b811db15-2ca9dee744f917df69f0e1272faf1ca1:getPixels\n",
            "Please wait ...\n",
            "Data downloaded to /content/ndvi.tif\n",
            "Generating URL ...\n",
            "Downloading data from https://earthengine.googleapis.com/v1/projects/ee-thaarushiherath/thumbnails/b36387a83eb6f3955ec1e24b9df1d7a7-0fe6e72ec3bf801eafe4f8e0b71f70cf:getPixels\n",
            "Please wait ...\n",
            "Data downloaded to /content/ndwi.tif\n",
            "Generating URL ...\n",
            "Downloading data from https://earthengine.googleapis.com/v1/projects/ee-thaarushiherath/thumbnails/5f5393cde39f5491f2adcd34a0e737fe-cbcfd273fd4982c136fea1c6a8323e26:getPixels\n",
            "Please wait ...\n",
            "Data downloaded to /content/mndwi.tif\n"
          ]
        }
      ]
    },
    {
      "cell_type": "code",
      "source": [],
      "metadata": {
        "colab": {
          "base_uri": "https://localhost:8080/",
          "height": 34
        },
        "id": "mGQFVg2uJxjt",
        "outputId": "e2451b7b-f1fa-41ed-a076-7812256b6499"
      },
      "execution_count": null,
      "outputs": [
        {
          "output_type": "display_data",
          "data": {
            "text/plain": [
              "<IPython.core.display.HTML object>"
            ],
            "text/html": [
              "\n",
              "            <style>\n",
              "                .geemap-dark {\n",
              "                    --jp-widgets-color: white;\n",
              "                    --jp-widgets-label-color: white;\n",
              "                    --jp-ui-font-color1: white;\n",
              "                    --jp-layout-color2: #454545;\n",
              "                    background-color: #383838;\n",
              "                }\n",
              "\n",
              "                .geemap-dark .jupyter-button {\n",
              "                    --jp-layout-color3: #383838;\n",
              "                }\n",
              "\n",
              "                .geemap-colab {\n",
              "                    background-color: var(--colab-primary-surface-color, white);\n",
              "                }\n",
              "\n",
              "                .geemap-colab .jupyter-button {\n",
              "                    --jp-layout-color3: var(--colab-primary-surface-color, white);\n",
              "                }\n",
              "            </style>\n",
              "            "
            ]
          },
          "metadata": {}
        },
        {
          "output_type": "stream",
          "name": "stdout",
          "text": [
            "0\n"
          ]
        }
      ]
    }
  ]
}