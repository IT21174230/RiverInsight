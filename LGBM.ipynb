{
  "nbformat": 4,
  "nbformat_minor": 0,
  "metadata": {
    "colab": {
      "provenance": []
    },
    "kernelspec": {
      "name": "python3",
      "display_name": "Python 3"
    },
    "language_info": {
      "name": "python"
    }
  },
  "cells": [
    {
      "cell_type": "code",
      "execution_count": null,
      "metadata": {
        "colab": {
          "base_uri": "https://localhost:8080/"
        },
        "id": "UvJbe4Aq7as6",
        "outputId": "ebfe9bb4-11e6-4acd-a9ec-15edc52619a4"
      },
      "outputs": [
        {
          "output_type": "stream",
          "name": "stdout",
          "text": [
            "Requirement already satisfied: lightgbm in /usr/local/lib/python3.10/dist-packages (4.5.0)\n",
            "Requirement already satisfied: numpy>=1.17.0 in /usr/local/lib/python3.10/dist-packages (from lightgbm) (1.26.4)\n",
            "Requirement already satisfied: scipy in /usr/local/lib/python3.10/dist-packages (from lightgbm) (1.13.1)\n"
          ]
        }
      ],
      "source": [
        "pip install lightgbm"
      ]
    },
    {
      "cell_type": "code",
      "source": [
        "pip install PyWavelets"
      ],
      "metadata": {
        "colab": {
          "base_uri": "https://localhost:8080/"
        },
        "id": "a9uDE6tUxopI",
        "outputId": "16a815b0-f7b9-46ef-b048-2f18049076e3"
      },
      "execution_count": null,
      "outputs": [
        {
          "output_type": "stream",
          "name": "stdout",
          "text": [
            "Collecting PyWavelets\n",
            "  Downloading pywavelets-1.7.0-cp310-cp310-manylinux_2_17_x86_64.manylinux2014_x86_64.whl.metadata (9.0 kB)\n",
            "Requirement already satisfied: numpy<3,>=1.23 in /usr/local/lib/python3.10/dist-packages (from PyWavelets) (1.26.4)\n",
            "Downloading pywavelets-1.7.0-cp310-cp310-manylinux_2_17_x86_64.manylinux2014_x86_64.whl (4.5 MB)\n",
            "\u001b[2K   \u001b[90m━━━━━━━━━━━━━━━━━━━━━━━━━━━━━━━━━━━━━━━━\u001b[0m \u001b[32m4.5/4.5 MB\u001b[0m \u001b[31m43.4 MB/s\u001b[0m eta \u001b[36m0:00:00\u001b[0m\n",
            "\u001b[?25hInstalling collected packages: PyWavelets\n",
            "Successfully installed PyWavelets-1.7.0\n"
          ]
        }
      ]
    },
    {
      "cell_type": "code",
      "source": [
        "pip install shap"
      ],
      "metadata": {
        "colab": {
          "base_uri": "https://localhost:8080/"
        },
        "id": "NUkCplksdBJK",
        "outputId": "32c5d8ed-b573-4da5-e635-b453e99a5e7b"
      },
      "execution_count": null,
      "outputs": [
        {
          "output_type": "stream",
          "name": "stdout",
          "text": [
            "Requirement already satisfied: shap in /usr/local/lib/python3.10/dist-packages (0.46.0)\n",
            "Requirement already satisfied: numpy in /usr/local/lib/python3.10/dist-packages (from shap) (1.26.4)\n",
            "Requirement already satisfied: scipy in /usr/local/lib/python3.10/dist-packages (from shap) (1.13.1)\n",
            "Requirement already satisfied: scikit-learn in /usr/local/lib/python3.10/dist-packages (from shap) (1.5.2)\n",
            "Requirement already satisfied: pandas in /usr/local/lib/python3.10/dist-packages (from shap) (2.2.2)\n",
            "Requirement already satisfied: tqdm>=4.27.0 in /usr/local/lib/python3.10/dist-packages (from shap) (4.66.6)\n",
            "Requirement already satisfied: packaging>20.9 in /usr/local/lib/python3.10/dist-packages (from shap) (24.2)\n",
            "Requirement already satisfied: slicer==0.0.8 in /usr/local/lib/python3.10/dist-packages (from shap) (0.0.8)\n",
            "Requirement already satisfied: numba in /usr/local/lib/python3.10/dist-packages (from shap) (0.60.0)\n",
            "Requirement already satisfied: cloudpickle in /usr/local/lib/python3.10/dist-packages (from shap) (3.1.0)\n",
            "Requirement already satisfied: llvmlite<0.44,>=0.43.0dev0 in /usr/local/lib/python3.10/dist-packages (from numba->shap) (0.43.0)\n",
            "Requirement already satisfied: python-dateutil>=2.8.2 in /usr/local/lib/python3.10/dist-packages (from pandas->shap) (2.8.2)\n",
            "Requirement already satisfied: pytz>=2020.1 in /usr/local/lib/python3.10/dist-packages (from pandas->shap) (2024.2)\n",
            "Requirement already satisfied: tzdata>=2022.7 in /usr/local/lib/python3.10/dist-packages (from pandas->shap) (2024.2)\n",
            "Requirement already satisfied: joblib>=1.2.0 in /usr/local/lib/python3.10/dist-packages (from scikit-learn->shap) (1.4.2)\n",
            "Requirement already satisfied: threadpoolctl>=3.1.0 in /usr/local/lib/python3.10/dist-packages (from scikit-learn->shap) (3.5.0)\n",
            "Requirement already satisfied: six>=1.5 in /usr/local/lib/python3.10/dist-packages (from python-dateutil>=2.8.2->pandas->shap) (1.16.0)\n"
          ]
        }
      ]
    },
    {
      "cell_type": "code",
      "source": [
        "import pandas as pd\n",
        "import numpy as np\n",
        "from sklearn.model_selection import train_test_split\n",
        "import lightgbm as lgb\n",
        "from sklearn.metrics import mean_squared_error, r2_score, mean_absolute_error, mean_absolute_percentage_error\n",
        "from sklearn.multioutput import MultiOutputRegressor\n",
        "from sklearn.model_selection import GridSearchCV\n",
        "from sklearn.preprocessing import MinMaxScaler\n",
        "from scipy.signal import medfilt\n",
        "import joblib"
      ],
      "metadata": {
        "id": "zhL7lZcE7lD6",
        "colab": {
          "base_uri": "https://localhost:8080/"
        },
        "outputId": "2b6e7df1-251e-468e-9d09-5a66cbe76b4c"
      },
      "execution_count": null,
      "outputs": [
        {
          "output_type": "stream",
          "name": "stderr",
          "text": [
            "/usr/local/lib/python3.10/dist-packages/dask/dataframe/__init__.py:42: FutureWarning: \n",
            "Dask dataframe query planning is disabled because dask-expr is not installed.\n",
            "\n",
            "You can install it with `pip install dask[dataframe]` or `conda install dask`.\n",
            "This will raise in a future version.\n",
            "\n",
            "  warnings.warn(msg, FutureWarning)\n"
          ]
        }
      ]
    },
    {
      "cell_type": "code",
      "source": [
        "dataset='/content/MeanderingInterploatedUpdated.csv'\n",
        "\n",
        "df=pd.read_csv(dataset, index_col=0)\n",
        "\n",
        "df.head()"
      ],
      "metadata": {
        "id": "e1I6lck-7smx",
        "colab": {
          "base_uri": "https://localhost:8080/",
          "height": 206
        },
        "outputId": "d101d76f-0a81-4974-aa40-b152f51e03fb"
      },
      "execution_count": null,
      "outputs": [
        {
          "output_type": "execute_result",
          "data": {
            "text/plain": [
              "     name    c1_dist    c2_dist      c3_dist      c4_dist      c5_dist  \\\n",
              "0  1988-1  80.622577   2.236068  1118.456079  1087.443332  2572.616567   \n",
              "1  1988-2  89.201242   8.732515  1112.007378  1089.762294  2571.456646   \n",
              "2  1988-3  90.426766  10.770330  1091.650127  1090.093574  2567.532084   \n",
              "3  1988-4  75.000000   8.062258   892.453360   968.810095  2475.422590   \n",
              "4  1989-1  75.485233   8.156297   852.133189   926.992124  2424.462205   \n",
              "\n",
              "       c6_dist      c7_dist      c8_dist  \n",
              "0  2748.070232  2197.682643  2400.496824  \n",
              "1  2747.082249  2190.347995  2392.594177  \n",
              "2  2743.753998  2166.673026  2367.186516  \n",
              "3  2671.696465  1879.447259  2071.386251  \n",
              "4  2622.730393  1848.250870  2040.697558  "
            ],
            "text/html": [
              "\n",
              "  <div id=\"df-9f03bb11-e690-4624-8d91-6fb557affd09\" class=\"colab-df-container\">\n",
              "    <div>\n",
              "<style scoped>\n",
              "    .dataframe tbody tr th:only-of-type {\n",
              "        vertical-align: middle;\n",
              "    }\n",
              "\n",
              "    .dataframe tbody tr th {\n",
              "        vertical-align: top;\n",
              "    }\n",
              "\n",
              "    .dataframe thead th {\n",
              "        text-align: right;\n",
              "    }\n",
              "</style>\n",
              "<table border=\"1\" class=\"dataframe\">\n",
              "  <thead>\n",
              "    <tr style=\"text-align: right;\">\n",
              "      <th></th>\n",
              "      <th>name</th>\n",
              "      <th>c1_dist</th>\n",
              "      <th>c2_dist</th>\n",
              "      <th>c3_dist</th>\n",
              "      <th>c4_dist</th>\n",
              "      <th>c5_dist</th>\n",
              "      <th>c6_dist</th>\n",
              "      <th>c7_dist</th>\n",
              "      <th>c8_dist</th>\n",
              "    </tr>\n",
              "  </thead>\n",
              "  <tbody>\n",
              "    <tr>\n",
              "      <th>0</th>\n",
              "      <td>1988-1</td>\n",
              "      <td>80.622577</td>\n",
              "      <td>2.236068</td>\n",
              "      <td>1118.456079</td>\n",
              "      <td>1087.443332</td>\n",
              "      <td>2572.616567</td>\n",
              "      <td>2748.070232</td>\n",
              "      <td>2197.682643</td>\n",
              "      <td>2400.496824</td>\n",
              "    </tr>\n",
              "    <tr>\n",
              "      <th>1</th>\n",
              "      <td>1988-2</td>\n",
              "      <td>89.201242</td>\n",
              "      <td>8.732515</td>\n",
              "      <td>1112.007378</td>\n",
              "      <td>1089.762294</td>\n",
              "      <td>2571.456646</td>\n",
              "      <td>2747.082249</td>\n",
              "      <td>2190.347995</td>\n",
              "      <td>2392.594177</td>\n",
              "    </tr>\n",
              "    <tr>\n",
              "      <th>2</th>\n",
              "      <td>1988-3</td>\n",
              "      <td>90.426766</td>\n",
              "      <td>10.770330</td>\n",
              "      <td>1091.650127</td>\n",
              "      <td>1090.093574</td>\n",
              "      <td>2567.532084</td>\n",
              "      <td>2743.753998</td>\n",
              "      <td>2166.673026</td>\n",
              "      <td>2367.186516</td>\n",
              "    </tr>\n",
              "    <tr>\n",
              "      <th>3</th>\n",
              "      <td>1988-4</td>\n",
              "      <td>75.000000</td>\n",
              "      <td>8.062258</td>\n",
              "      <td>892.453360</td>\n",
              "      <td>968.810095</td>\n",
              "      <td>2475.422590</td>\n",
              "      <td>2671.696465</td>\n",
              "      <td>1879.447259</td>\n",
              "      <td>2071.386251</td>\n",
              "    </tr>\n",
              "    <tr>\n",
              "      <th>4</th>\n",
              "      <td>1989-1</td>\n",
              "      <td>75.485233</td>\n",
              "      <td>8.156297</td>\n",
              "      <td>852.133189</td>\n",
              "      <td>926.992124</td>\n",
              "      <td>2424.462205</td>\n",
              "      <td>2622.730393</td>\n",
              "      <td>1848.250870</td>\n",
              "      <td>2040.697558</td>\n",
              "    </tr>\n",
              "  </tbody>\n",
              "</table>\n",
              "</div>\n",
              "    <div class=\"colab-df-buttons\">\n",
              "\n",
              "  <div class=\"colab-df-container\">\n",
              "    <button class=\"colab-df-convert\" onclick=\"convertToInteractive('df-9f03bb11-e690-4624-8d91-6fb557affd09')\"\n",
              "            title=\"Convert this dataframe to an interactive table.\"\n",
              "            style=\"display:none;\">\n",
              "\n",
              "  <svg xmlns=\"http://www.w3.org/2000/svg\" height=\"24px\" viewBox=\"0 -960 960 960\">\n",
              "    <path d=\"M120-120v-720h720v720H120Zm60-500h600v-160H180v160Zm220 220h160v-160H400v160Zm0 220h160v-160H400v160ZM180-400h160v-160H180v160Zm440 0h160v-160H620v160ZM180-180h160v-160H180v160Zm440 0h160v-160H620v160Z\"/>\n",
              "  </svg>\n",
              "    </button>\n",
              "\n",
              "  <style>\n",
              "    .colab-df-container {\n",
              "      display:flex;\n",
              "      gap: 12px;\n",
              "    }\n",
              "\n",
              "    .colab-df-convert {\n",
              "      background-color: #E8F0FE;\n",
              "      border: none;\n",
              "      border-radius: 50%;\n",
              "      cursor: pointer;\n",
              "      display: none;\n",
              "      fill: #1967D2;\n",
              "      height: 32px;\n",
              "      padding: 0 0 0 0;\n",
              "      width: 32px;\n",
              "    }\n",
              "\n",
              "    .colab-df-convert:hover {\n",
              "      background-color: #E2EBFA;\n",
              "      box-shadow: 0px 1px 2px rgba(60, 64, 67, 0.3), 0px 1px 3px 1px rgba(60, 64, 67, 0.15);\n",
              "      fill: #174EA6;\n",
              "    }\n",
              "\n",
              "    .colab-df-buttons div {\n",
              "      margin-bottom: 4px;\n",
              "    }\n",
              "\n",
              "    [theme=dark] .colab-df-convert {\n",
              "      background-color: #3B4455;\n",
              "      fill: #D2E3FC;\n",
              "    }\n",
              "\n",
              "    [theme=dark] .colab-df-convert:hover {\n",
              "      background-color: #434B5C;\n",
              "      box-shadow: 0px 1px 3px 1px rgba(0, 0, 0, 0.15);\n",
              "      filter: drop-shadow(0px 1px 2px rgba(0, 0, 0, 0.3));\n",
              "      fill: #FFFFFF;\n",
              "    }\n",
              "  </style>\n",
              "\n",
              "    <script>\n",
              "      const buttonEl =\n",
              "        document.querySelector('#df-9f03bb11-e690-4624-8d91-6fb557affd09 button.colab-df-convert');\n",
              "      buttonEl.style.display =\n",
              "        google.colab.kernel.accessAllowed ? 'block' : 'none';\n",
              "\n",
              "      async function convertToInteractive(key) {\n",
              "        const element = document.querySelector('#df-9f03bb11-e690-4624-8d91-6fb557affd09');\n",
              "        const dataTable =\n",
              "          await google.colab.kernel.invokeFunction('convertToInteractive',\n",
              "                                                    [key], {});\n",
              "        if (!dataTable) return;\n",
              "\n",
              "        const docLinkHtml = 'Like what you see? Visit the ' +\n",
              "          '<a target=\"_blank\" href=https://colab.research.google.com/notebooks/data_table.ipynb>data table notebook</a>'\n",
              "          + ' to learn more about interactive tables.';\n",
              "        element.innerHTML = '';\n",
              "        dataTable['output_type'] = 'display_data';\n",
              "        await google.colab.output.renderOutput(dataTable, element);\n",
              "        const docLink = document.createElement('div');\n",
              "        docLink.innerHTML = docLinkHtml;\n",
              "        element.appendChild(docLink);\n",
              "      }\n",
              "    </script>\n",
              "  </div>\n",
              "\n",
              "\n",
              "<div id=\"df-585b1782-cc7c-49a6-adcf-48328c44ec6f\">\n",
              "  <button class=\"colab-df-quickchart\" onclick=\"quickchart('df-585b1782-cc7c-49a6-adcf-48328c44ec6f')\"\n",
              "            title=\"Suggest charts\"\n",
              "            style=\"display:none;\">\n",
              "\n",
              "<svg xmlns=\"http://www.w3.org/2000/svg\" height=\"24px\"viewBox=\"0 0 24 24\"\n",
              "     width=\"24px\">\n",
              "    <g>\n",
              "        <path d=\"M19 3H5c-1.1 0-2 .9-2 2v14c0 1.1.9 2 2 2h14c1.1 0 2-.9 2-2V5c0-1.1-.9-2-2-2zM9 17H7v-7h2v7zm4 0h-2V7h2v10zm4 0h-2v-4h2v4z\"/>\n",
              "    </g>\n",
              "</svg>\n",
              "  </button>\n",
              "\n",
              "<style>\n",
              "  .colab-df-quickchart {\n",
              "      --bg-color: #E8F0FE;\n",
              "      --fill-color: #1967D2;\n",
              "      --hover-bg-color: #E2EBFA;\n",
              "      --hover-fill-color: #174EA6;\n",
              "      --disabled-fill-color: #AAA;\n",
              "      --disabled-bg-color: #DDD;\n",
              "  }\n",
              "\n",
              "  [theme=dark] .colab-df-quickchart {\n",
              "      --bg-color: #3B4455;\n",
              "      --fill-color: #D2E3FC;\n",
              "      --hover-bg-color: #434B5C;\n",
              "      --hover-fill-color: #FFFFFF;\n",
              "      --disabled-bg-color: #3B4455;\n",
              "      --disabled-fill-color: #666;\n",
              "  }\n",
              "\n",
              "  .colab-df-quickchart {\n",
              "    background-color: var(--bg-color);\n",
              "    border: none;\n",
              "    border-radius: 50%;\n",
              "    cursor: pointer;\n",
              "    display: none;\n",
              "    fill: var(--fill-color);\n",
              "    height: 32px;\n",
              "    padding: 0;\n",
              "    width: 32px;\n",
              "  }\n",
              "\n",
              "  .colab-df-quickchart:hover {\n",
              "    background-color: var(--hover-bg-color);\n",
              "    box-shadow: 0 1px 2px rgba(60, 64, 67, 0.3), 0 1px 3px 1px rgba(60, 64, 67, 0.15);\n",
              "    fill: var(--button-hover-fill-color);\n",
              "  }\n",
              "\n",
              "  .colab-df-quickchart-complete:disabled,\n",
              "  .colab-df-quickchart-complete:disabled:hover {\n",
              "    background-color: var(--disabled-bg-color);\n",
              "    fill: var(--disabled-fill-color);\n",
              "    box-shadow: none;\n",
              "  }\n",
              "\n",
              "  .colab-df-spinner {\n",
              "    border: 2px solid var(--fill-color);\n",
              "    border-color: transparent;\n",
              "    border-bottom-color: var(--fill-color);\n",
              "    animation:\n",
              "      spin 1s steps(1) infinite;\n",
              "  }\n",
              "\n",
              "  @keyframes spin {\n",
              "    0% {\n",
              "      border-color: transparent;\n",
              "      border-bottom-color: var(--fill-color);\n",
              "      border-left-color: var(--fill-color);\n",
              "    }\n",
              "    20% {\n",
              "      border-color: transparent;\n",
              "      border-left-color: var(--fill-color);\n",
              "      border-top-color: var(--fill-color);\n",
              "    }\n",
              "    30% {\n",
              "      border-color: transparent;\n",
              "      border-left-color: var(--fill-color);\n",
              "      border-top-color: var(--fill-color);\n",
              "      border-right-color: var(--fill-color);\n",
              "    }\n",
              "    40% {\n",
              "      border-color: transparent;\n",
              "      border-right-color: var(--fill-color);\n",
              "      border-top-color: var(--fill-color);\n",
              "    }\n",
              "    60% {\n",
              "      border-color: transparent;\n",
              "      border-right-color: var(--fill-color);\n",
              "    }\n",
              "    80% {\n",
              "      border-color: transparent;\n",
              "      border-right-color: var(--fill-color);\n",
              "      border-bottom-color: var(--fill-color);\n",
              "    }\n",
              "    90% {\n",
              "      border-color: transparent;\n",
              "      border-bottom-color: var(--fill-color);\n",
              "    }\n",
              "  }\n",
              "</style>\n",
              "\n",
              "  <script>\n",
              "    async function quickchart(key) {\n",
              "      const quickchartButtonEl =\n",
              "        document.querySelector('#' + key + ' button');\n",
              "      quickchartButtonEl.disabled = true;  // To prevent multiple clicks.\n",
              "      quickchartButtonEl.classList.add('colab-df-spinner');\n",
              "      try {\n",
              "        const charts = await google.colab.kernel.invokeFunction(\n",
              "            'suggestCharts', [key], {});\n",
              "      } catch (error) {\n",
              "        console.error('Error during call to suggestCharts:', error);\n",
              "      }\n",
              "      quickchartButtonEl.classList.remove('colab-df-spinner');\n",
              "      quickchartButtonEl.classList.add('colab-df-quickchart-complete');\n",
              "    }\n",
              "    (() => {\n",
              "      let quickchartButtonEl =\n",
              "        document.querySelector('#df-585b1782-cc7c-49a6-adcf-48328c44ec6f button');\n",
              "      quickchartButtonEl.style.display =\n",
              "        google.colab.kernel.accessAllowed ? 'block' : 'none';\n",
              "    })();\n",
              "  </script>\n",
              "</div>\n",
              "\n",
              "    </div>\n",
              "  </div>\n"
            ],
            "application/vnd.google.colaboratory.intrinsic+json": {
              "type": "dataframe",
              "variable_name": "df",
              "summary": "{\n  \"name\": \"df\",\n  \"rows\": 147,\n  \"fields\": [\n    {\n      \"column\": \"name\",\n      \"properties\": {\n        \"dtype\": \"object\",\n        \"num_unique_values\": 147,\n        \"samples\": [\n          \"2019-3\",\n          \"2000-4\",\n          \"2022-4\"\n        ],\n        \"semantic_type\": \"\",\n        \"description\": \"\"\n      }\n    },\n    {\n      \"column\": \"c1_dist\",\n      \"properties\": {\n        \"dtype\": \"number\",\n        \"std\": 29.041666748928204,\n        \"min\": 75.0,\n        \"max\": 246.9696338,\n        \"num_unique_values\": 147,\n        \"samples\": [\n          133.16725112693078,\n          106.2274253234832,\n          146.7276388\n        ],\n        \"semantic_type\": \"\",\n        \"description\": \"\"\n      }\n    },\n    {\n      \"column\": \"c2_dist\",\n      \"properties\": {\n        \"dtype\": \"number\",\n        \"std\": 32.89851839690145,\n        \"min\": 2.236067977,\n        \"max\": 169.5788902,\n        \"num_unique_values\": 147,\n        \"samples\": [\n          66.30023059227025,\n          20.48203476344647,\n          83.77350416\n        ],\n        \"semantic_type\": \"\",\n        \"description\": \"\"\n      }\n    },\n    {\n      \"column\": \"c3_dist\",\n      \"properties\": {\n        \"dtype\": \"number\",\n        \"std\": 126.69426191339228,\n        \"min\": 612.2091146,\n        \"max\": 1118.456079,\n        \"num_unique_values\": 147,\n        \"samples\": [\n          827.4329088000002,\n          1088.4221594564804,\n          1035.791968\n        ],\n        \"semantic_type\": \"\",\n        \"description\": \"\"\n      }\n    },\n    {\n      \"column\": \"c4_dist\",\n      \"properties\": {\n        \"dtype\": \"number\",\n        \"std\": 109.60992342042523,\n        \"min\": 599.0300493,\n        \"max\": 1090.093574,\n        \"num_unique_values\": 146,\n        \"samples\": [\n          1066.5913065382197,\n          1045.8805964044548,\n          995.0894094983112\n        ],\n        \"semantic_type\": \"\",\n        \"description\": \"\"\n      }\n    },\n    {\n      \"column\": \"c5_dist\",\n      \"properties\": {\n        \"dtype\": \"number\",\n        \"std\": 146.55752626687052,\n        \"min\": 2030.622072,\n        \"max\": 2572.616567,\n        \"num_unique_values\": 147,\n        \"samples\": [\n          2358.2916885,\n          2559.747234395644,\n          2458.158864\n        ],\n        \"semantic_type\": \"\",\n        \"description\": \"\"\n      }\n    },\n    {\n      \"column\": \"c6_dist\",\n      \"properties\": {\n        \"dtype\": \"number\",\n        \"std\": 152.92863687750676,\n        \"min\": 2170.889449,\n        \"max\": 2748.070232,\n        \"num_unique_values\": 147,\n        \"samples\": [\n          2544.042355,\n          2737.7665292726238,\n          2522.134017\n        ],\n        \"semantic_type\": \"\",\n        \"description\": \"\"\n      }\n    },\n    {\n      \"column\": \"c7_dist\",\n      \"properties\": {\n        \"dtype\": \"number\",\n        \"std\": 111.44560740530886,\n        \"min\": 1685.584172,\n        \"max\": 2197.682643,\n        \"num_unique_values\": 142,\n        \"samples\": [\n          2050.475311,\n          1758.820146256,\n          1998.2874670389056\n        ],\n        \"semantic_type\": \"\",\n        \"description\": \"\"\n      }\n    },\n    {\n      \"column\": \"c8_dist\",\n      \"properties\": {\n        \"dtype\": \"number\",\n        \"std\": 111.25690201641143,\n        \"min\": 1889.040497,\n        \"max\": 2400.496824,\n        \"num_unique_values\": 142,\n        \"samples\": [\n          2235.497484,\n          1954.901562144,\n          2173.8383321145348\n        ],\n        \"semantic_type\": \"\",\n        \"description\": \"\"\n      }\n    }\n  ]\n}"
            }
          },
          "metadata": {},
          "execution_count": 4
        }
      ]
    },
    {
      "cell_type": "markdown",
      "source": [
        "# For all control points\n"
      ],
      "metadata": {
        "id": "FgYujOTa2JF9"
      }
    },
    {
      "cell_type": "code",
      "source": [
        "df['year'] = df['name'].apply(lambda x: int(x.split('-')[0]))\n",
        "df['quarter'] = df['name'].apply(lambda x: int(x.split('-')[1]))\n"
      ],
      "metadata": {
        "id": "JT1tr2itMsSF"
      },
      "execution_count": null,
      "outputs": []
    },
    {
      "cell_type": "code",
      "source": [
        "def add_time_features(df, scaler):\n",
        "    # Cyclical encoding for quarter\n",
        "    df['quarter_sin'] = np.sin(2 * np.pi * df['quarter'] / 4)\n",
        "    df['quarter_cos'] = np.cos(2 * np.pi * df['quarter'] / 4)\n",
        "\n",
        "    # # Cyclical encoding for year (you can normalize the year value if needed)\n",
        "    # df['year_sin'] = np.sin(2 * np.pi * (df['year'] - df['year'].min()) / (df['year'].max() - df['year'].min()))\n",
        "    # df['year_cos'] = np.cos(2 * np.pi * (df['year'] - df['year'].min()) / (df['year'].max() - df['year'].min()))\n",
        "\n",
        "    df['year_scaled'] = scaler.fit_transform(df[['year']])  # Use double brackets to make it 2D    return df\n",
        "\n",
        "    return df"
      ],
      "metadata": {
        "id": "Pdzv7VMaBI75"
      },
      "execution_count": null,
      "outputs": []
    },
    {
      "cell_type": "code",
      "source": [
        "from sklearn.preprocessing import StandardScaler\n",
        "\n",
        "scaler_year = StandardScaler()\n",
        "df = add_time_features(df, scaler_year)"
      ],
      "metadata": {
        "id": "Xaha2lFcBfkc"
      },
      "execution_count": null,
      "outputs": []
    },
    {
      "cell_type": "code",
      "source": [
        "df.head()"
      ],
      "metadata": {
        "colab": {
          "base_uri": "https://localhost:8080/",
          "height": 226
        },
        "id": "Wz81JSf4GlEY",
        "outputId": "e9c30c69-22b7-4f1b-fd19-45cf02e90b0e"
      },
      "execution_count": null,
      "outputs": [
        {
          "output_type": "execute_result",
          "data": {
            "text/plain": [
              "     name    c1_dist    c2_dist      c3_dist      c4_dist      c5_dist  \\\n",
              "0  1988-1  80.622577   2.236068  1118.456079  1087.443332  2572.616567   \n",
              "1  1988-2  89.201242   8.732515  1112.007378  1089.762294  2571.456646   \n",
              "2  1988-3  90.426766  10.770330  1091.650127  1090.093574  2567.532084   \n",
              "3  1988-4  75.000000   8.062258   892.453360   968.810095  2475.422590   \n",
              "4  1989-1  75.485233   8.156297   852.133189   926.992124  2424.462205   \n",
              "\n",
              "       c6_dist      c7_dist      c8_dist  year  quarter   quarter_sin  \\\n",
              "0  2748.070232  2197.682643  2400.496824  1988        1  1.000000e+00   \n",
              "1  2747.082249  2190.347995  2392.594177  1988        2  1.224647e-16   \n",
              "2  2743.753998  2166.673026  2367.186516  1988        3 -1.000000e+00   \n",
              "3  2671.696465  1879.447259  2071.386251  1988        4 -2.449294e-16   \n",
              "4  2622.730393  1848.250870  2040.697558  1989        1  1.000000e+00   \n",
              "\n",
              "    quarter_cos  year_scaled  \n",
              "0  6.123234e-17    -1.678160  \n",
              "1 -1.000000e+00    -1.678160  \n",
              "2 -1.836970e-16    -1.678160  \n",
              "3  1.000000e+00    -1.678160  \n",
              "4  6.123234e-17    -1.584681  "
            ],
            "text/html": [
              "\n",
              "  <div id=\"df-1b45409e-0ec9-4811-b8cf-75fb03f56c59\" class=\"colab-df-container\">\n",
              "    <div>\n",
              "<style scoped>\n",
              "    .dataframe tbody tr th:only-of-type {\n",
              "        vertical-align: middle;\n",
              "    }\n",
              "\n",
              "    .dataframe tbody tr th {\n",
              "        vertical-align: top;\n",
              "    }\n",
              "\n",
              "    .dataframe thead th {\n",
              "        text-align: right;\n",
              "    }\n",
              "</style>\n",
              "<table border=\"1\" class=\"dataframe\">\n",
              "  <thead>\n",
              "    <tr style=\"text-align: right;\">\n",
              "      <th></th>\n",
              "      <th>name</th>\n",
              "      <th>c1_dist</th>\n",
              "      <th>c2_dist</th>\n",
              "      <th>c3_dist</th>\n",
              "      <th>c4_dist</th>\n",
              "      <th>c5_dist</th>\n",
              "      <th>c6_dist</th>\n",
              "      <th>c7_dist</th>\n",
              "      <th>c8_dist</th>\n",
              "      <th>year</th>\n",
              "      <th>quarter</th>\n",
              "      <th>quarter_sin</th>\n",
              "      <th>quarter_cos</th>\n",
              "      <th>year_scaled</th>\n",
              "    </tr>\n",
              "  </thead>\n",
              "  <tbody>\n",
              "    <tr>\n",
              "      <th>0</th>\n",
              "      <td>1988-1</td>\n",
              "      <td>80.622577</td>\n",
              "      <td>2.236068</td>\n",
              "      <td>1118.456079</td>\n",
              "      <td>1087.443332</td>\n",
              "      <td>2572.616567</td>\n",
              "      <td>2748.070232</td>\n",
              "      <td>2197.682643</td>\n",
              "      <td>2400.496824</td>\n",
              "      <td>1988</td>\n",
              "      <td>1</td>\n",
              "      <td>1.000000e+00</td>\n",
              "      <td>6.123234e-17</td>\n",
              "      <td>-1.678160</td>\n",
              "    </tr>\n",
              "    <tr>\n",
              "      <th>1</th>\n",
              "      <td>1988-2</td>\n",
              "      <td>89.201242</td>\n",
              "      <td>8.732515</td>\n",
              "      <td>1112.007378</td>\n",
              "      <td>1089.762294</td>\n",
              "      <td>2571.456646</td>\n",
              "      <td>2747.082249</td>\n",
              "      <td>2190.347995</td>\n",
              "      <td>2392.594177</td>\n",
              "      <td>1988</td>\n",
              "      <td>2</td>\n",
              "      <td>1.224647e-16</td>\n",
              "      <td>-1.000000e+00</td>\n",
              "      <td>-1.678160</td>\n",
              "    </tr>\n",
              "    <tr>\n",
              "      <th>2</th>\n",
              "      <td>1988-3</td>\n",
              "      <td>90.426766</td>\n",
              "      <td>10.770330</td>\n",
              "      <td>1091.650127</td>\n",
              "      <td>1090.093574</td>\n",
              "      <td>2567.532084</td>\n",
              "      <td>2743.753998</td>\n",
              "      <td>2166.673026</td>\n",
              "      <td>2367.186516</td>\n",
              "      <td>1988</td>\n",
              "      <td>3</td>\n",
              "      <td>-1.000000e+00</td>\n",
              "      <td>-1.836970e-16</td>\n",
              "      <td>-1.678160</td>\n",
              "    </tr>\n",
              "    <tr>\n",
              "      <th>3</th>\n",
              "      <td>1988-4</td>\n",
              "      <td>75.000000</td>\n",
              "      <td>8.062258</td>\n",
              "      <td>892.453360</td>\n",
              "      <td>968.810095</td>\n",
              "      <td>2475.422590</td>\n",
              "      <td>2671.696465</td>\n",
              "      <td>1879.447259</td>\n",
              "      <td>2071.386251</td>\n",
              "      <td>1988</td>\n",
              "      <td>4</td>\n",
              "      <td>-2.449294e-16</td>\n",
              "      <td>1.000000e+00</td>\n",
              "      <td>-1.678160</td>\n",
              "    </tr>\n",
              "    <tr>\n",
              "      <th>4</th>\n",
              "      <td>1989-1</td>\n",
              "      <td>75.485233</td>\n",
              "      <td>8.156297</td>\n",
              "      <td>852.133189</td>\n",
              "      <td>926.992124</td>\n",
              "      <td>2424.462205</td>\n",
              "      <td>2622.730393</td>\n",
              "      <td>1848.250870</td>\n",
              "      <td>2040.697558</td>\n",
              "      <td>1989</td>\n",
              "      <td>1</td>\n",
              "      <td>1.000000e+00</td>\n",
              "      <td>6.123234e-17</td>\n",
              "      <td>-1.584681</td>\n",
              "    </tr>\n",
              "  </tbody>\n",
              "</table>\n",
              "</div>\n",
              "    <div class=\"colab-df-buttons\">\n",
              "\n",
              "  <div class=\"colab-df-container\">\n",
              "    <button class=\"colab-df-convert\" onclick=\"convertToInteractive('df-1b45409e-0ec9-4811-b8cf-75fb03f56c59')\"\n",
              "            title=\"Convert this dataframe to an interactive table.\"\n",
              "            style=\"display:none;\">\n",
              "\n",
              "  <svg xmlns=\"http://www.w3.org/2000/svg\" height=\"24px\" viewBox=\"0 -960 960 960\">\n",
              "    <path d=\"M120-120v-720h720v720H120Zm60-500h600v-160H180v160Zm220 220h160v-160H400v160Zm0 220h160v-160H400v160ZM180-400h160v-160H180v160Zm440 0h160v-160H620v160ZM180-180h160v-160H180v160Zm440 0h160v-160H620v160Z\"/>\n",
              "  </svg>\n",
              "    </button>\n",
              "\n",
              "  <style>\n",
              "    .colab-df-container {\n",
              "      display:flex;\n",
              "      gap: 12px;\n",
              "    }\n",
              "\n",
              "    .colab-df-convert {\n",
              "      background-color: #E8F0FE;\n",
              "      border: none;\n",
              "      border-radius: 50%;\n",
              "      cursor: pointer;\n",
              "      display: none;\n",
              "      fill: #1967D2;\n",
              "      height: 32px;\n",
              "      padding: 0 0 0 0;\n",
              "      width: 32px;\n",
              "    }\n",
              "\n",
              "    .colab-df-convert:hover {\n",
              "      background-color: #E2EBFA;\n",
              "      box-shadow: 0px 1px 2px rgba(60, 64, 67, 0.3), 0px 1px 3px 1px rgba(60, 64, 67, 0.15);\n",
              "      fill: #174EA6;\n",
              "    }\n",
              "\n",
              "    .colab-df-buttons div {\n",
              "      margin-bottom: 4px;\n",
              "    }\n",
              "\n",
              "    [theme=dark] .colab-df-convert {\n",
              "      background-color: #3B4455;\n",
              "      fill: #D2E3FC;\n",
              "    }\n",
              "\n",
              "    [theme=dark] .colab-df-convert:hover {\n",
              "      background-color: #434B5C;\n",
              "      box-shadow: 0px 1px 3px 1px rgba(0, 0, 0, 0.15);\n",
              "      filter: drop-shadow(0px 1px 2px rgba(0, 0, 0, 0.3));\n",
              "      fill: #FFFFFF;\n",
              "    }\n",
              "  </style>\n",
              "\n",
              "    <script>\n",
              "      const buttonEl =\n",
              "        document.querySelector('#df-1b45409e-0ec9-4811-b8cf-75fb03f56c59 button.colab-df-convert');\n",
              "      buttonEl.style.display =\n",
              "        google.colab.kernel.accessAllowed ? 'block' : 'none';\n",
              "\n",
              "      async function convertToInteractive(key) {\n",
              "        const element = document.querySelector('#df-1b45409e-0ec9-4811-b8cf-75fb03f56c59');\n",
              "        const dataTable =\n",
              "          await google.colab.kernel.invokeFunction('convertToInteractive',\n",
              "                                                    [key], {});\n",
              "        if (!dataTable) return;\n",
              "\n",
              "        const docLinkHtml = 'Like what you see? Visit the ' +\n",
              "          '<a target=\"_blank\" href=https://colab.research.google.com/notebooks/data_table.ipynb>data table notebook</a>'\n",
              "          + ' to learn more about interactive tables.';\n",
              "        element.innerHTML = '';\n",
              "        dataTable['output_type'] = 'display_data';\n",
              "        await google.colab.output.renderOutput(dataTable, element);\n",
              "        const docLink = document.createElement('div');\n",
              "        docLink.innerHTML = docLinkHtml;\n",
              "        element.appendChild(docLink);\n",
              "      }\n",
              "    </script>\n",
              "  </div>\n",
              "\n",
              "\n",
              "<div id=\"df-7a5f503d-9f62-40db-b83c-db380d366ef2\">\n",
              "  <button class=\"colab-df-quickchart\" onclick=\"quickchart('df-7a5f503d-9f62-40db-b83c-db380d366ef2')\"\n",
              "            title=\"Suggest charts\"\n",
              "            style=\"display:none;\">\n",
              "\n",
              "<svg xmlns=\"http://www.w3.org/2000/svg\" height=\"24px\"viewBox=\"0 0 24 24\"\n",
              "     width=\"24px\">\n",
              "    <g>\n",
              "        <path d=\"M19 3H5c-1.1 0-2 .9-2 2v14c0 1.1.9 2 2 2h14c1.1 0 2-.9 2-2V5c0-1.1-.9-2-2-2zM9 17H7v-7h2v7zm4 0h-2V7h2v10zm4 0h-2v-4h2v4z\"/>\n",
              "    </g>\n",
              "</svg>\n",
              "  </button>\n",
              "\n",
              "<style>\n",
              "  .colab-df-quickchart {\n",
              "      --bg-color: #E8F0FE;\n",
              "      --fill-color: #1967D2;\n",
              "      --hover-bg-color: #E2EBFA;\n",
              "      --hover-fill-color: #174EA6;\n",
              "      --disabled-fill-color: #AAA;\n",
              "      --disabled-bg-color: #DDD;\n",
              "  }\n",
              "\n",
              "  [theme=dark] .colab-df-quickchart {\n",
              "      --bg-color: #3B4455;\n",
              "      --fill-color: #D2E3FC;\n",
              "      --hover-bg-color: #434B5C;\n",
              "      --hover-fill-color: #FFFFFF;\n",
              "      --disabled-bg-color: #3B4455;\n",
              "      --disabled-fill-color: #666;\n",
              "  }\n",
              "\n",
              "  .colab-df-quickchart {\n",
              "    background-color: var(--bg-color);\n",
              "    border: none;\n",
              "    border-radius: 50%;\n",
              "    cursor: pointer;\n",
              "    display: none;\n",
              "    fill: var(--fill-color);\n",
              "    height: 32px;\n",
              "    padding: 0;\n",
              "    width: 32px;\n",
              "  }\n",
              "\n",
              "  .colab-df-quickchart:hover {\n",
              "    background-color: var(--hover-bg-color);\n",
              "    box-shadow: 0 1px 2px rgba(60, 64, 67, 0.3), 0 1px 3px 1px rgba(60, 64, 67, 0.15);\n",
              "    fill: var(--button-hover-fill-color);\n",
              "  }\n",
              "\n",
              "  .colab-df-quickchart-complete:disabled,\n",
              "  .colab-df-quickchart-complete:disabled:hover {\n",
              "    background-color: var(--disabled-bg-color);\n",
              "    fill: var(--disabled-fill-color);\n",
              "    box-shadow: none;\n",
              "  }\n",
              "\n",
              "  .colab-df-spinner {\n",
              "    border: 2px solid var(--fill-color);\n",
              "    border-color: transparent;\n",
              "    border-bottom-color: var(--fill-color);\n",
              "    animation:\n",
              "      spin 1s steps(1) infinite;\n",
              "  }\n",
              "\n",
              "  @keyframes spin {\n",
              "    0% {\n",
              "      border-color: transparent;\n",
              "      border-bottom-color: var(--fill-color);\n",
              "      border-left-color: var(--fill-color);\n",
              "    }\n",
              "    20% {\n",
              "      border-color: transparent;\n",
              "      border-left-color: var(--fill-color);\n",
              "      border-top-color: var(--fill-color);\n",
              "    }\n",
              "    30% {\n",
              "      border-color: transparent;\n",
              "      border-left-color: var(--fill-color);\n",
              "      border-top-color: var(--fill-color);\n",
              "      border-right-color: var(--fill-color);\n",
              "    }\n",
              "    40% {\n",
              "      border-color: transparent;\n",
              "      border-right-color: var(--fill-color);\n",
              "      border-top-color: var(--fill-color);\n",
              "    }\n",
              "    60% {\n",
              "      border-color: transparent;\n",
              "      border-right-color: var(--fill-color);\n",
              "    }\n",
              "    80% {\n",
              "      border-color: transparent;\n",
              "      border-right-color: var(--fill-color);\n",
              "      border-bottom-color: var(--fill-color);\n",
              "    }\n",
              "    90% {\n",
              "      border-color: transparent;\n",
              "      border-bottom-color: var(--fill-color);\n",
              "    }\n",
              "  }\n",
              "</style>\n",
              "\n",
              "  <script>\n",
              "    async function quickchart(key) {\n",
              "      const quickchartButtonEl =\n",
              "        document.querySelector('#' + key + ' button');\n",
              "      quickchartButtonEl.disabled = true;  // To prevent multiple clicks.\n",
              "      quickchartButtonEl.classList.add('colab-df-spinner');\n",
              "      try {\n",
              "        const charts = await google.colab.kernel.invokeFunction(\n",
              "            'suggestCharts', [key], {});\n",
              "      } catch (error) {\n",
              "        console.error('Error during call to suggestCharts:', error);\n",
              "      }\n",
              "      quickchartButtonEl.classList.remove('colab-df-spinner');\n",
              "      quickchartButtonEl.classList.add('colab-df-quickchart-complete');\n",
              "    }\n",
              "    (() => {\n",
              "      let quickchartButtonEl =\n",
              "        document.querySelector('#df-7a5f503d-9f62-40db-b83c-db380d366ef2 button');\n",
              "      quickchartButtonEl.style.display =\n",
              "        google.colab.kernel.accessAllowed ? 'block' : 'none';\n",
              "    })();\n",
              "  </script>\n",
              "</div>\n",
              "\n",
              "    </div>\n",
              "  </div>\n"
            ],
            "application/vnd.google.colaboratory.intrinsic+json": {
              "type": "dataframe",
              "variable_name": "df",
              "summary": "{\n  \"name\": \"df\",\n  \"rows\": 147,\n  \"fields\": [\n    {\n      \"column\": \"name\",\n      \"properties\": {\n        \"dtype\": \"object\",\n        \"num_unique_values\": 147,\n        \"samples\": [\n          \"2019-3\",\n          \"2000-4\",\n          \"2022-4\"\n        ],\n        \"semantic_type\": \"\",\n        \"description\": \"\"\n      }\n    },\n    {\n      \"column\": \"c1_dist\",\n      \"properties\": {\n        \"dtype\": \"number\",\n        \"std\": 29.041666748928204,\n        \"min\": 75.0,\n        \"max\": 246.9696338,\n        \"num_unique_values\": 147,\n        \"samples\": [\n          133.16725112693078,\n          106.2274253234832,\n          146.7276388\n        ],\n        \"semantic_type\": \"\",\n        \"description\": \"\"\n      }\n    },\n    {\n      \"column\": \"c2_dist\",\n      \"properties\": {\n        \"dtype\": \"number\",\n        \"std\": 32.89851839690145,\n        \"min\": 2.236067977,\n        \"max\": 169.5788902,\n        \"num_unique_values\": 147,\n        \"samples\": [\n          66.30023059227025,\n          20.48203476344647,\n          83.77350416\n        ],\n        \"semantic_type\": \"\",\n        \"description\": \"\"\n      }\n    },\n    {\n      \"column\": \"c3_dist\",\n      \"properties\": {\n        \"dtype\": \"number\",\n        \"std\": 126.69426191339228,\n        \"min\": 612.2091146,\n        \"max\": 1118.456079,\n        \"num_unique_values\": 147,\n        \"samples\": [\n          827.4329088000002,\n          1088.4221594564804,\n          1035.791968\n        ],\n        \"semantic_type\": \"\",\n        \"description\": \"\"\n      }\n    },\n    {\n      \"column\": \"c4_dist\",\n      \"properties\": {\n        \"dtype\": \"number\",\n        \"std\": 109.60992342042523,\n        \"min\": 599.0300493,\n        \"max\": 1090.093574,\n        \"num_unique_values\": 146,\n        \"samples\": [\n          1066.5913065382197,\n          1045.8805964044548,\n          995.0894094983112\n        ],\n        \"semantic_type\": \"\",\n        \"description\": \"\"\n      }\n    },\n    {\n      \"column\": \"c5_dist\",\n      \"properties\": {\n        \"dtype\": \"number\",\n        \"std\": 146.55752626687052,\n        \"min\": 2030.622072,\n        \"max\": 2572.616567,\n        \"num_unique_values\": 147,\n        \"samples\": [\n          2358.2916885,\n          2559.747234395644,\n          2458.158864\n        ],\n        \"semantic_type\": \"\",\n        \"description\": \"\"\n      }\n    },\n    {\n      \"column\": \"c6_dist\",\n      \"properties\": {\n        \"dtype\": \"number\",\n        \"std\": 152.92863687750676,\n        \"min\": 2170.889449,\n        \"max\": 2748.070232,\n        \"num_unique_values\": 147,\n        \"samples\": [\n          2544.042355,\n          2737.7665292726238,\n          2522.134017\n        ],\n        \"semantic_type\": \"\",\n        \"description\": \"\"\n      }\n    },\n    {\n      \"column\": \"c7_dist\",\n      \"properties\": {\n        \"dtype\": \"number\",\n        \"std\": 111.44560740530886,\n        \"min\": 1685.584172,\n        \"max\": 2197.682643,\n        \"num_unique_values\": 142,\n        \"samples\": [\n          2050.475311,\n          1758.820146256,\n          1998.2874670389056\n        ],\n        \"semantic_type\": \"\",\n        \"description\": \"\"\n      }\n    },\n    {\n      \"column\": \"c8_dist\",\n      \"properties\": {\n        \"dtype\": \"number\",\n        \"std\": 111.25690201641143,\n        \"min\": 1889.040497,\n        \"max\": 2400.496824,\n        \"num_unique_values\": 142,\n        \"samples\": [\n          2235.497484,\n          1954.901562144,\n          2173.8383321145348\n        ],\n        \"semantic_type\": \"\",\n        \"description\": \"\"\n      }\n    },\n    {\n      \"column\": \"year\",\n      \"properties\": {\n        \"dtype\": \"number\",\n        \"std\": 10,\n        \"min\": 1988,\n        \"max\": 2024,\n        \"num_unique_values\": 37,\n        \"samples\": [\n          2005,\n          2001,\n          1992\n        ],\n        \"semantic_type\": \"\",\n        \"description\": \"\"\n      }\n    },\n    {\n      \"column\": \"quarter\",\n      \"properties\": {\n        \"dtype\": \"number\",\n        \"std\": 1,\n        \"min\": 1,\n        \"max\": 4,\n        \"num_unique_values\": 4,\n        \"samples\": [\n          2,\n          4,\n          1\n        ],\n        \"semantic_type\": \"\",\n        \"description\": \"\"\n      }\n    },\n    {\n      \"column\": \"quarter_sin\",\n      \"properties\": {\n        \"dtype\": \"number\",\n        \"std\": 0.7119335046677415,\n        \"min\": -1.0,\n        \"max\": 1.0,\n        \"num_unique_values\": 4,\n        \"samples\": [\n          1.2246467991473532e-16,\n          -2.4492935982947064e-16,\n          1.0\n        ],\n        \"semantic_type\": \"\",\n        \"description\": \"\"\n      }\n    },\n    {\n      \"column\": \"quarter_cos\",\n      \"properties\": {\n        \"dtype\": \"number\",\n        \"std\": 0.7070738334996866,\n        \"min\": -1.0,\n        \"max\": 1.0,\n        \"num_unique_values\": 4,\n        \"samples\": [\n          -1.0,\n          1.0,\n          6.123233995736766e-17\n        ],\n        \"semantic_type\": \"\",\n        \"description\": \"\"\n      }\n    },\n    {\n      \"column\": \"year_scaled\",\n      \"properties\": {\n        \"dtype\": \"number\",\n        \"std\": 1.0034188133917432,\n        \"min\": -1.6781597597140177,\n        \"max\": 1.6870624640095806,\n        \"num_unique_values\": 37,\n        \"samples\": [\n          -0.08902704295565175,\n          -0.4629406233693849,\n          -1.3042461793002844\n        ],\n        \"semantic_type\": \"\",\n        \"description\": \"\"\n      }\n    }\n  ]\n}"
            }
          },
          "metadata": {},
          "execution_count": 9
        }
      ]
    },
    {
      "cell_type": "code",
      "source": [
        "features = ['year_scaled', 'quarter_sin','quarter_cos']\n",
        "X = df[features]\n",
        "y = df[['c1_dist', 'c2_dist', 'c3_dist', 'c4_dist','c7_dist', 'c8_dist']]\n"
      ],
      "metadata": {
        "id": "5f37cMswBPdE"
      },
      "execution_count": null,
      "outputs": []
    },
    {
      "cell_type": "code",
      "source": [
        "y.head()"
      ],
      "metadata": {
        "colab": {
          "base_uri": "https://localhost:8080/",
          "height": 226
        },
        "id": "0du27COYGtIY",
        "outputId": "7e3a1cab-d3de-4408-e07c-e3b99f45d11e"
      },
      "execution_count": null,
      "outputs": [
        {
          "output_type": "execute_result",
          "data": {
            "text/plain": [
              "     c1_dist    c2_dist      c3_dist      c4_dist      c5_dist      c6_dist  \\\n",
              "0  80.622577   2.236068  1118.456079  1087.443332  2572.616567  2748.070232   \n",
              "1  89.201242   8.732515  1112.007378  1089.762294  2571.456646  2747.082249   \n",
              "2  90.426766  10.770330  1091.650127  1090.093574  2567.532084  2743.753998   \n",
              "3  75.000000   8.062258   892.453360   968.810095  2475.422590  2671.696465   \n",
              "4  75.485233   8.156297   852.133189   926.992124  2424.462205  2622.730393   \n",
              "\n",
              "       c7_dist      c8_dist  \n",
              "0  2197.682643  2400.496824  \n",
              "1  2190.347995  2392.594177  \n",
              "2  2166.673026  2367.186516  \n",
              "3  1879.447259  2071.386251  \n",
              "4  1848.250870  2040.697558  "
            ],
            "text/html": [
              "\n",
              "  <div id=\"df-be3c31f5-e2cf-492a-ab1c-915c5a698ad3\" class=\"colab-df-container\">\n",
              "    <div>\n",
              "<style scoped>\n",
              "    .dataframe tbody tr th:only-of-type {\n",
              "        vertical-align: middle;\n",
              "    }\n",
              "\n",
              "    .dataframe tbody tr th {\n",
              "        vertical-align: top;\n",
              "    }\n",
              "\n",
              "    .dataframe thead th {\n",
              "        text-align: right;\n",
              "    }\n",
              "</style>\n",
              "<table border=\"1\" class=\"dataframe\">\n",
              "  <thead>\n",
              "    <tr style=\"text-align: right;\">\n",
              "      <th></th>\n",
              "      <th>c1_dist</th>\n",
              "      <th>c2_dist</th>\n",
              "      <th>c3_dist</th>\n",
              "      <th>c4_dist</th>\n",
              "      <th>c5_dist</th>\n",
              "      <th>c6_dist</th>\n",
              "      <th>c7_dist</th>\n",
              "      <th>c8_dist</th>\n",
              "    </tr>\n",
              "  </thead>\n",
              "  <tbody>\n",
              "    <tr>\n",
              "      <th>0</th>\n",
              "      <td>80.622577</td>\n",
              "      <td>2.236068</td>\n",
              "      <td>1118.456079</td>\n",
              "      <td>1087.443332</td>\n",
              "      <td>2572.616567</td>\n",
              "      <td>2748.070232</td>\n",
              "      <td>2197.682643</td>\n",
              "      <td>2400.496824</td>\n",
              "    </tr>\n",
              "    <tr>\n",
              "      <th>1</th>\n",
              "      <td>89.201242</td>\n",
              "      <td>8.732515</td>\n",
              "      <td>1112.007378</td>\n",
              "      <td>1089.762294</td>\n",
              "      <td>2571.456646</td>\n",
              "      <td>2747.082249</td>\n",
              "      <td>2190.347995</td>\n",
              "      <td>2392.594177</td>\n",
              "    </tr>\n",
              "    <tr>\n",
              "      <th>2</th>\n",
              "      <td>90.426766</td>\n",
              "      <td>10.770330</td>\n",
              "      <td>1091.650127</td>\n",
              "      <td>1090.093574</td>\n",
              "      <td>2567.532084</td>\n",
              "      <td>2743.753998</td>\n",
              "      <td>2166.673026</td>\n",
              "      <td>2367.186516</td>\n",
              "    </tr>\n",
              "    <tr>\n",
              "      <th>3</th>\n",
              "      <td>75.000000</td>\n",
              "      <td>8.062258</td>\n",
              "      <td>892.453360</td>\n",
              "      <td>968.810095</td>\n",
              "      <td>2475.422590</td>\n",
              "      <td>2671.696465</td>\n",
              "      <td>1879.447259</td>\n",
              "      <td>2071.386251</td>\n",
              "    </tr>\n",
              "    <tr>\n",
              "      <th>4</th>\n",
              "      <td>75.485233</td>\n",
              "      <td>8.156297</td>\n",
              "      <td>852.133189</td>\n",
              "      <td>926.992124</td>\n",
              "      <td>2424.462205</td>\n",
              "      <td>2622.730393</td>\n",
              "      <td>1848.250870</td>\n",
              "      <td>2040.697558</td>\n",
              "    </tr>\n",
              "  </tbody>\n",
              "</table>\n",
              "</div>\n",
              "    <div class=\"colab-df-buttons\">\n",
              "\n",
              "  <div class=\"colab-df-container\">\n",
              "    <button class=\"colab-df-convert\" onclick=\"convertToInteractive('df-be3c31f5-e2cf-492a-ab1c-915c5a698ad3')\"\n",
              "            title=\"Convert this dataframe to an interactive table.\"\n",
              "            style=\"display:none;\">\n",
              "\n",
              "  <svg xmlns=\"http://www.w3.org/2000/svg\" height=\"24px\" viewBox=\"0 -960 960 960\">\n",
              "    <path d=\"M120-120v-720h720v720H120Zm60-500h600v-160H180v160Zm220 220h160v-160H400v160Zm0 220h160v-160H400v160ZM180-400h160v-160H180v160Zm440 0h160v-160H620v160ZM180-180h160v-160H180v160Zm440 0h160v-160H620v160Z\"/>\n",
              "  </svg>\n",
              "    </button>\n",
              "\n",
              "  <style>\n",
              "    .colab-df-container {\n",
              "      display:flex;\n",
              "      gap: 12px;\n",
              "    }\n",
              "\n",
              "    .colab-df-convert {\n",
              "      background-color: #E8F0FE;\n",
              "      border: none;\n",
              "      border-radius: 50%;\n",
              "      cursor: pointer;\n",
              "      display: none;\n",
              "      fill: #1967D2;\n",
              "      height: 32px;\n",
              "      padding: 0 0 0 0;\n",
              "      width: 32px;\n",
              "    }\n",
              "\n",
              "    .colab-df-convert:hover {\n",
              "      background-color: #E2EBFA;\n",
              "      box-shadow: 0px 1px 2px rgba(60, 64, 67, 0.3), 0px 1px 3px 1px rgba(60, 64, 67, 0.15);\n",
              "      fill: #174EA6;\n",
              "    }\n",
              "\n",
              "    .colab-df-buttons div {\n",
              "      margin-bottom: 4px;\n",
              "    }\n",
              "\n",
              "    [theme=dark] .colab-df-convert {\n",
              "      background-color: #3B4455;\n",
              "      fill: #D2E3FC;\n",
              "    }\n",
              "\n",
              "    [theme=dark] .colab-df-convert:hover {\n",
              "      background-color: #434B5C;\n",
              "      box-shadow: 0px 1px 3px 1px rgba(0, 0, 0, 0.15);\n",
              "      filter: drop-shadow(0px 1px 2px rgba(0, 0, 0, 0.3));\n",
              "      fill: #FFFFFF;\n",
              "    }\n",
              "  </style>\n",
              "\n",
              "    <script>\n",
              "      const buttonEl =\n",
              "        document.querySelector('#df-be3c31f5-e2cf-492a-ab1c-915c5a698ad3 button.colab-df-convert');\n",
              "      buttonEl.style.display =\n",
              "        google.colab.kernel.accessAllowed ? 'block' : 'none';\n",
              "\n",
              "      async function convertToInteractive(key) {\n",
              "        const element = document.querySelector('#df-be3c31f5-e2cf-492a-ab1c-915c5a698ad3');\n",
              "        const dataTable =\n",
              "          await google.colab.kernel.invokeFunction('convertToInteractive',\n",
              "                                                    [key], {});\n",
              "        if (!dataTable) return;\n",
              "\n",
              "        const docLinkHtml = 'Like what you see? Visit the ' +\n",
              "          '<a target=\"_blank\" href=https://colab.research.google.com/notebooks/data_table.ipynb>data table notebook</a>'\n",
              "          + ' to learn more about interactive tables.';\n",
              "        element.innerHTML = '';\n",
              "        dataTable['output_type'] = 'display_data';\n",
              "        await google.colab.output.renderOutput(dataTable, element);\n",
              "        const docLink = document.createElement('div');\n",
              "        docLink.innerHTML = docLinkHtml;\n",
              "        element.appendChild(docLink);\n",
              "      }\n",
              "    </script>\n",
              "  </div>\n",
              "\n",
              "\n",
              "<div id=\"df-be7cff78-fcc9-4de0-b06d-1eadd7347404\">\n",
              "  <button class=\"colab-df-quickchart\" onclick=\"quickchart('df-be7cff78-fcc9-4de0-b06d-1eadd7347404')\"\n",
              "            title=\"Suggest charts\"\n",
              "            style=\"display:none;\">\n",
              "\n",
              "<svg xmlns=\"http://www.w3.org/2000/svg\" height=\"24px\"viewBox=\"0 0 24 24\"\n",
              "     width=\"24px\">\n",
              "    <g>\n",
              "        <path d=\"M19 3H5c-1.1 0-2 .9-2 2v14c0 1.1.9 2 2 2h14c1.1 0 2-.9 2-2V5c0-1.1-.9-2-2-2zM9 17H7v-7h2v7zm4 0h-2V7h2v10zm4 0h-2v-4h2v4z\"/>\n",
              "    </g>\n",
              "</svg>\n",
              "  </button>\n",
              "\n",
              "<style>\n",
              "  .colab-df-quickchart {\n",
              "      --bg-color: #E8F0FE;\n",
              "      --fill-color: #1967D2;\n",
              "      --hover-bg-color: #E2EBFA;\n",
              "      --hover-fill-color: #174EA6;\n",
              "      --disabled-fill-color: #AAA;\n",
              "      --disabled-bg-color: #DDD;\n",
              "  }\n",
              "\n",
              "  [theme=dark] .colab-df-quickchart {\n",
              "      --bg-color: #3B4455;\n",
              "      --fill-color: #D2E3FC;\n",
              "      --hover-bg-color: #434B5C;\n",
              "      --hover-fill-color: #FFFFFF;\n",
              "      --disabled-bg-color: #3B4455;\n",
              "      --disabled-fill-color: #666;\n",
              "  }\n",
              "\n",
              "  .colab-df-quickchart {\n",
              "    background-color: var(--bg-color);\n",
              "    border: none;\n",
              "    border-radius: 50%;\n",
              "    cursor: pointer;\n",
              "    display: none;\n",
              "    fill: var(--fill-color);\n",
              "    height: 32px;\n",
              "    padding: 0;\n",
              "    width: 32px;\n",
              "  }\n",
              "\n",
              "  .colab-df-quickchart:hover {\n",
              "    background-color: var(--hover-bg-color);\n",
              "    box-shadow: 0 1px 2px rgba(60, 64, 67, 0.3), 0 1px 3px 1px rgba(60, 64, 67, 0.15);\n",
              "    fill: var(--button-hover-fill-color);\n",
              "  }\n",
              "\n",
              "  .colab-df-quickchart-complete:disabled,\n",
              "  .colab-df-quickchart-complete:disabled:hover {\n",
              "    background-color: var(--disabled-bg-color);\n",
              "    fill: var(--disabled-fill-color);\n",
              "    box-shadow: none;\n",
              "  }\n",
              "\n",
              "  .colab-df-spinner {\n",
              "    border: 2px solid var(--fill-color);\n",
              "    border-color: transparent;\n",
              "    border-bottom-color: var(--fill-color);\n",
              "    animation:\n",
              "      spin 1s steps(1) infinite;\n",
              "  }\n",
              "\n",
              "  @keyframes spin {\n",
              "    0% {\n",
              "      border-color: transparent;\n",
              "      border-bottom-color: var(--fill-color);\n",
              "      border-left-color: var(--fill-color);\n",
              "    }\n",
              "    20% {\n",
              "      border-color: transparent;\n",
              "      border-left-color: var(--fill-color);\n",
              "      border-top-color: var(--fill-color);\n",
              "    }\n",
              "    30% {\n",
              "      border-color: transparent;\n",
              "      border-left-color: var(--fill-color);\n",
              "      border-top-color: var(--fill-color);\n",
              "      border-right-color: var(--fill-color);\n",
              "    }\n",
              "    40% {\n",
              "      border-color: transparent;\n",
              "      border-right-color: var(--fill-color);\n",
              "      border-top-color: var(--fill-color);\n",
              "    }\n",
              "    60% {\n",
              "      border-color: transparent;\n",
              "      border-right-color: var(--fill-color);\n",
              "    }\n",
              "    80% {\n",
              "      border-color: transparent;\n",
              "      border-right-color: var(--fill-color);\n",
              "      border-bottom-color: var(--fill-color);\n",
              "    }\n",
              "    90% {\n",
              "      border-color: transparent;\n",
              "      border-bottom-color: var(--fill-color);\n",
              "    }\n",
              "  }\n",
              "</style>\n",
              "\n",
              "  <script>\n",
              "    async function quickchart(key) {\n",
              "      const quickchartButtonEl =\n",
              "        document.querySelector('#' + key + ' button');\n",
              "      quickchartButtonEl.disabled = true;  // To prevent multiple clicks.\n",
              "      quickchartButtonEl.classList.add('colab-df-spinner');\n",
              "      try {\n",
              "        const charts = await google.colab.kernel.invokeFunction(\n",
              "            'suggestCharts', [key], {});\n",
              "      } catch (error) {\n",
              "        console.error('Error during call to suggestCharts:', error);\n",
              "      }\n",
              "      quickchartButtonEl.classList.remove('colab-df-spinner');\n",
              "      quickchartButtonEl.classList.add('colab-df-quickchart-complete');\n",
              "    }\n",
              "    (() => {\n",
              "      let quickchartButtonEl =\n",
              "        document.querySelector('#df-be7cff78-fcc9-4de0-b06d-1eadd7347404 button');\n",
              "      quickchartButtonEl.style.display =\n",
              "        google.colab.kernel.accessAllowed ? 'block' : 'none';\n",
              "    })();\n",
              "  </script>\n",
              "</div>\n",
              "\n",
              "    </div>\n",
              "  </div>\n"
            ],
            "application/vnd.google.colaboratory.intrinsic+json": {
              "type": "dataframe",
              "variable_name": "y",
              "summary": "{\n  \"name\": \"y\",\n  \"rows\": 147,\n  \"fields\": [\n    {\n      \"column\": \"c1_dist\",\n      \"properties\": {\n        \"dtype\": \"number\",\n        \"std\": 29.041666748928204,\n        \"min\": 75.0,\n        \"max\": 246.9696338,\n        \"num_unique_values\": 147,\n        \"samples\": [\n          133.16725112693078,\n          106.2274253234832,\n          146.7276388\n        ],\n        \"semantic_type\": \"\",\n        \"description\": \"\"\n      }\n    },\n    {\n      \"column\": \"c2_dist\",\n      \"properties\": {\n        \"dtype\": \"number\",\n        \"std\": 32.89851839690145,\n        \"min\": 2.236067977,\n        \"max\": 169.5788902,\n        \"num_unique_values\": 147,\n        \"samples\": [\n          66.30023059227025,\n          20.48203476344647,\n          83.77350416\n        ],\n        \"semantic_type\": \"\",\n        \"description\": \"\"\n      }\n    },\n    {\n      \"column\": \"c3_dist\",\n      \"properties\": {\n        \"dtype\": \"number\",\n        \"std\": 126.69426191339228,\n        \"min\": 612.2091146,\n        \"max\": 1118.456079,\n        \"num_unique_values\": 147,\n        \"samples\": [\n          827.4329088000002,\n          1088.4221594564804,\n          1035.791968\n        ],\n        \"semantic_type\": \"\",\n        \"description\": \"\"\n      }\n    },\n    {\n      \"column\": \"c4_dist\",\n      \"properties\": {\n        \"dtype\": \"number\",\n        \"std\": 109.60992342042523,\n        \"min\": 599.0300493,\n        \"max\": 1090.093574,\n        \"num_unique_values\": 146,\n        \"samples\": [\n          1066.5913065382197,\n          1045.8805964044548,\n          995.0894094983112\n        ],\n        \"semantic_type\": \"\",\n        \"description\": \"\"\n      }\n    },\n    {\n      \"column\": \"c5_dist\",\n      \"properties\": {\n        \"dtype\": \"number\",\n        \"std\": 146.55752626687052,\n        \"min\": 2030.622072,\n        \"max\": 2572.616567,\n        \"num_unique_values\": 147,\n        \"samples\": [\n          2358.2916885,\n          2559.747234395644,\n          2458.158864\n        ],\n        \"semantic_type\": \"\",\n        \"description\": \"\"\n      }\n    },\n    {\n      \"column\": \"c6_dist\",\n      \"properties\": {\n        \"dtype\": \"number\",\n        \"std\": 152.92863687750676,\n        \"min\": 2170.889449,\n        \"max\": 2748.070232,\n        \"num_unique_values\": 147,\n        \"samples\": [\n          2544.042355,\n          2737.7665292726238,\n          2522.134017\n        ],\n        \"semantic_type\": \"\",\n        \"description\": \"\"\n      }\n    },\n    {\n      \"column\": \"c7_dist\",\n      \"properties\": {\n        \"dtype\": \"number\",\n        \"std\": 111.44560740530886,\n        \"min\": 1685.584172,\n        \"max\": 2197.682643,\n        \"num_unique_values\": 142,\n        \"samples\": [\n          2050.475311,\n          1758.820146256,\n          1998.2874670389056\n        ],\n        \"semantic_type\": \"\",\n        \"description\": \"\"\n      }\n    },\n    {\n      \"column\": \"c8_dist\",\n      \"properties\": {\n        \"dtype\": \"number\",\n        \"std\": 111.25690201641143,\n        \"min\": 1889.040497,\n        \"max\": 2400.496824,\n        \"num_unique_values\": 142,\n        \"samples\": [\n          2235.497484,\n          1954.901562144,\n          2173.8383321145348\n        ],\n        \"semantic_type\": \"\",\n        \"description\": \"\"\n      }\n    }\n  ]\n}"
            }
          },
          "metadata": {},
          "execution_count": 39
        }
      ]
    },
    {
      "cell_type": "code",
      "source": [
        "scaler_ts=StandardScaler()\n",
        "y_scaled = scaler_ts.fit_transform(y)\n",
        "y_scaled_df = pd.DataFrame(y_scaled, columns=y.columns)"
      ],
      "metadata": {
        "id": "soHjhZP1X41X"
      },
      "execution_count": null,
      "outputs": []
    },
    {
      "cell_type": "code",
      "source": [
        "scaler_featueres=StandardScaler()\n",
        "X_scaled=scaler_featueres.fit_transform(X)"
      ],
      "metadata": {
        "id": "0SYLJbkRKgZ9"
      },
      "execution_count": null,
      "outputs": []
    },
    {
      "cell_type": "code",
      "source": [
        "# for i in y_scaled_df.columns:\n",
        "#   y_scaled_df[i]=medfilt(y[i], kernel_size=5)\n",
        "\n",
        "X_train, X_test, y_train, y_test = train_test_split(X_scaled, y_scaled_df, test_size=0.2, random_state=42)\n"
      ],
      "metadata": {
        "id": "vCD4VSOEZc9X"
      },
      "execution_count": null,
      "outputs": []
    },
    {
      "cell_type": "markdown",
      "source": [
        "# Grid Search Best Parameters\n"
      ],
      "metadata": {
        "id": "Ha24X5yVwERy"
      }
    },
    {
      "cell_type": "code",
      "source": [
        "from sklearn.multioutput import MultiOutputRegressor\n",
        "from sklearn.model_selection import GridSearchCV\n",
        "from sklearn.multioutput import MultiOutputRegressor\n",
        "from scipy.signal import medfilt\n",
        "from sklearn.model_selection import train_test_split\n",
        "import lightgbm as lgb\n",
        "\n",
        "\n",
        "# Define LightGBM model\n",
        "lgb_model = lgb.LGBMRegressor(objective='regression', num_leaves=20, learning_rate=0.05, n_estimators=100)\n",
        "\n",
        "# Wrap with MultiOutputRegressor\n",
        "multi_output_model = MultiOutputRegressor(lgb_model)\n",
        "\n",
        "# Define parameter grid for LightGBM\n",
        "param_grid = {\n",
        "    'estimator__num_leaves': [21, 31, 50, 100],\n",
        "    'estimator__learning_rate': [0.05, 0.1, 0.2],\n",
        "    'estimator__n_estimators': [50, 100, 200],\n",
        "    'estimator__max_depth': [-1, 5, 10],\n",
        "    'estimator__subsample': [0.7, 0.8, 1.0]\n",
        "}\n",
        "\n",
        "# Grid Search using GridSearchCV\n",
        "grid_search = GridSearchCV(\n",
        "    estimator=multi_output_model,\n",
        "    param_grid=param_grid,\n",
        "    cv=3,\n",
        "    scoring='neg_root_mean_squared_error',\n",
        "    n_jobs=-1\n",
        ")\n",
        "\n",
        "# Fit the grid search\n",
        "grid_search.fit(X_train, y_train)\n",
        "\n",
        "# Output the best parameters and score\n",
        "print(\"Best Parameters:\", grid_search.best_params_)\n",
        "print(\"Best Score:\", grid_search.best_score_)\n",
        "\n"
      ],
      "metadata": {
        "id": "g0eIYEnSB2WS"
      },
      "execution_count": null,
      "outputs": []
    },
    {
      "cell_type": "code",
      "source": [
        "best_model = grid_search.best_estimator_\n",
        "best_para=grid_search.best_params_"
      ],
      "metadata": {
        "id": "om6gCbzIFy5m"
      },
      "execution_count": null,
      "outputs": []
    },
    {
      "cell_type": "code",
      "source": [
        "best_model=joblib.load('/content/lgbm_best_model_final.joblib')"
      ],
      "metadata": {
        "id": "7R3oZrGkZUnP"
      },
      "execution_count": null,
      "outputs": []
    },
    {
      "cell_type": "code",
      "source": [
        "from sklearn.metrics import mean_squared_error\n",
        "import numpy as np\n",
        "\n",
        "# Get predictions for the test set\n",
        "y_test_pred = best_model.predict(X_test)\n",
        "\n",
        "# Calculate RMSE for each dependent variable\n",
        "rmse_scores = {}\n",
        "r2_scores={}\n",
        "mape_scores={}\n",
        "mae_scores={}\n",
        "for i, target_name in enumerate(y_test.columns):\n",
        "    mse = mean_squared_error(y_test.iloc[:, i], y_test_pred[:, i])\n",
        "    rmse = np.sqrt(mse)\n",
        "    r2_test=r2_score(y_test.iloc[:, i], y_test_pred[:, i])\n",
        "    mae_test=mean_absolute_error(y_test.iloc[:, i], y_test_pred[:, i])\n",
        "    mape_test=mean_absolute_percentage_error(y_test.iloc[:, i], y_test_pred[:, i])\n",
        "    rmse_scores[target_name] = rmse\n",
        "    r2_scores[target_name]= r2_test\n",
        "    mae_scores[target_name]= mae_test\n",
        "    mape_scores[target_name]=mape_test\n",
        "# Print RMSE scores for each dependent variable\n",
        "\n",
        "\n"
      ],
      "metadata": {
        "id": "44GJ8zSKDPaX",
        "colab": {
          "base_uri": "https://localhost:8080/"
        },
        "outputId": "fb572ffa-cc32-480c-e61b-693a806e3900"
      },
      "execution_count": null,
      "outputs": [
        {
          "output_type": "stream",
          "name": "stderr",
          "text": [
            "/usr/local/lib/python3.10/dist-packages/sklearn/utils/deprecation.py:151: FutureWarning: 'force_all_finite' was renamed to 'ensure_all_finite' in 1.6 and will be removed in 1.8.\n",
            "  warnings.warn(\n",
            "/usr/local/lib/python3.10/dist-packages/sklearn/utils/deprecation.py:151: FutureWarning: 'force_all_finite' was renamed to 'ensure_all_finite' in 1.6 and will be removed in 1.8.\n",
            "  warnings.warn(\n",
            "/usr/local/lib/python3.10/dist-packages/sklearn/utils/deprecation.py:151: FutureWarning: 'force_all_finite' was renamed to 'ensure_all_finite' in 1.6 and will be removed in 1.8.\n",
            "  warnings.warn(\n",
            "/usr/local/lib/python3.10/dist-packages/sklearn/utils/deprecation.py:151: FutureWarning: 'force_all_finite' was renamed to 'ensure_all_finite' in 1.6 and will be removed in 1.8.\n",
            "  warnings.warn(\n",
            "/usr/local/lib/python3.10/dist-packages/sklearn/utils/deprecation.py:151: FutureWarning: 'force_all_finite' was renamed to 'ensure_all_finite' in 1.6 and will be removed in 1.8.\n",
            "  warnings.warn(\n",
            "/usr/local/lib/python3.10/dist-packages/sklearn/utils/deprecation.py:151: FutureWarning: 'force_all_finite' was renamed to 'ensure_all_finite' in 1.6 and will be removed in 1.8.\n",
            "  warnings.warn(\n"
          ]
        }
      ]
    },
    {
      "cell_type": "code",
      "source": [
        "print(rmse_scores)"
      ],
      "metadata": {
        "colab": {
          "base_uri": "https://localhost:8080/"
        },
        "id": "A_j7pUp3EkcO",
        "outputId": "25bea14a-7f93-4f24-8365-44d35f109ee9"
      },
      "execution_count": null,
      "outputs": [
        {
          "output_type": "stream",
          "name": "stdout",
          "text": [
            "{'c1_dist': 9.156471581368024, 'c2_dist': 7.270432980298098, 'c3_dist': 65.11307386040833, 'c4_dist': 58.16222227307737, 'c5_dist': 80.39565658294445, 'c6_dist': 86.76700977782558, 'c7_dist': 74.45445695493271, 'c8_dist': 80.25107638545846}\n"
          ]
        }
      ]
    },
    {
      "cell_type": "code",
      "source": [
        "print(r2_scores)"
      ],
      "metadata": {
        "colab": {
          "base_uri": "https://localhost:8080/"
        },
        "id": "cAlbhogB5hYy",
        "outputId": "9ac1eac1-9bb5-4bae-baae-fe8e607ff714"
      },
      "execution_count": null,
      "outputs": [
        {
          "output_type": "stream",
          "name": "stdout",
          "text": [
            "{'c1_dist': 0.8403710332235547, 'c2_dist': 0.9313430532982849, 'c3_dist': 0.7782297344997094, 'c4_dist': 0.7567690120727734, 'c5_dist': 0.7157229349088039, 'c6_dist': 0.6766334137074552, 'c7_dist': 0.6102765314638054, 'c8_dist': 0.5520894821030474}\n"
          ]
        }
      ]
    },
    {
      "cell_type": "code",
      "source": [
        "for target, rmse in rmse_scores.items():\n",
        "    err_perc=(rmse/(max(df[target])-min(df[target])))*100\n",
        "    print(f'{target} error : {err_perc}')"
      ],
      "metadata": {
        "colab": {
          "base_uri": "https://localhost:8080/"
        },
        "id": "ePLSIm_0GZSf",
        "outputId": "a021b9f0-2fc9-46a9-9d90-40340f6114a8"
      },
      "execution_count": null,
      "outputs": [
        {
          "output_type": "stream",
          "name": "stdout",
          "text": [
            "c1_dist error : 0.29116111492982666\n",
            "c2_dist error : 0.23638972969201605\n",
            "c3_dist error : 0.11672987456014083\n",
            "c4_dist error : 0.12709433153236116\n",
            "c5_dist error : 0.15956275445926316\n",
            "c6_dist error : 0.15854765226258136\n",
            "c7_dist error : 0.16026456037357695\n",
            "c8_dist error : 0.17102721413323765\n"
          ]
        }
      ]
    },
    {
      "cell_type": "code",
      "source": [
        "print(mape_scores)"
      ],
      "metadata": {
        "colab": {
          "base_uri": "https://localhost:8080/"
        },
        "id": "a-y6ZxZTatvg",
        "outputId": "6483c6e5-f8aa-4387-ff29-566376771854"
      },
      "execution_count": null,
      "outputs": [
        {
          "output_type": "stream",
          "name": "stdout",
          "text": [
            "{'c1_dist': 0.05647263592096686, 'c2_dist': 0.1607249280232015, 'c3_dist': 0.04728619730890786, 'c4_dist': 0.03849843097524859, 'c5_dist': 0.022486169346177805, 'c6_dist': 0.024669443764304654, 'c7_dist': 0.027608312117500554, 'c8_dist': 0.027801274909074504}\n"
          ]
        }
      ]
    },
    {
      "cell_type": "code",
      "source": [
        "print(mae_scores)"
      ],
      "metadata": {
        "colab": {
          "base_uri": "https://localhost:8080/"
        },
        "id": "Ep-sqYnDsrxe",
        "outputId": "a737641a-998b-4406-c07f-0c4848c5f5ae"
      },
      "execution_count": null,
      "outputs": [
        {
          "output_type": "stream",
          "name": "stdout",
          "text": [
            "{'c1_dist': 6.305044513158662, 'c2_dist': 5.109240341795465, 'c3_dist': 36.339954880433794, 'c4_dist': 30.327967491431274, 'c5_dist': 51.12563297632117, 'c6_dist': 61.17566570673386, 'c7_dist': 52.278259831447485, 'c8_dist': 58.44557481205263}\n"
          ]
        }
      ]
    },
    {
      "cell_type": "code",
      "source": [
        "y_train_pred = best_model.predict(X_train)\n",
        "# Calculate RMSE for each dependent variable\n",
        "rmse_scores = {}\n",
        "r2_scores={}\n",
        "mape_scores={}\n",
        "mae_scores={}\n",
        "for i, target_name in enumerate(y_train.columns):\n",
        "    mse = mean_squared_error(y_train.iloc[:, i], y_train_pred[:, i])\n",
        "    rmse = np.sqrt(mse)\n",
        "    r2_test=r2_score(y_train.iloc[:, i], y_train_pred[:, i])\n",
        "    mae_test=mean_absolute_error(y_train.iloc[:, i], y_train_pred[:, i])\n",
        "    mape_test=mean_absolute_percentage_error(y_train.iloc[:, i], y_train_pred[:, i])\n",
        "    rmse_scores[target_name] = rmse\n",
        "    r2_scores[target_name]= r2_test\n",
        "    mae_scores[target_name]= mae_test\n",
        "    mape_scores[target_name]=mape_test\n",
        "# Print RMSE scores for each dependent variable"
      ],
      "metadata": {
        "id": "E5Rpy_BZcm9b",
        "colab": {
          "base_uri": "https://localhost:8080/"
        },
        "outputId": "15db4544-f52b-469c-e5e9-12745c7e059f"
      },
      "execution_count": null,
      "outputs": [
        {
          "output_type": "stream",
          "name": "stderr",
          "text": [
            "/usr/local/lib/python3.10/dist-packages/sklearn/utils/deprecation.py:151: FutureWarning: 'force_all_finite' was renamed to 'ensure_all_finite' in 1.6 and will be removed in 1.8.\n",
            "  warnings.warn(\n",
            "/usr/local/lib/python3.10/dist-packages/sklearn/utils/deprecation.py:151: FutureWarning: 'force_all_finite' was renamed to 'ensure_all_finite' in 1.6 and will be removed in 1.8.\n",
            "  warnings.warn(\n",
            "/usr/local/lib/python3.10/dist-packages/sklearn/utils/deprecation.py:151: FutureWarning: 'force_all_finite' was renamed to 'ensure_all_finite' in 1.6 and will be removed in 1.8.\n",
            "  warnings.warn(\n",
            "/usr/local/lib/python3.10/dist-packages/sklearn/utils/deprecation.py:151: FutureWarning: 'force_all_finite' was renamed to 'ensure_all_finite' in 1.6 and will be removed in 1.8.\n",
            "  warnings.warn(\n",
            "/usr/local/lib/python3.10/dist-packages/sklearn/utils/deprecation.py:151: FutureWarning: 'force_all_finite' was renamed to 'ensure_all_finite' in 1.6 and will be removed in 1.8.\n",
            "  warnings.warn(\n",
            "/usr/local/lib/python3.10/dist-packages/sklearn/utils/deprecation.py:151: FutureWarning: 'force_all_finite' was renamed to 'ensure_all_finite' in 1.6 and will be removed in 1.8.\n",
            "  warnings.warn(\n"
          ]
        }
      ]
    },
    {
      "cell_type": "code",
      "source": [
        "print(rmse_scores)"
      ],
      "metadata": {
        "colab": {
          "base_uri": "https://localhost:8080/"
        },
        "id": "VpOIl7Ioc03F",
        "outputId": "67537db9-ec41-4296-bc58-b09671f2337f"
      },
      "execution_count": null,
      "outputs": [
        {
          "output_type": "stream",
          "name": "stdout",
          "text": [
            "{'c1_dist': 9.422778399132723, 'c2_dist': 8.369164446318083, 'c3_dist': 61.73057092483052, 'c4_dist': 54.37447178446875, 'c5_dist': 76.90094249737085, 'c6_dist': 84.7928480783225, 'c7_dist': 73.06680758499492, 'c8_dist': 76.0230191067307}\n"
          ]
        }
      ]
    },
    {
      "cell_type": "code",
      "source": [
        "print(mape_scores)"
      ],
      "metadata": {
        "colab": {
          "base_uri": "https://localhost:8080/"
        },
        "id": "_yHvVSmkc9cR",
        "outputId": "20c8cfbd-95b5-465f-dd50-7c891be54809"
      },
      "execution_count": null,
      "outputs": [
        {
          "output_type": "stream",
          "name": "stdout",
          "text": [
            "{'c1_dist': 0.054514844360938994, 'c2_dist': 0.23686316390079862, 'c3_dist': 0.033457822803261435, 'c4_dist': 0.026973061561749622, 'c5_dist': 0.018007318326410608, 'c6_dist': 0.02057168988810162, 'c7_dist': 0.02272985132207759, 'c8_dist': 0.022192953474498258}\n"
          ]
        }
      ]
    },
    {
      "cell_type": "code",
      "source": [
        "\n",
        "\n",
        "# Predict on test data\n",
        "y_test_pred = best_model.predict(X_test)\n",
        "\n",
        "# Evaluate performance on the test data\n",
        "mae_test=mean_absolute_error(y_test, y_test_pred)\n",
        "mse_test = mean_squared_error(y_test, y_test_pred)\n",
        "rmse_test = mse_test ** 0.5\n",
        "r2_test = r2_score(y_test, y_test_pred)\n",
        "mape_test=mean_absolute_percentage_error(y_test, y_test_pred)\n"
      ],
      "metadata": {
        "id": "eG-Vxbx8G8KJ",
        "colab": {
          "base_uri": "https://localhost:8080/"
        },
        "outputId": "3871035a-fa63-4d27-fe93-13b2138546be"
      },
      "execution_count": null,
      "outputs": [
        {
          "output_type": "stream",
          "name": "stderr",
          "text": [
            "/usr/local/lib/python3.10/dist-packages/sklearn/utils/deprecation.py:151: FutureWarning: 'force_all_finite' was renamed to 'ensure_all_finite' in 1.6 and will be removed in 1.8.\n",
            "  warnings.warn(\n",
            "/usr/local/lib/python3.10/dist-packages/sklearn/utils/deprecation.py:151: FutureWarning: 'force_all_finite' was renamed to 'ensure_all_finite' in 1.6 and will be removed in 1.8.\n",
            "  warnings.warn(\n",
            "/usr/local/lib/python3.10/dist-packages/sklearn/utils/deprecation.py:151: FutureWarning: 'force_all_finite' was renamed to 'ensure_all_finite' in 1.6 and will be removed in 1.8.\n",
            "  warnings.warn(\n",
            "/usr/local/lib/python3.10/dist-packages/sklearn/utils/deprecation.py:151: FutureWarning: 'force_all_finite' was renamed to 'ensure_all_finite' in 1.6 and will be removed in 1.8.\n",
            "  warnings.warn(\n",
            "/usr/local/lib/python3.10/dist-packages/sklearn/utils/deprecation.py:151: FutureWarning: 'force_all_finite' was renamed to 'ensure_all_finite' in 1.6 and will be removed in 1.8.\n",
            "  warnings.warn(\n",
            "/usr/local/lib/python3.10/dist-packages/sklearn/utils/deprecation.py:151: FutureWarning: 'force_all_finite' was renamed to 'ensure_all_finite' in 1.6 and will be removed in 1.8.\n",
            "  warnings.warn(\n"
          ]
        }
      ]
    },
    {
      "cell_type": "code",
      "source": [
        "print(f\"Test MSE: {mse_test:.4f}\")\n",
        "print(f\"Test RMSE: {rmse_test:.4f}\")\n",
        "print(f\"Test R^2: {r2_test:.4f}\")\n",
        "print(f\"Test MAE: {mae_test:.4f}\")\n",
        "print(f\"Test MAPE: {mape_test:.4f}\")\n"
      ],
      "metadata": {
        "colab": {
          "base_uri": "https://localhost:8080/"
        },
        "id": "YNMlfEmbHaOO",
        "outputId": "e19afe1e-2361-4ff2-9242-419549710de4"
      },
      "execution_count": null,
      "outputs": [
        {
          "output_type": "stream",
          "name": "stdout",
          "text": [
            "Test MSE: 0.4308\n",
            "Test RMSE: 0.6563\n",
            "Test R^2: 0.6458\n",
            "Test MAE: 0.4447\n",
            "Test MAPE: 0.8325\n"
          ]
        }
      ]
    },
    {
      "cell_type": "code",
      "source": [
        "# Evaluate on training data\n",
        "y_train_pred = best_model.predict(X_train)\n",
        "mse_train = mean_squared_error(y_train, y_train_pred)\n",
        "rmse_train = mse_train ** 0.5\n",
        "r2_train = r2_score(y_train, y_train_pred)\n",
        "mae_train=mean_absolute_error(y_train, y_train_pred)\n",
        "mape_train=mean_absolute_percentage_error(y_train, y_train_pred)\n"
      ],
      "metadata": {
        "id": "gqRHtOxfHdFC",
        "colab": {
          "base_uri": "https://localhost:8080/"
        },
        "outputId": "c382428c-53f0-432c-c6d6-fa2d0ca0e87c"
      },
      "execution_count": null,
      "outputs": [
        {
          "output_type": "stream",
          "name": "stderr",
          "text": [
            "/usr/local/lib/python3.10/dist-packages/sklearn/utils/deprecation.py:151: FutureWarning: 'force_all_finite' was renamed to 'ensure_all_finite' in 1.6 and will be removed in 1.8.\n",
            "  warnings.warn(\n",
            "/usr/local/lib/python3.10/dist-packages/sklearn/utils/deprecation.py:151: FutureWarning: 'force_all_finite' was renamed to 'ensure_all_finite' in 1.6 and will be removed in 1.8.\n",
            "  warnings.warn(\n",
            "/usr/local/lib/python3.10/dist-packages/sklearn/utils/deprecation.py:151: FutureWarning: 'force_all_finite' was renamed to 'ensure_all_finite' in 1.6 and will be removed in 1.8.\n",
            "  warnings.warn(\n",
            "/usr/local/lib/python3.10/dist-packages/sklearn/utils/deprecation.py:151: FutureWarning: 'force_all_finite' was renamed to 'ensure_all_finite' in 1.6 and will be removed in 1.8.\n",
            "  warnings.warn(\n",
            "/usr/local/lib/python3.10/dist-packages/sklearn/utils/deprecation.py:151: FutureWarning: 'force_all_finite' was renamed to 'ensure_all_finite' in 1.6 and will be removed in 1.8.\n",
            "  warnings.warn(\n",
            "/usr/local/lib/python3.10/dist-packages/sklearn/utils/deprecation.py:151: FutureWarning: 'force_all_finite' was renamed to 'ensure_all_finite' in 1.6 and will be removed in 1.8.\n",
            "  warnings.warn(\n"
          ]
        }
      ]
    },
    {
      "cell_type": "code",
      "source": [
        "print(f\"Train MSE: {mse_train:.4f}\")\n",
        "print(f\"Train RMSE: {rmse_train:.4f}\")\n",
        "print(f\"Train R^2: {r2_train:.4f}\")\n",
        "print(f\"Train MAE: {mae_train:.4f}\")\n",
        "print(f\"Train MAPE: {mape_train:.4f}\")"
      ],
      "metadata": {
        "colab": {
          "base_uri": "https://localhost:8080/"
        },
        "id": "TlFm3KJXHltS",
        "outputId": "478292b6-c7ea-4a16-c25e-89c48636a3ad"
      },
      "execution_count": null,
      "outputs": [
        {
          "output_type": "stream",
          "name": "stdout",
          "text": [
            "Train MSE: 0.4411\n",
            "Train RMSE: 0.6641\n",
            "Train R^2: 0.5267\n",
            "Train MAE: 0.3684\n",
            "Train MAPE: 0.9820\n"
          ]
        }
      ]
    },
    {
      "cell_type": "code",
      "source": [
        "baseline_predictions = np.tile(y_train.mean(axis=0), (len(y_test), 1))\n",
        "baseline_mse=mean_squared_error(y_test, baseline_predictions)\n",
        "baseline_rmse = np.sqrt(mean_squared_error(y_test, baseline_predictions))\n",
        "baseline_r2=r2_score(y_test, baseline_predictions)\n",
        "baseline_mae=mean_absolute_error(y_test, baseline_predictions)\n",
        "baseline_mape=mean_absolute_percentage_error(y_test, baseline_predictions)\n",
        "\n",
        "print(f'baseline mse score : {baseline_mse}')\n",
        "print(f'baseline rmse score : {baseline_rmse}')\n",
        "print(f'baseline r2 score : {baseline_r2}')\n",
        "print(f'baseline mae score : {baseline_mae}')\n",
        "print(f'baseline mape score : {baseline_mape}')"
      ],
      "metadata": {
        "colab": {
          "base_uri": "https://localhost:8080/"
        },
        "id": "ZrUppYLrYUx2",
        "outputId": "2eeb8e83-1df7-4f24-c24c-375e27f2c9e9"
      },
      "execution_count": null,
      "outputs": [
        {
          "output_type": "stream",
          "name": "stdout",
          "text": [
            "baseline mse score : 1.2532945443406507\n",
            "baseline rmse score : 1.119506384233985\n",
            "baseline r2 score : -0.029777681181622634\n",
            "baseline mae score : 0.859199358932488\n",
            "baseline mape score : 1.0006039545393417\n"
          ]
        }
      ]
    },
    {
      "cell_type": "code",
      "source": [
        "print(best_model.feature_names_in_)"
      ],
      "metadata": {
        "colab": {
          "base_uri": "https://localhost:8080/"
        },
        "id": "SzDhuTy4GEDo",
        "outputId": "63b60de4-d0d0-4b67-9d6c-0f1be540ad06"
      },
      "execution_count": null,
      "outputs": [
        {
          "output_type": "stream",
          "name": "stdout",
          "text": [
            "['year_scaled' 'quarter_sin' 'quarter_cos']\n"
          ]
        }
      ]
    },
    {
      "cell_type": "code",
      "source": [
        "def predict_input(input_data, model, scaler):\n",
        "    print(input_data)\n",
        "    # Create a DataFrame from the input data\n",
        "    input_df = pd.DataFrame([input_data])\n",
        "\n",
        "    # Extract 'year' and 'quarter' from the 'name' field\n",
        "    input_df['year'] = input_df['name'].apply(lambda x: int(x.split('-')[0]))\n",
        "    input_df['quarter'] = input_df['name'].apply(lambda x: int(x.split('-')[1]))\n",
        "\n",
        "\n",
        "    # Add cyclical time features (same as in training)\n",
        "    input_df['quarter_sin'] = np.sin(2 * np.pi * input_df['quarter'] / 4)\n",
        "    input_df['quarter_cos'] = np.cos(2 * np.pi * input_df['quarter'] / 4)\n",
        "\n",
        "\n",
        "\n",
        "    # # Scale the 'year' feature (use scaler fitted during training)\n",
        "    input_df['year_scaled'] = scaler.transform(input_df[['year']])  # Use transform for a pre-fitted scaler\n",
        "\n",
        "\n",
        "    # Select the same features used during training\n",
        "    features = ['year_scaled', 'quarter_sin', 'quarter_cos']\n",
        "    X_single = input_df[features]\n",
        "\n",
        "\n",
        "    # Make predictions\n",
        "    predictions = model.predict(X_single)\n",
        "\n",
        "    print(predictions)\n",
        "\n",
        "    # The target columns match the structure of the output\n",
        "    target_columns = ['c1_dist', 'c2_dist', 'c3_dist', 'c4_dist', 'c7_dist', 'c8_dist']\n",
        "    predictions_df = pd.DataFrame(predictions, columns=target_columns)\n",
        "\n",
        "    return predictions_df"
      ],
      "metadata": {
        "id": "iprqb7jhY9at"
      },
      "execution_count": null,
      "outputs": []
    },
    {
      "cell_type": "code",
      "source": [
        "fp=predict_input({'name':'2045-1'}, grid_search.best_estimator_, scaler_year)\n",
        "sp=predict_input({'name':'2025-1'}, best_model, scaler_year)"
      ],
      "metadata": {
        "id": "OLW7hqRVZOyD",
        "colab": {
          "base_uri": "https://localhost:8080/"
        },
        "outputId": "f3e03b24-7503-4ff3-a5fa-25099580b213"
      },
      "execution_count": null,
      "outputs": [
        {
          "output_type": "stream",
          "name": "stdout",
          "text": [
            "{'name': '2045-1'}\n",
            "[[ 1.29347096  1.39315644  0.20192578  0.19677208 -0.00857437 -0.04332743]]\n",
            "{'name': '2025-1'}\n",
            "[[ 1.29347096  1.39315644  0.20192578  0.19677208 -0.00857437 -0.04332743]]\n"
          ]
        }
      ]
    },
    {
      "cell_type": "code",
      "source": [
        "print(fp, sp)"
      ],
      "metadata": {
        "id": "Y2Dsu9YTZkb8"
      },
      "execution_count": null,
      "outputs": []
    },
    {
      "cell_type": "code",
      "source": [
        "joblib.dump(best_model,'/content/lgbm_best_model.joblib')"
      ],
      "metadata": {
        "colab": {
          "base_uri": "https://localhost:8080/"
        },
        "id": "f9g73Sw0Io64",
        "outputId": "67696e79-7fc7-4b61-dcab-afa023b53e4c"
      },
      "execution_count": null,
      "outputs": [
        {
          "output_type": "execute_result",
          "data": {
            "text/plain": [
              "['/content/lgbm_best_model.joblib']"
            ]
          },
          "metadata": {},
          "execution_count": 26
        }
      ]
    },
    {
      "cell_type": "markdown",
      "source": [
        "# XAI"
      ],
      "metadata": {
        "id": "BP0bKJXkcolc"
      }
    },
    {
      "cell_type": "code",
      "source": [
        "import pandas as pd\n",
        "\n",
        "# Access the fitted estimators for each target\n",
        "for idx, regressor in enumerate(grid_search.best_estimator_.estimators_):\n",
        "    print(f\"Feature Importance for Target {y.columns[idx]}:\")\n",
        "\n",
        "    # Gain-based feature importance\n",
        "    gain_importance = regressor.feature_importances_  # Gain\n",
        "    feature_importance_df = pd.DataFrame({\n",
        "        'Feature': X_train.columns,\n",
        "        'Gain': gain_importance\n",
        "    }).sort_values(by='Gain', ascending=False)\n",
        "\n",
        "    print(feature_importance_df)\n",
        "\n",
        "    # Split count-based feature importance\n",
        "    split_importance = regressor.booster_.feature_importance(importance_type='split')\n",
        "    feature_split_df = pd.DataFrame({\n",
        "        'Feature': X_train.columns,\n",
        "        'Split Count': split_importance\n",
        "    }).sort_values(by='Split Count', ascending=False)\n",
        "\n",
        "    print(feature_split_df)\n",
        "\n",
        "\n"
      ],
      "metadata": {
        "colab": {
          "base_uri": "https://localhost:8080/"
        },
        "id": "comTxoTucsyw",
        "outputId": "7bd67696-0231-4ea0-9e48-417e69533087"
      },
      "execution_count": null,
      "outputs": [
        {
          "output_type": "stream",
          "name": "stdout",
          "text": [
            "Feature Importance for Target c1_dist:\n",
            "     Feature  Gain\n",
            "0       year   161\n",
            "1  quarter_2     2\n",
            "2  quarter_3     0\n",
            "3  quarter_4     0\n",
            "     Feature  Split Count\n",
            "0       year          161\n",
            "1  quarter_2            2\n",
            "2  quarter_3            0\n",
            "3  quarter_4            0\n",
            "Feature Importance for Target c2_dist:\n",
            "     Feature  Gain\n",
            "0       year   160\n",
            "3  quarter_4    10\n",
            "2  quarter_3     6\n",
            "1  quarter_2     0\n",
            "     Feature  Split Count\n",
            "0       year          160\n",
            "3  quarter_4           10\n",
            "2  quarter_3            6\n",
            "1  quarter_2            0\n",
            "Feature Importance for Target c3_dist:\n",
            "     Feature  Gain\n",
            "0       year   164\n",
            "2  quarter_3     4\n",
            "1  quarter_2     0\n",
            "3  quarter_4     0\n",
            "     Feature  Split Count\n",
            "0       year          164\n",
            "2  quarter_3            4\n",
            "1  quarter_2            0\n",
            "3  quarter_4            0\n",
            "Feature Importance for Target c4_dist:\n",
            "     Feature  Gain\n",
            "0       year   173\n",
            "3  quarter_4     8\n",
            "1  quarter_2     0\n",
            "2  quarter_3     0\n",
            "     Feature  Split Count\n",
            "0       year          173\n",
            "3  quarter_4            8\n",
            "1  quarter_2            0\n",
            "2  quarter_3            0\n",
            "Feature Importance for Target c5_dist:\n",
            "     Feature  Gain\n",
            "0       year   157\n",
            "1  quarter_2     7\n",
            "2  quarter_3     7\n",
            "3  quarter_4     2\n",
            "     Feature  Split Count\n",
            "0       year          157\n",
            "1  quarter_2            7\n",
            "2  quarter_3            7\n",
            "3  quarter_4            2\n",
            "Feature Importance for Target c6_dist:\n",
            "     Feature  Gain\n",
            "0       year   156\n",
            "1  quarter_2     9\n",
            "2  quarter_3     9\n",
            "3  quarter_4     7\n",
            "     Feature  Split Count\n",
            "0       year          156\n",
            "1  quarter_2            9\n",
            "2  quarter_3            9\n",
            "3  quarter_4            7\n",
            "Feature Importance for Target c7_dist:\n",
            "     Feature  Gain\n",
            "0       year   178\n",
            "1  quarter_2     0\n",
            "2  quarter_3     0\n",
            "3  quarter_4     0\n",
            "     Feature  Split Count\n",
            "0       year          178\n",
            "1  quarter_2            0\n",
            "2  quarter_3            0\n",
            "3  quarter_4            0\n",
            "Feature Importance for Target c8_dist:\n",
            "     Feature  Gain\n",
            "0       year   174\n",
            "1  quarter_2     0\n",
            "2  quarter_3     0\n",
            "3  quarter_4     0\n",
            "     Feature  Split Count\n",
            "0       year          174\n",
            "1  quarter_2            0\n",
            "2  quarter_3            0\n",
            "3  quarter_4            0\n"
          ]
        }
      ]
    },
    {
      "cell_type": "code",
      "source": [
        "import shap\n",
        "\n",
        "for idx, regressor in enumerate(grid_search.best_estimator_.estimators_):\n",
        "    print(f\"SHAP Values for Target {y.columns[idx]}:\")\n",
        "\n",
        "    explainer = shap.TreeExplainer(regressor)\n",
        "    shap_values = explainer.shap_values(X_test)  # SHAP values for the test set\n",
        "\n",
        "    # Visualize overall feature importance\n",
        "    shap.summary_plot(shap_values, X_test, feature_names=X_test.columns, plot_size=(12, 8))\n",
        "\n",
        "    # Visualize explanation for a single prediction\n",
        "    shap.force_plot(explainer.expected_value, shap_values[0], X_test.iloc[0], feature_names=X_test.columns)\n"
      ],
      "metadata": {
        "colab": {
          "base_uri": "https://localhost:8080/",
          "height": 1000
        },
        "id": "5142c5CedFh2",
        "outputId": "e9bdebe5-6f35-4314-ad2a-438ae8405cc4"
      },
      "execution_count": null,
      "outputs": [
        {
          "output_type": "stream",
          "name": "stdout",
          "text": [
            "SHAP Values for Target c1_dist:\n"
          ]
        },
        {
          "output_type": "display_data",
          "data": {
            "text/plain": [
              "<Figure size 1200x800 with 2 Axes>"
            ],
            "image/png": "[encoded data removed]"
          },
          "metadata": {}
        },
        {
          "output_type": "stream",
          "name": "stdout",
          "text": [
            "SHAP Values for Target c2_dist:\n"
          ]
        },
        {
          "output_type": "display_data",
          "data": {
            "text/plain": [
              "<Figure size 1200x800 with 2 Axes>"
            ],
            "image/png": "[encoded data removed]"
          },
          "metadata": {}
        },
        {
          "output_type": "stream",
          "name": "stdout",
          "text": [
            "SHAP Values for Target c3_dist:\n"
          ]
        },
        {
          "output_type": "display_data",
          "data": {
            "text/plain": [
              "<Figure size 1200x800 with 2 Axes>"
            ],
            "image/png": "[encoded data removed]"
          },
          "metadata": {}
        },
        {
          "output_type": "stream",
          "name": "stdout",
          "text": [
            "SHAP Values for Target c4_dist:\n"
          ]
        },
        {
          "output_type": "display_data",
          "data": {
            "text/plain": [
              "<Figure size 1200x800 with 2 Axes>"
            ],
            "image/png": "[encoded data removed]"
          },
          "metadata": {}
        },
        {
          "output_type": "stream",
          "name": "stdout",
          "text": [
            "SHAP Values for Target c5_dist:\n"
          ]
        },
        {
          "output_type": "display_data",
          "data": {
            "text/plain": [
              "<Figure size 1200x800 with 2 Axes>"
            ],
            "image/png": "[encoded data removed]"
          },
          "metadata": {}
        },
        {
          "output_type": "stream",
          "name": "stdout",
          "text": [
            "SHAP Values for Target c6_dist:\n"
          ]
        },
        {
          "output_type": "display_data",
          "data": {
            "text/plain": [
              "<Figure size 1200x800 with 2 Axes>"
            ],
            "image/png": "[encoded data removed]"
          },
          "metadata": {}
        },
        {
          "output_type": "stream",
          "name": "stdout",
          "text": [
            "SHAP Values for Target c7_dist:\n"
          ]
        },
        {
          "output_type": "display_data",
          "data": {
            "text/plain": [
              "<Figure size 1200x800 with 2 Axes>"
            ],
            "image/png": "[encoded data removed]"
          },
          "metadata": {}
        },
        {
          "output_type": "stream",
          "name": "stdout",
          "text": [
            "SHAP Values for Target c8_dist:\n"
          ]
        },
        {
          "output_type": "display_data",
          "data": {
            "text/plain": [
              "<Figure size 1200x800 with 2 Axes>"
            ],
            "image/png": "[encoded data removed]"
          },
          "metadata": {}
        }
      ]
    },
    {
      "cell_type": "markdown",
      "source": [
        "# Train multi-output regressor"
      ],
      "metadata": {
        "id": "eh14ChyuwOlU"
      }
    },
    {
      "cell_type": "code",
      "source": [
        "\n",
        "for i in y.columns:\n",
        "  y[i]=medfilt(y[i], kernel_size=5)\n",
        "\n",
        "y.tail()"
      ],
      "metadata": {
        "colab": {
          "base_uri": "https://localhost:8080/",
          "height": 330
        },
        "id": "2ueLjadaxZ0W",
        "outputId": "8c9d3b2b-f6cf-4be8-dbec-199a17d0ccb7"
      },
      "execution_count": null,
      "outputs": [
        {
          "output_type": "stream",
          "name": "stderr",
          "text": [
            "<ipython-input-6-055d12c7894f>:2: SettingWithCopyWarning: \n",
            "A value is trying to be set on a copy of a slice from a DataFrame.\n",
            "Try using .loc[row_indexer,col_indexer] = value instead\n",
            "\n",
            "See the caveats in the documentation: https://pandas.pydata.org/pandas-docs/stable/user_guide/indexing.html#returning-a-view-versus-a-copy\n",
            "  y[i]=medfilt(y[i], kernel_size=5)\n"
          ]
        },
        {
          "output_type": "execute_result",
          "data": {
            "text/plain": [
              "        c1_dist    c2_dist      c3_dist      c4_dist      c5_dist  \\\n",
              "142  145.401573  81.494220  1035.811759  1027.231301  2286.479200   \n",
              "143  145.401573  81.494220  1035.811759  1028.048637  2537.558669   \n",
              "144  151.716841  88.141931  1035.811759  1027.231301  2464.208798   \n",
              "145  151.716841  88.141931  1035.811759  1023.249725  2464.208798   \n",
              "146  142.021125  75.584390  1031.004365  1023.000000  2464.208798   \n",
              "\n",
              "         c6_dist      c7_dist      c8_dist  \n",
              "142  2446.127365  1946.979455  2125.705765  \n",
              "143  2720.020037  1942.374063  2121.280981  \n",
              "144  2528.677520  1942.374063  2121.280981  \n",
              "145  2528.677520  1930.565979  2110.030568  \n",
              "146  2528.677520  1924.370546  2104.219095  "
            ],
            "text/html": [
              "\n",
              "  <div id=\"df-46e6503f-197e-42aa-a1b4-44bc1877dc6f\" class=\"colab-df-container\">\n",
              "    <div>\n",
              "<style scoped>\n",
              "    .dataframe tbody tr th:only-of-type {\n",
              "        vertical-align: middle;\n",
              "    }\n",
              "\n",
              "    .dataframe tbody tr th {\n",
              "        vertical-align: top;\n",
              "    }\n",
              "\n",
              "    .dataframe thead th {\n",
              "        text-align: right;\n",
              "    }\n",
              "</style>\n",
              "<table border=\"1\" class=\"dataframe\">\n",
              "  <thead>\n",
              "    <tr style=\"text-align: right;\">\n",
              "      <th></th>\n",
              "      <th>c1_dist</th>\n",
              "      <th>c2_dist</th>\n",
              "      <th>c3_dist</th>\n",
              "      <th>c4_dist</th>\n",
              "      <th>c5_dist</th>\n",
              "      <th>c6_dist</th>\n",
              "      <th>c7_dist</th>\n",
              "      <th>c8_dist</th>\n",
              "    </tr>\n",
              "  </thead>\n",
              "  <tbody>\n",
              "    <tr>\n",
              "      <th>142</th>\n",
              "      <td>145.401573</td>\n",
              "      <td>81.494220</td>\n",
              "      <td>1035.811759</td>\n",
              "      <td>1027.231301</td>\n",
              "      <td>2286.479200</td>\n",
              "      <td>2446.127365</td>\n",
              "      <td>1946.979455</td>\n",
              "      <td>2125.705765</td>\n",
              "    </tr>\n",
              "    <tr>\n",
              "      <th>143</th>\n",
              "      <td>145.401573</td>\n",
              "      <td>81.494220</td>\n",
              "      <td>1035.811759</td>\n",
              "      <td>1028.048637</td>\n",
              "      <td>2537.558669</td>\n",
              "      <td>2720.020037</td>\n",
              "      <td>1942.374063</td>\n",
              "      <td>2121.280981</td>\n",
              "    </tr>\n",
              "    <tr>\n",
              "      <th>144</th>\n",
              "      <td>151.716841</td>\n",
              "      <td>88.141931</td>\n",
              "      <td>1035.811759</td>\n",
              "      <td>1027.231301</td>\n",
              "      <td>2464.208798</td>\n",
              "      <td>2528.677520</td>\n",
              "      <td>1942.374063</td>\n",
              "      <td>2121.280981</td>\n",
              "    </tr>\n",
              "    <tr>\n",
              "      <th>145</th>\n",
              "      <td>151.716841</td>\n",
              "      <td>88.141931</td>\n",
              "      <td>1035.811759</td>\n",
              "      <td>1023.249725</td>\n",
              "      <td>2464.208798</td>\n",
              "      <td>2528.677520</td>\n",
              "      <td>1930.565979</td>\n",
              "      <td>2110.030568</td>\n",
              "    </tr>\n",
              "    <tr>\n",
              "      <th>146</th>\n",
              "      <td>142.021125</td>\n",
              "      <td>75.584390</td>\n",
              "      <td>1031.004365</td>\n",
              "      <td>1023.000000</td>\n",
              "      <td>2464.208798</td>\n",
              "      <td>2528.677520</td>\n",
              "      <td>1924.370546</td>\n",
              "      <td>2104.219095</td>\n",
              "    </tr>\n",
              "  </tbody>\n",
              "</table>\n",
              "</div>\n",
              "    <div class=\"colab-df-buttons\">\n",
              "\n",
              "  <div class=\"colab-df-container\">\n",
              "    <button class=\"colab-df-convert\" onclick=\"convertToInteractive('df-46e6503f-197e-42aa-a1b4-44bc1877dc6f')\"\n",
              "            title=\"Convert this dataframe to an interactive table.\"\n",
              "            style=\"display:none;\">\n",
              "\n",
              "  <svg xmlns=\"http://www.w3.org/2000/svg\" height=\"24px\" viewBox=\"0 -960 960 960\">\n",
              "    <path d=\"M120-120v-720h720v720H120Zm60-500h600v-160H180v160Zm220 220h160v-160H400v160Zm0 220h160v-160H400v160ZM180-400h160v-160H180v160Zm440 0h160v-160H620v160ZM180-180h160v-160H180v160Zm440 0h160v-160H620v160Z\"/>\n",
              "  </svg>\n",
              "    </button>\n",
              "\n",
              "  <style>\n",
              "    .colab-df-container {\n",
              "      display:flex;\n",
              "      gap: 12px;\n",
              "    }\n",
              "\n",
              "    .colab-df-convert {\n",
              "      background-color: #E8F0FE;\n",
              "      border: none;\n",
              "      border-radius: 50%;\n",
              "      cursor: pointer;\n",
              "      display: none;\n",
              "      fill: #1967D2;\n",
              "      height: 32px;\n",
              "      padding: 0 0 0 0;\n",
              "      width: 32px;\n",
              "    }\n",
              "\n",
              "    .colab-df-convert:hover {\n",
              "      background-color: #E2EBFA;\n",
              "      box-shadow: 0px 1px 2px rgba(60, 64, 67, 0.3), 0px 1px 3px 1px rgba(60, 64, 67, 0.15);\n",
              "      fill: #174EA6;\n",
              "    }\n",
              "\n",
              "    .colab-df-buttons div {\n",
              "      margin-bottom: 4px;\n",
              "    }\n",
              "\n",
              "    [theme=dark] .colab-df-convert {\n",
              "      background-color: #3B4455;\n",
              "      fill: #D2E3FC;\n",
              "    }\n",
              "\n",
              "    [theme=dark] .colab-df-convert:hover {\n",
              "      background-color: #434B5C;\n",
              "      box-shadow: 0px 1px 3px 1px rgba(0, 0, 0, 0.15);\n",
              "      filter: drop-shadow(0px 1px 2px rgba(0, 0, 0, 0.3));\n",
              "      fill: #FFFFFF;\n",
              "    }\n",
              "  </style>\n",
              "\n",
              "    <script>\n",
              "      const buttonEl =\n",
              "        document.querySelector('#df-46e6503f-197e-42aa-a1b4-44bc1877dc6f button.colab-df-convert');\n",
              "      buttonEl.style.display =\n",
              "        google.colab.kernel.accessAllowed ? 'block' : 'none';\n",
              "\n",
              "      async function convertToInteractive(key) {\n",
              "        const element = document.querySelector('#df-46e6503f-197e-42aa-a1b4-44bc1877dc6f');\n",
              "        const dataTable =\n",
              "          await google.colab.kernel.invokeFunction('convertToInteractive',\n",
              "                                                    [key], {});\n",
              "        if (!dataTable) return;\n",
              "\n",
              "        const docLinkHtml = 'Like what you see? Visit the ' +\n",
              "          '<a target=\"_blank\" href=https://colab.research.google.com/notebooks/data_table.ipynb>data table notebook</a>'\n",
              "          + ' to learn more about interactive tables.';\n",
              "        element.innerHTML = '';\n",
              "        dataTable['output_type'] = 'display_data';\n",
              "        await google.colab.output.renderOutput(dataTable, element);\n",
              "        const docLink = document.createElement('div');\n",
              "        docLink.innerHTML = docLinkHtml;\n",
              "        element.appendChild(docLink);\n",
              "      }\n",
              "    </script>\n",
              "  </div>\n",
              "\n",
              "\n",
              "<div id=\"df-9707f307-4b7d-4d6b-bc1b-72dc72626456\">\n",
              "  <button class=\"colab-df-quickchart\" onclick=\"quickchart('df-9707f307-4b7d-4d6b-bc1b-72dc72626456')\"\n",
              "            title=\"Suggest charts\"\n",
              "            style=\"display:none;\">\n",
              "\n",
              "<svg xmlns=\"http://www.w3.org/2000/svg\" height=\"24px\"viewBox=\"0 0 24 24\"\n",
              "     width=\"24px\">\n",
              "    <g>\n",
              "        <path d=\"M19 3H5c-1.1 0-2 .9-2 2v14c0 1.1.9 2 2 2h14c1.1 0 2-.9 2-2V5c0-1.1-.9-2-2-2zM9 17H7v-7h2v7zm4 0h-2V7h2v10zm4 0h-2v-4h2v4z\"/>\n",
              "    </g>\n",
              "</svg>\n",
              "  </button>\n",
              "\n",
              "<style>\n",
              "  .colab-df-quickchart {\n",
              "      --bg-color: #E8F0FE;\n",
              "      --fill-color: #1967D2;\n",
              "      --hover-bg-color: #E2EBFA;\n",
              "      --hover-fill-color: #174EA6;\n",
              "      --disabled-fill-color: #AAA;\n",
              "      --disabled-bg-color: #DDD;\n",
              "  }\n",
              "\n",
              "  [theme=dark] .colab-df-quickchart {\n",
              "      --bg-color: #3B4455;\n",
              "      --fill-color: #D2E3FC;\n",
              "      --hover-bg-color: #434B5C;\n",
              "      --hover-fill-color: #FFFFFF;\n",
              "      --disabled-bg-color: #3B4455;\n",
              "      --disabled-fill-color: #666;\n",
              "  }\n",
              "\n",
              "  .colab-df-quickchart {\n",
              "    background-color: var(--bg-color);\n",
              "    border: none;\n",
              "    border-radius: 50%;\n",
              "    cursor: pointer;\n",
              "    display: none;\n",
              "    fill: var(--fill-color);\n",
              "    height: 32px;\n",
              "    padding: 0;\n",
              "    width: 32px;\n",
              "  }\n",
              "\n",
              "  .colab-df-quickchart:hover {\n",
              "    background-color: var(--hover-bg-color);\n",
              "    box-shadow: 0 1px 2px rgba(60, 64, 67, 0.3), 0 1px 3px 1px rgba(60, 64, 67, 0.15);\n",
              "    fill: var(--button-hover-fill-color);\n",
              "  }\n",
              "\n",
              "  .colab-df-quickchart-complete:disabled,\n",
              "  .colab-df-quickchart-complete:disabled:hover {\n",
              "    background-color: var(--disabled-bg-color);\n",
              "    fill: var(--disabled-fill-color);\n",
              "    box-shadow: none;\n",
              "  }\n",
              "\n",
              "  .colab-df-spinner {\n",
              "    border: 2px solid var(--fill-color);\n",
              "    border-color: transparent;\n",
              "    border-bottom-color: var(--fill-color);\n",
              "    animation:\n",
              "      spin 1s steps(1) infinite;\n",
              "  }\n",
              "\n",
              "  @keyframes spin {\n",
              "    0% {\n",
              "      border-color: transparent;\n",
              "      border-bottom-color: var(--fill-color);\n",
              "      border-left-color: var(--fill-color);\n",
              "    }\n",
              "    20% {\n",
              "      border-color: transparent;\n",
              "      border-left-color: var(--fill-color);\n",
              "      border-top-color: var(--fill-color);\n",
              "    }\n",
              "    30% {\n",
              "      border-color: transparent;\n",
              "      border-left-color: var(--fill-color);\n",
              "      border-top-color: var(--fill-color);\n",
              "      border-right-color: var(--fill-color);\n",
              "    }\n",
              "    40% {\n",
              "      border-color: transparent;\n",
              "      border-right-color: var(--fill-color);\n",
              "      border-top-color: var(--fill-color);\n",
              "    }\n",
              "    60% {\n",
              "      border-color: transparent;\n",
              "      border-right-color: var(--fill-color);\n",
              "    }\n",
              "    80% {\n",
              "      border-color: transparent;\n",
              "      border-right-color: var(--fill-color);\n",
              "      border-bottom-color: var(--fill-color);\n",
              "    }\n",
              "    90% {\n",
              "      border-color: transparent;\n",
              "      border-bottom-color: var(--fill-color);\n",
              "    }\n",
              "  }\n",
              "</style>\n",
              "\n",
              "  <script>\n",
              "    async function quickchart(key) {\n",
              "      const quickchartButtonEl =\n",
              "        document.querySelector('#' + key + ' button');\n",
              "      quickchartButtonEl.disabled = true;  // To prevent multiple clicks.\n",
              "      quickchartButtonEl.classList.add('colab-df-spinner');\n",
              "      try {\n",
              "        const charts = await google.colab.kernel.invokeFunction(\n",
              "            'suggestCharts', [key], {});\n",
              "      } catch (error) {\n",
              "        console.error('Error during call to suggestCharts:', error);\n",
              "      }\n",
              "      quickchartButtonEl.classList.remove('colab-df-spinner');\n",
              "      quickchartButtonEl.classList.add('colab-df-quickchart-complete');\n",
              "    }\n",
              "    (() => {\n",
              "      let quickchartButtonEl =\n",
              "        document.querySelector('#df-9707f307-4b7d-4d6b-bc1b-72dc72626456 button');\n",
              "      quickchartButtonEl.style.display =\n",
              "        google.colab.kernel.accessAllowed ? 'block' : 'none';\n",
              "    })();\n",
              "  </script>\n",
              "</div>\n",
              "\n",
              "    </div>\n",
              "  </div>\n"
            ],
            "application/vnd.google.colaboratory.intrinsic+json": {
              "type": "dataframe",
              "summary": "{\n  \"name\": \"y\",\n  \"rows\": 5,\n  \"fields\": [\n    {\n      \"column\": \"c1_dist\",\n      \"properties\": {\n        \"dtype\": \"number\",\n        \"std\": 4.303482055880218,\n        \"min\": 142.0211252,\n        \"max\": 151.7168415,\n        \"num_unique_values\": 3,\n        \"samples\": [\n          145.4015728,\n          151.7168415,\n          142.0211252\n        ],\n        \"semantic_type\": \"\",\n        \"description\": \"\"\n      }\n    },\n    {\n      \"column\": \"c2_dist\",\n      \"properties\": {\n        \"dtype\": \"number\",\n        \"std\": 5.300962631428817,\n        \"min\": 75.58438992,\n        \"max\": 88.141931,\n        \"num_unique_values\": 3,\n        \"samples\": [\n          81.4942203,\n          88.141931,\n          75.58438992\n        ],\n        \"semantic_type\": \"\",\n        \"description\": \"\"\n      }\n    },\n    {\n      \"column\": \"c3_dist\",\n      \"properties\": {\n        \"dtype\": \"number\",\n        \"std\": 2.149931955724894,\n        \"min\": 1031.004365,\n        \"max\": 1035.811759,\n        \"num_unique_values\": 2,\n        \"samples\": [\n          1031.004365,\n          1035.811759\n        ],\n        \"semantic_type\": \"\",\n        \"description\": \"\"\n      }\n    },\n    {\n      \"column\": \"c4_dist\",\n      \"properties\": {\n        \"dtype\": \"number\",\n        \"std\": 2.423122538944003,\n        \"min\": 1023.0,\n        \"max\": 1028.048637,\n        \"num_unique_values\": 4,\n        \"samples\": [\n          1028.048637,\n          1023.0\n        ],\n        \"semantic_type\": \"\",\n        \"description\": \"\"\n      }\n    },\n    {\n      \"column\": \"c5_dist\",\n      \"properties\": {\n        \"dtype\": \"number\",\n        \"std\": 93.25903207745213,\n        \"min\": 2286.4791995,\n        \"max\": 2537.558669,\n        \"num_unique_values\": 3,\n        \"samples\": [\n          2286.4791995,\n          2537.558669\n        ],\n        \"semantic_type\": \"\",\n        \"description\": \"\"\n      }\n    },\n    {\n      \"column\": \"c6_dist\",\n      \"properties\": {\n        \"dtype\": \"number\",\n        \"std\": 101.31551114242427,\n        \"min\": 2446.1273655,\n        \"max\": 2720.020037,\n        \"num_unique_values\": 3,\n        \"samples\": [\n          2446.1273655,\n          2720.020037\n        ],\n        \"semantic_type\": \"\",\n        \"description\": \"\"\n      }\n    },\n    {\n      \"column\": \"c7_dist\",\n      \"properties\": {\n        \"dtype\": \"number\",\n        \"std\": 9.456433169589744,\n        \"min\": 1924.370546,\n        \"max\": 1946.979455,\n        \"num_unique_values\": 4,\n        \"samples\": [\n          1942.374063,\n          1924.370546\n        ],\n        \"semantic_type\": \"\",\n        \"description\": \"\"\n      }\n    },\n    {\n      \"column\": \"c8_dist\",\n      \"properties\": {\n        \"dtype\": \"number\",\n        \"std\": 8.987989005044131,\n        \"min\": 2104.219095,\n        \"max\": 2125.705765,\n        \"num_unique_values\": 4,\n        \"samples\": [\n          2121.280981,\n          2104.219095\n        ],\n        \"semantic_type\": \"\",\n        \"description\": \"\"\n      }\n    }\n  ]\n}"
            }
          },
          "metadata": {},
          "execution_count": 6
        }
      ]
    },
    {
      "cell_type": "code",
      "source": [
        "\n",
        "X_train, X_test, y_train, y_test = train_test_split(X, y, test_size=0.2, random_state=42)\n"
      ],
      "metadata": {
        "id": "M9BYIt3sGvu2"
      },
      "execution_count": null,
      "outputs": []
    },
    {
      "cell_type": "code",
      "source": [
        "\n",
        "lgb_model = lgb.LGBMRegressor(objective='regression', num_leaves=31, learning_rate=0.05, n_estimators=50)\n",
        "\n",
        "multi_output_model = MultiOutputRegressor(lgb_model)\n",
        "\n",
        "\n",
        "\n",
        "# Train the model\n",
        "multi_output_model.fit(X_train, y_train)"
      ],
      "metadata": {
        "id": "CeoTdUZRwqKz"
      },
      "execution_count": null,
      "outputs": []
    },
    {
      "cell_type": "code",
      "source": [
        "# Predict on the test set\n",
        "y_pred = multi_output_model.predict(X_test)"
      ],
      "metadata": {
        "id": "4l6f2R4sdRa-"
      },
      "execution_count": null,
      "outputs": []
    },
    {
      "cell_type": "code",
      "source": [
        "# Evaluate performance\n",
        "range=[]\n",
        "rmse = np.sqrt(mean_squared_error(y_test, y_pred, multioutput='raw_values'))  # RMSE for each target\n",
        "print(\"Testing RMSE for each control point:\", rmse)\n",
        "\n",
        "\n",
        "for i in df.columns[1:-2]:\n",
        "    col_min = min(df[i])\n",
        "    col_max = max(df[i])\n",
        "    range.append([col_min, col_max])\n"
      ],
      "metadata": {
        "colab": {
          "base_uri": "https://localhost:8080/"
        },
        "id": "2C-UMJogCEWY",
        "outputId": "bf55e57e-21ec-448d-8e92-75fd0272a073"
      },
      "execution_count": null,
      "outputs": [
        {
          "output_type": "stream",
          "name": "stdout",
          "text": [
            "Testing RMSE for each control point: [ 9.15647158  7.27043298 65.11307386 58.16222227 80.39565658 86.76700978\n",
            " 74.45445695 80.25107639]\n"
          ]
        }
      ]
    },
    {
      "cell_type": "code",
      "source": [
        "for i in rmse:\n",
        "  index_r=int(np.where(rmse==i)[0])\n",
        "  err_percentage=i/(range[index_r][1]-range[index_r][0])*100\n",
        "  print(index_r, '->', err_percentage)"
      ],
      "metadata": {
        "colab": {
          "base_uri": "https://localhost:8080/"
        },
        "id": "gdSKGT7eFGJJ",
        "outputId": "92398e96-f52c-4e48-95e7-7f06d3ddcc31"
      },
      "execution_count": null,
      "outputs": [
        {
          "output_type": "stream",
          "name": "stdout",
          "text": [
            "0 -> 5.3244700119655795\n",
            "1 -> 4.344633898076348\n",
            "2 -> 12.861918873445463\n",
            "3 -> 11.844134077889366\n",
            "4 -> 14.833297630254425\n",
            "5 -> 15.03289997404947\n",
            "6 -> 14.539089876511799\n",
            "7 -> 15.690699703761506\n"
          ]
        },
        {
          "output_type": "stream",
          "name": "stderr",
          "text": [
            "<ipython-input-11-d2d1e570ef13>:2: DeprecationWarning: Conversion of an array with ndim > 0 to a scalar is deprecated, and will error in future. Ensure you extract a single element from your array before performing this operation. (Deprecated NumPy 1.25.)\n",
            "  index_r=int(np.where(rmse==i)[0])\n"
          ]
        }
      ]
    },
    {
      "cell_type": "code",
      "source": [
        "r2_test = r2_score(y_test, y_pred)\n",
        "print(f'r squared score: {r2_test}')"
      ],
      "metadata": {
        "colab": {
          "base_uri": "https://localhost:8080/"
        },
        "id": "wqVA6_bvA8KZ",
        "outputId": "4247de0e-d8f6-4afb-ea6e-2c22ee874619"
      },
      "execution_count": null,
      "outputs": [
        {
          "output_type": "stream",
          "name": "stdout",
          "text": [
            "r squared score: 0.7326793994096793\n"
          ]
        }
      ]
    },
    {
      "cell_type": "code",
      "source": [
        "# Calculate baseline predictions (mean of each target column in training data)\n",
        "baseline_predictions = np.tile(y_train.mean(axis=0), (len(y_test), 1))\n",
        "\n",
        "# Compute RMSE for each target column\n",
        "baseline_rmse = np.sqrt(mean_squared_error(y_test, baseline_predictions, multioutput='raw_values'))\n",
        "\n",
        "baseline_r2=r2_score(y_test, baseline_predictions)\n",
        "\n",
        "print(f'baseline r2 score : {baseline_r2}')"
      ],
      "metadata": {
        "id": "hC9QYPBGzthD",
        "colab": {
          "base_uri": "https://localhost:8080/"
        },
        "outputId": "eadede78-b5ce-451b-fa5c-88614c421555"
      },
      "execution_count": null,
      "outputs": [
        {
          "output_type": "stream",
          "name": "stdout",
          "text": [
            "baseline r2 score : -0.031226485424566325\n"
          ]
        }
      ]
    },
    {
      "cell_type": "code",
      "source": [
        "for i in baseline_rmse:\n",
        "  index_r=int(np.where(baseline_rmse==i)[0])\n",
        "  err_percentage=i/(range[index_r][1]-range[index_r][0])*100\n",
        "  print(index_r, '->', err_percentage)"
      ],
      "metadata": {
        "colab": {
          "base_uri": "https://localhost:8080/"
        },
        "id": "ZhjdfIuNz0pY",
        "outputId": "c4e026fd-2e16-4db8-ae78-40c2991d762f"
      },
      "execution_count": null,
      "outputs": [
        {
          "output_type": "stream",
          "name": "stdout",
          "text": [
            "0 -> 13.326835896718139\n",
            "1 -> 16.58176628310822\n",
            "2 -> 27.965021873967384\n",
            "3 -> 24.722561720716975\n",
            "4 -> 28.624080141298357\n",
            "5 -> 27.079674354217875\n",
            "6 -> 23.533538621956804\n",
            "7 -> 23.592090536151993\n"
          ]
        },
        {
          "output_type": "stream",
          "name": "stderr",
          "text": [
            "<ipython-input-13-3a774f9c6244>:2: DeprecationWarning: Conversion of an array with ndim > 0 to a scalar is deprecated, and will error in future. Ensure you extract a single element from your array before performing this operation. (Deprecated NumPy 1.25.)\n",
            "  index_r=int(np.where(baseline_rmse==i)[0])\n"
          ]
        }
      ]
    },
    {
      "cell_type": "code",
      "source": [
        "y_train_pred = multi_output_model.predict(X_train)\n",
        "\n",
        "rmse_train = np.sqrt(mean_squared_error(y_train, y_train_pred, multioutput='raw_values'))\n",
        "\n",
        "print(\"Training RMSE for each control point:\", rmse_train)"
      ],
      "metadata": {
        "colab": {
          "base_uri": "https://localhost:8080/"
        },
        "id": "19uHhpMVaWjF",
        "outputId": "b671037d-ba2f-4d2b-c3cf-c1fcd2f156cd"
      },
      "execution_count": null,
      "outputs": [
        {
          "output_type": "stream",
          "name": "stdout",
          "text": [
            "Training RMSE for each control point: [ 9.4227784   8.36916445 61.73057092 54.37447178 76.9009425  84.79284808\n",
            " 73.06680758 76.02301911]\n"
          ]
        }
      ]
    },
    {
      "cell_type": "code",
      "source": [
        "for i in rmse_train:\n",
        "  index_r=int(np.where(rmse_train==i)[0])\n",
        "  err_percentage=i/(range[index_r][1]-range[index_r][0])*100\n",
        "  print(index_r, '->', err_percentage)"
      ],
      "metadata": {
        "colab": {
          "base_uri": "https://localhost:8080/"
        },
        "id": "QFjT6gDVafMX",
        "outputId": "164adf18-3f3e-48ad-b9a5-e390cbe940a5"
      },
      "execution_count": null,
      "outputs": [
        {
          "output_type": "stream",
          "name": "stdout",
          "text": [
            "0 -> 5.479326896800499\n",
            "1 -> 5.001209095879468\n",
            "2 -> 12.19376613902132\n",
            "3 -> 11.072797927251294\n",
            "4 -> 14.188509884656822\n",
            "5 -> 14.690864730041172\n",
            "6 -> 14.268116724174892\n",
            "7 -> 14.864029457344207\n"
          ]
        },
        {
          "output_type": "stream",
          "name": "stderr",
          "text": [
            "<ipython-input-15-17dd42db85c4>:2: DeprecationWarning: Conversion of an array with ndim > 0 to a scalar is deprecated, and will error in future. Ensure you extract a single element from your array before performing this operation. (Deprecated NumPy 1.25.)\n",
            "  index_r=int(np.where(rmse_train==i)[0])\n"
          ]
        }
      ]
    }
  ]
}