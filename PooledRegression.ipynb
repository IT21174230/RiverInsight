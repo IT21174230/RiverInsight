{
  "nbformat": 4,
  "nbformat_minor": 0,
  "metadata": {
    "colab": {
      "provenance": []
    },
    "kernelspec": {
      "name": "python3",
      "display_name": "Python 3"
    },
    "language_info": {
      "name": "python"
    }
  },
  "cells": [
    {
      "cell_type": "code",
      "execution_count": null,
      "metadata": {
        "id": "eLMaJakfAEWG"
      },
      "outputs": [],
      "source": [
        "import pandas as pd\n",
        "from sklearn.model_selection import train_test_split\n",
        "from sklearn.linear_model import Ridge\n",
        "from sklearn.preprocessing import OneHotEncoder\n",
        "from sklearn.compose import ColumnTransformer\n",
        "from sklearn.pipeline import Pipeline\n",
        "from statsmodels.stats.diagnostic import het_breuschpagan, acorr_breusch_godfrey\n",
        "from statsmodels.stats.outliers_influence import variance_inflation_factor\n",
        "from statsmodels.stats.stattools import durbin_watson\n",
        "from sklearn.metrics import mean_absolute_error, mean_squared_error, r2_score, mean_absolute_percentage_error\n",
        "import numpy as np\n",
        "from statsmodels.stats.diagnostic import het_breuschpagan\n",
        "import statsmodels.api as sm\n",
        "from scipy.stats import shapiro\n",
        "from statsmodels.stats.diagnostic import het_breuschpagan\n",
        "import statsmodels.api as sm\n",
        "import joblib"
      ]
    },
    {
      "cell_type": "code",
      "source": [
        "df=pd.read_csv('/content/MeanderingInterploatedUpdated.csv', index_col=0)"
      ],
      "metadata": {
        "id": "bETDvLJQAPyZ"
      },
      "execution_count": null,
      "outputs": []
    },
    {
      "cell_type": "markdown",
      "source": [
        "# Train a ridge regression model\n"
      ],
      "metadata": {
        "id": "GNGzh7U8WF80"
      }
    },
    {
      "cell_type": "code",
      "source": [
        "df_long = df.melt(id_vars='name', var_name='series', value_name='value')\n",
        "# turn the df into a long df\n",
        "\n",
        "df_long['year'] = df_long['name'].str.split('-').str[0].astype(int)\n",
        "df_long['quarter'] = df_long['name'].str.split('-').str[1].astype(int)\n",
        "# turn years and quarteres into int\n",
        "\n",
        "X = df_long[['series', 'year', 'quarter']]\n",
        "y = df_long['value']\n",
        "\n",
        "\n",
        "X_train, X_test, y_train, y_test = train_test_split(X, y, test_size=0.2, random_state=42)\n",
        "\n",
        "# prepare features\n",
        "# encode series and quarter but others can ignored - drop one encoded colum to get rid of multicolinearity\n",
        "preprocessor = ColumnTransformer(\n",
        "    transformers=[\n",
        "        ('cat', OneHotEncoder(drop='first'), ['series', 'quarter', 'year'])  # One-hot encode 'series' and 'quarter'\n",
        "    ],\n",
        "    remainder='passthrough'\n",
        ")\n"
      ],
      "metadata": {
        "id": "KAeuBWXWAZmv"
      },
      "execution_count": null,
      "outputs": []
    },
    {
      "cell_type": "code",
      "source": [
        "df_long.head()"
      ],
      "metadata": {
        "colab": {
          "base_uri": "https://localhost:8080/",
          "height": 206
        },
        "id": "rGZcYukKfz9t",
        "outputId": "dc240d42-30d4-4fc5-f63b-d5c19eb9a655"
      },
      "execution_count": null,
      "outputs": [
        {
          "output_type": "execute_result",
          "data": {
            "text/plain": [
              "     name   series      value  year  quarter\n",
              "0  1988-1  c1_dist  80.622577  1988        1\n",
              "1  1988-2  c1_dist  89.201242  1988        2\n",
              "2  1988-3  c1_dist  90.426766  1988        3\n",
              "3  1988-4  c1_dist  75.000000  1988        4\n",
              "4  1989-1  c1_dist  75.485233  1989        1"
            ],
            "text/html": [
              "\n",
              "  <div id=\"df-a1b310c3-317f-4346-9127-9ea921deac5e\" class=\"colab-df-container\">\n",
              "    <div>\n",
              "<style scoped>\n",
              "    .dataframe tbody tr th:only-of-type {\n",
              "        vertical-align: middle;\n",
              "    }\n",
              "\n",
              "    .dataframe tbody tr th {\n",
              "        vertical-align: top;\n",
              "    }\n",
              "\n",
              "    .dataframe thead th {\n",
              "        text-align: right;\n",
              "    }\n",
              "</style>\n",
              "<table border=\"1\" class=\"dataframe\">\n",
              "  <thead>\n",
              "    <tr style=\"text-align: right;\">\n",
              "      <th></th>\n",
              "      <th>name</th>\n",
              "      <th>series</th>\n",
              "      <th>value</th>\n",
              "      <th>year</th>\n",
              "      <th>quarter</th>\n",
              "    </tr>\n",
              "  </thead>\n",
              "  <tbody>\n",
              "    <tr>\n",
              "      <th>0</th>\n",
              "      <td>1988-1</td>\n",
              "      <td>c1_dist</td>\n",
              "      <td>80.622577</td>\n",
              "      <td>1988</td>\n",
              "      <td>1</td>\n",
              "    </tr>\n",
              "    <tr>\n",
              "      <th>1</th>\n",
              "      <td>1988-2</td>\n",
              "      <td>c1_dist</td>\n",
              "      <td>89.201242</td>\n",
              "      <td>1988</td>\n",
              "      <td>2</td>\n",
              "    </tr>\n",
              "    <tr>\n",
              "      <th>2</th>\n",
              "      <td>1988-3</td>\n",
              "      <td>c1_dist</td>\n",
              "      <td>90.426766</td>\n",
              "      <td>1988</td>\n",
              "      <td>3</td>\n",
              "    </tr>\n",
              "    <tr>\n",
              "      <th>3</th>\n",
              "      <td>1988-4</td>\n",
              "      <td>c1_dist</td>\n",
              "      <td>75.000000</td>\n",
              "      <td>1988</td>\n",
              "      <td>4</td>\n",
              "    </tr>\n",
              "    <tr>\n",
              "      <th>4</th>\n",
              "      <td>1989-1</td>\n",
              "      <td>c1_dist</td>\n",
              "      <td>75.485233</td>\n",
              "      <td>1989</td>\n",
              "      <td>1</td>\n",
              "    </tr>\n",
              "  </tbody>\n",
              "</table>\n",
              "</div>\n",
              "    <div class=\"colab-df-buttons\">\n",
              "\n",
              "  <div class=\"colab-df-container\">\n",
              "    <button class=\"colab-df-convert\" onclick=\"convertToInteractive('df-a1b310c3-317f-4346-9127-9ea921deac5e')\"\n",
              "            title=\"Convert this dataframe to an interactive table.\"\n",
              "            style=\"display:none;\">\n",
              "\n",
              "  <svg xmlns=\"http://www.w3.org/2000/svg\" height=\"24px\" viewBox=\"0 -960 960 960\">\n",
              "    <path d=\"M120-120v-720h720v720H120Zm60-500h600v-160H180v160Zm220 220h160v-160H400v160Zm0 220h160v-160H400v160ZM180-400h160v-160H180v160Zm440 0h160v-160H620v160ZM180-180h160v-160H180v160Zm440 0h160v-160H620v160Z\"/>\n",
              "  </svg>\n",
              "    </button>\n",
              "\n",
              "  <style>\n",
              "    .colab-df-container {\n",
              "      display:flex;\n",
              "      gap: 12px;\n",
              "    }\n",
              "\n",
              "    .colab-df-convert {\n",
              "      background-color: #E8F0FE;\n",
              "      border: none;\n",
              "      border-radius: 50%;\n",
              "      cursor: pointer;\n",
              "      display: none;\n",
              "      fill: #1967D2;\n",
              "      height: 32px;\n",
              "      padding: 0 0 0 0;\n",
              "      width: 32px;\n",
              "    }\n",
              "\n",
              "    .colab-df-convert:hover {\n",
              "      background-color: #E2EBFA;\n",
              "      box-shadow: 0px 1px 2px rgba(60, 64, 67, 0.3), 0px 1px 3px 1px rgba(60, 64, 67, 0.15);\n",
              "      fill: #174EA6;\n",
              "    }\n",
              "\n",
              "    .colab-df-buttons div {\n",
              "      margin-bottom: 4px;\n",
              "    }\n",
              "\n",
              "    [theme=dark] .colab-df-convert {\n",
              "      background-color: #3B4455;\n",
              "      fill: #D2E3FC;\n",
              "    }\n",
              "\n",
              "    [theme=dark] .colab-df-convert:hover {\n",
              "      background-color: #434B5C;\n",
              "      box-shadow: 0px 1px 3px 1px rgba(0, 0, 0, 0.15);\n",
              "      filter: drop-shadow(0px 1px 2px rgba(0, 0, 0, 0.3));\n",
              "      fill: #FFFFFF;\n",
              "    }\n",
              "  </style>\n",
              "\n",
              "    <script>\n",
              "      const buttonEl =\n",
              "        document.querySelector('#df-a1b310c3-317f-4346-9127-9ea921deac5e button.colab-df-convert');\n",
              "      buttonEl.style.display =\n",
              "        google.colab.kernel.accessAllowed ? 'block' : 'none';\n",
              "\n",
              "      async function convertToInteractive(key) {\n",
              "        const element = document.querySelector('#df-a1b310c3-317f-4346-9127-9ea921deac5e');\n",
              "        const dataTable =\n",
              "          await google.colab.kernel.invokeFunction('convertToInteractive',\n",
              "                                                    [key], {});\n",
              "        if (!dataTable) return;\n",
              "\n",
              "        const docLinkHtml = 'Like what you see? Visit the ' +\n",
              "          '<a target=\"_blank\" href=https://colab.research.google.com/notebooks/data_table.ipynb>data table notebook</a>'\n",
              "          + ' to learn more about interactive tables.';\n",
              "        element.innerHTML = '';\n",
              "        dataTable['output_type'] = 'display_data';\n",
              "        await google.colab.output.renderOutput(dataTable, element);\n",
              "        const docLink = document.createElement('div');\n",
              "        docLink.innerHTML = docLinkHtml;\n",
              "        element.appendChild(docLink);\n",
              "      }\n",
              "    </script>\n",
              "  </div>\n",
              "\n",
              "\n",
              "<div id=\"df-40926ab5-1233-4013-ac9b-b084fcf338c4\">\n",
              "  <button class=\"colab-df-quickchart\" onclick=\"quickchart('df-40926ab5-1233-4013-ac9b-b084fcf338c4')\"\n",
              "            title=\"Suggest charts\"\n",
              "            style=\"display:none;\">\n",
              "\n",
              "<svg xmlns=\"http://www.w3.org/2000/svg\" height=\"24px\"viewBox=\"0 0 24 24\"\n",
              "     width=\"24px\">\n",
              "    <g>\n",
              "        <path d=\"M19 3H5c-1.1 0-2 .9-2 2v14c0 1.1.9 2 2 2h14c1.1 0 2-.9 2-2V5c0-1.1-.9-2-2-2zM9 17H7v-7h2v7zm4 0h-2V7h2v10zm4 0h-2v-4h2v4z\"/>\n",
              "    </g>\n",
              "</svg>\n",
              "  </button>\n",
              "\n",
              "<style>\n",
              "  .colab-df-quickchart {\n",
              "      --bg-color: #E8F0FE;\n",
              "      --fill-color: #1967D2;\n",
              "      --hover-bg-color: #E2EBFA;\n",
              "      --hover-fill-color: #174EA6;\n",
              "      --disabled-fill-color: #AAA;\n",
              "      --disabled-bg-color: #DDD;\n",
              "  }\n",
              "\n",
              "  [theme=dark] .colab-df-quickchart {\n",
              "      --bg-color: #3B4455;\n",
              "      --fill-color: #D2E3FC;\n",
              "      --hover-bg-color: #434B5C;\n",
              "      --hover-fill-color: #FFFFFF;\n",
              "      --disabled-bg-color: #3B4455;\n",
              "      --disabled-fill-color: #666;\n",
              "  }\n",
              "\n",
              "  .colab-df-quickchart {\n",
              "    background-color: var(--bg-color);\n",
              "    border: none;\n",
              "    border-radius: 50%;\n",
              "    cursor: pointer;\n",
              "    display: none;\n",
              "    fill: var(--fill-color);\n",
              "    height: 32px;\n",
              "    padding: 0;\n",
              "    width: 32px;\n",
              "  }\n",
              "\n",
              "  .colab-df-quickchart:hover {\n",
              "    background-color: var(--hover-bg-color);\n",
              "    box-shadow: 0 1px 2px rgba(60, 64, 67, 0.3), 0 1px 3px 1px rgba(60, 64, 67, 0.15);\n",
              "    fill: var(--button-hover-fill-color);\n",
              "  }\n",
              "\n",
              "  .colab-df-quickchart-complete:disabled,\n",
              "  .colab-df-quickchart-complete:disabled:hover {\n",
              "    background-color: var(--disabled-bg-color);\n",
              "    fill: var(--disabled-fill-color);\n",
              "    box-shadow: none;\n",
              "  }\n",
              "\n",
              "  .colab-df-spinner {\n",
              "    border: 2px solid var(--fill-color);\n",
              "    border-color: transparent;\n",
              "    border-bottom-color: var(--fill-color);\n",
              "    animation:\n",
              "      spin 1s steps(1) infinite;\n",
              "  }\n",
              "\n",
              "  @keyframes spin {\n",
              "    0% {\n",
              "      border-color: transparent;\n",
              "      border-bottom-color: var(--fill-color);\n",
              "      border-left-color: var(--fill-color);\n",
              "    }\n",
              "    20% {\n",
              "      border-color: transparent;\n",
              "      border-left-color: var(--fill-color);\n",
              "      border-top-color: var(--fill-color);\n",
              "    }\n",
              "    30% {\n",
              "      border-color: transparent;\n",
              "      border-left-color: var(--fill-color);\n",
              "      border-top-color: var(--fill-color);\n",
              "      border-right-color: var(--fill-color);\n",
              "    }\n",
              "    40% {\n",
              "      border-color: transparent;\n",
              "      border-right-color: var(--fill-color);\n",
              "      border-top-color: var(--fill-color);\n",
              "    }\n",
              "    60% {\n",
              "      border-color: transparent;\n",
              "      border-right-color: var(--fill-color);\n",
              "    }\n",
              "    80% {\n",
              "      border-color: transparent;\n",
              "      border-right-color: var(--fill-color);\n",
              "      border-bottom-color: var(--fill-color);\n",
              "    }\n",
              "    90% {\n",
              "      border-color: transparent;\n",
              "      border-bottom-color: var(--fill-color);\n",
              "    }\n",
              "  }\n",
              "</style>\n",
              "\n",
              "  <script>\n",
              "    async function quickchart(key) {\n",
              "      const quickchartButtonEl =\n",
              "        document.querySelector('#' + key + ' button');\n",
              "      quickchartButtonEl.disabled = true;  // To prevent multiple clicks.\n",
              "      quickchartButtonEl.classList.add('colab-df-spinner');\n",
              "      try {\n",
              "        const charts = await google.colab.kernel.invokeFunction(\n",
              "            'suggestCharts', [key], {});\n",
              "      } catch (error) {\n",
              "        console.error('Error during call to suggestCharts:', error);\n",
              "      }\n",
              "      quickchartButtonEl.classList.remove('colab-df-spinner');\n",
              "      quickchartButtonEl.classList.add('colab-df-quickchart-complete');\n",
              "    }\n",
              "    (() => {\n",
              "      let quickchartButtonEl =\n",
              "        document.querySelector('#df-40926ab5-1233-4013-ac9b-b084fcf338c4 button');\n",
              "      quickchartButtonEl.style.display =\n",
              "        google.colab.kernel.accessAllowed ? 'block' : 'none';\n",
              "    })();\n",
              "  </script>\n",
              "</div>\n",
              "\n",
              "    </div>\n",
              "  </div>\n"
            ],
            "application/vnd.google.colaboratory.intrinsic+json": {
              "type": "dataframe",
              "variable_name": "df_long",
              "summary": "{\n  \"name\": \"df_long\",\n  \"rows\": 1176,\n  \"fields\": [\n    {\n      \"column\": \"name\",\n      \"properties\": {\n        \"dtype\": \"object\",\n        \"num_unique_values\": 147,\n        \"samples\": [\n          \"2019-3\",\n          \"2000-4\",\n          \"2022-4\"\n        ],\n        \"semantic_type\": \"\",\n        \"description\": \"\"\n      }\n    },\n    {\n      \"column\": \"series\",\n      \"properties\": {\n        \"dtype\": \"category\",\n        \"num_unique_values\": 8,\n        \"samples\": [\n          \"c2_dist\",\n          \"c6_dist\",\n          \"c1_dist\"\n        ],\n        \"semantic_type\": \"\",\n        \"description\": \"\"\n      }\n    },\n    {\n      \"column\": \"value\",\n      \"properties\": {\n        \"dtype\": \"number\",\n        \"std\": 969.9884202797596,\n        \"min\": 2.236067977,\n        \"max\": 2748.070232,\n        \"num_unique_values\": 1164,\n        \"samples\": [\n          2730.630879,\n          85.61541917,\n          2737.854330017624\n        ],\n        \"semantic_type\": \"\",\n        \"description\": \"\"\n      }\n    },\n    {\n      \"column\": \"year\",\n      \"properties\": {\n        \"dtype\": \"number\",\n        \"std\": 10,\n        \"min\": 1988,\n        \"max\": 2024,\n        \"num_unique_values\": 37,\n        \"samples\": [\n          2005,\n          2001,\n          1992\n        ],\n        \"semantic_type\": \"\",\n        \"description\": \"\"\n      }\n    },\n    {\n      \"column\": \"quarter\",\n      \"properties\": {\n        \"dtype\": \"number\",\n        \"std\": 1,\n        \"min\": 1,\n        \"max\": 4,\n        \"num_unique_values\": 4,\n        \"samples\": [\n          2,\n          4,\n          1\n        ],\n        \"semantic_type\": \"\",\n        \"description\": \"\"\n      }\n    }\n  ]\n}"
            }
          },
          "metadata": {},
          "execution_count": 6
        }
      ]
    },
    {
      "cell_type": "code",
      "source": [
        "print(df_long['series'].unique())"
      ],
      "metadata": {
        "colab": {
          "base_uri": "https://localhost:8080/"
        },
        "id": "vjsu1AH-UM4Q",
        "outputId": "9050961f-2fd8-41e0-ae88-0f493a975965"
      },
      "execution_count": null,
      "outputs": [
        {
          "output_type": "stream",
          "name": "stdout",
          "text": [
            "['c1_dist' 'c2_dist' 'c3_dist' 'c4_dist' 'c5_dist' 'c6_dist' 'c7_dist'\n",
            " 'c8_dist']\n"
          ]
        }
      ]
    },
    {
      "cell_type": "code",
      "source": [
        "model = Pipeline(steps=[\n",
        "    ('preprocessor', preprocessor),\n",
        "    ('regressor', Ridge(alpha=0.4))\n",
        "])\n",
        "# In ridge regression, the \"alpha\" value represents the strength of the regularization penalty applied to the model coefficients,\n",
        "# essentially controlling how much the model shrinks the coefficients towards zero,\n",
        "# with a higher alpha value indicating a stronger penalty and more shrinkage towards zero,\n",
        "# leading to a less complex model with reduced variance but potentially increased bias\n",
        "# pipleline is there so we cna preprocess before training\n",
        "model.fit(X_train, y_train)\n",
        "\n",
        "y_pred = model.predict(X_test)\n"
      ],
      "metadata": {
        "id": "xGgZuUOqAm-N"
      },
      "execution_count": null,
      "outputs": []
    },
    {
      "cell_type": "code",
      "source": [
        "mae = mean_absolute_error(y_test, y_pred)\n",
        "mse = mean_squared_error(y_test, y_pred)\n",
        "mape = mean_absolute_percentage_error(y_test, y_pred)\n",
        "rmse = np.sqrt(mse)\n",
        "\n",
        "print(f\"Mean Absolute Error (MAE): {mae}\")\n",
        "print(f\"Mean Absolute Percentage Error (MAPE): {mape}\")\n",
        "print(f\"Mean Squared Error (MSE): {mse}\")\n",
        "print(f\"Root Mean Squared Error (RMSE): {rmse}\")\n"
      ],
      "metadata": {
        "colab": {
          "base_uri": "https://localhost:8080/"
        },
        "id": "nQcv8RaGmLVy",
        "outputId": "dfd060ab-83f8-4084-a7a7-024eb33bb58f"
      },
      "execution_count": null,
      "outputs": [
        {
          "output_type": "stream",
          "name": "stdout",
          "text": [
            "Mean Absolute Error (MAE): 58.07387998283462\n",
            "Mean Absolute Percentage Error (MAPE): 0.6379730222696095\n",
            "Mean Squared Error (MSE): 5642.324952551754\n",
            "Root Mean Squared Error (RMSE): 75.1154108858612\n"
          ]
        }
      ]
    },
    {
      "cell_type": "code",
      "source": [
        "print(max(df_long['value']), min(df_long['value']))"
      ],
      "metadata": {
        "colab": {
          "base_uri": "https://localhost:8080/"
        },
        "id": "8v-67eewmaKv",
        "outputId": "173d3c17-0e5f-4292-d95d-64edc154da5f"
      },
      "execution_count": null,
      "outputs": [
        {
          "output_type": "stream",
          "name": "stdout",
          "text": [
            "2748.070232 2.236067977\n"
          ]
        }
      ]
    },
    {
      "cell_type": "code",
      "source": [
        "baseline_mae = mean_absolute_error(y_test, [y_test.mean()] * len(y_test))\n",
        "baseline_mape=mean_absolute_percentage_error(y_test, [y_test.mean()] * len(y_test))\n",
        "baseline_mse=mean_squared_error(y_test, [y_test.mean()] * len(y_test))\n",
        "baseline_rmse = np.sqrt(mean_squared_error(y_test, [y_test.mean()] * len(y_test)))\n",
        "print(f\"Baseline MAE: {baseline_mae}\\nBaseline MAPE: {baseline_mape}\\nBaseline MSE: {baseline_mse}\\nBaseline RMSE: {baseline_rmse}\")"
      ],
      "metadata": {
        "colab": {
          "base_uri": "https://localhost:8080/"
        },
        "id": "CUjuVZLAnhsy",
        "outputId": "81dd7ba2-f4af-415e-aabb-6e2c98fcfa8a"
      },
      "execution_count": null,
      "outputs": [
        {
          "output_type": "stream",
          "name": "stdout",
          "text": [
            "Baseline MAE: 875.069917044649\n",
            "Baseline MAPE: 9.548969627263297\n",
            "Baseline MSE: 919603.4243742247\n",
            "Baseline RMSE: 958.9595530439356\n"
          ]
        }
      ]
    },
    {
      "cell_type": "code",
      "source": [
        "import matplotlib.pyplot as plt\n",
        "\n",
        "residuals = y_test - y_pred\n",
        "plt.scatter(y_pred, residuals)\n",
        "plt.axhline(0, color='red', linestyle='--')\n",
        "plt.xlabel(\"Predicted Values\")\n",
        "plt.ylabel(\"Residuals\")\n",
        "plt.title(\"Residuals vs Predicted Values\")\n",
        "plt.show()"
      ],
      "metadata": {
        "colab": {
          "base_uri": "https://localhost:8080/",
          "height": 472
        },
        "id": "Bna4xrLlnv5u",
        "outputId": "a7e2856f-04ee-4248-a45c-2f7452a27805"
      },
      "execution_count": null,
      "outputs": [
        {
          "output_type": "display_data",
          "data": {
            "text/plain": [
              "<Figure size 640x480 with 1 Axes>"
            ],
            "image/png": "[encoded data removed]"
          },
          "metadata": {}
        }
      ]
    },
    {
      "cell_type": "code",
      "source": [
        "from statsmodels.stats.stattools import durbin_watson\n",
        "\n",
        "dw_stat = durbin_watson(residuals)\n",
        "print(f\"Durbin-Watson Statistic: {dw_stat}\")"
      ],
      "metadata": {
        "colab": {
          "base_uri": "https://localhost:8080/"
        },
        "id": "JoW9lq3uocYE",
        "outputId": "8535d258-bfe1-4455-9621-80251759f337"
      },
      "execution_count": null,
      "outputs": [
        {
          "output_type": "stream",
          "name": "stdout",
          "text": [
            "Durbin-Watson Statistic: 2.020924891282792\n"
          ]
        }
      ]
    },
    {
      "cell_type": "code",
      "source": [
        "X_train_encoded = model.named_steps['preprocessor'].transform(X_train)\n",
        "X_test_encoded = model.named_steps['preprocessor'].transform(X_test)\n",
        "\n",
        "X_test_dense = X_test_encoded.toarray() if hasattr(X_test_encoded, \"toarray\") else X_test_encoded\n",
        "\n",
        "# Add a constant term for the predictors\n",
        "X_test_const = sm.add_constant(X_test_dense)\n",
        "\n",
        "# Perform Breusch-Pagan test\n",
        "bp_test = het_breuschpagan(residuals, X_test_const)\n",
        "\n",
        "print(\"Breusch-Pagan test results:\", bp_test[1])\n"
      ],
      "metadata": {
        "colab": {
          "base_uri": "https://localhost:8080/"
        },
        "id": "97c-b6JkMN3U",
        "outputId": "98adfe07-ab1d-4251-aaee-beac3c419c1f"
      },
      "execution_count": null,
      "outputs": [
        {
          "output_type": "stream",
          "name": "stdout",
          "text": [
            "Breusch-Pagan test results: 0.0005947759109554335\n"
          ]
        }
      ]
    },
    {
      "cell_type": "code",
      "source": [
        "from statsmodels.stats.outliers_influence import variance_inflation_factor\n",
        "\n",
        "X_train_preprocessed = preprocessor.fit_transform(X_train)\n",
        "\n",
        "# Retrieve feature names from the preprocessor\n",
        "cat_feature_names = preprocessor.named_transformers_['cat'].get_feature_names_out(['series','quarter', 'year'])\n",
        "all_feature_names = pd.Index(cat_feature_names.tolist() )\n",
        "\n",
        "if hasattr(X_train_preprocessed, \"toarray\"):\n",
        "    X_train_preprocessed = X_train_preprocessed.toarray()\n",
        "\n",
        "# Calculate VIF\n",
        "vif_data = pd.DataFrame()\n",
        "vif_data['feature'] = all_feature_names  # Assign the actual feature names\n",
        "vif_data['VIF'] = [\n",
        "    variance_inflation_factor(X_train_preprocessed, i)\n",
        "    for i in range(X_train_preprocessed.shape[1])\n",
        "]\n",
        "\n",
        "print(vif_data)\n"
      ],
      "metadata": {
        "colab": {
          "base_uri": "https://localhost:8080/"
        },
        "id": "632Qtgj3paDM",
        "outputId": "536ed411-d8be-4c4b-cd15-fa1a2db7ac45"
      },
      "execution_count": null,
      "outputs": [
        {
          "output_type": "stream",
          "name": "stdout",
          "text": [
            "           feature       VIF\n",
            "0   series_c2_dist  1.827558\n",
            "1   series_c3_dist  1.811337\n",
            "2   series_c4_dist  1.847433\n",
            "3   series_c5_dist  1.858654\n",
            "4   series_c6_dist  1.865521\n",
            "5   series_c7_dist  1.822187\n",
            "6   series_c8_dist  1.853998\n",
            "7        quarter_2  1.946120\n",
            "8        quarter_3  1.942928\n",
            "9        quarter_4  1.965759\n",
            "10       year_1989  1.203115\n",
            "11       year_1990  1.212990\n",
            "12       year_1991  1.243254\n",
            "13       year_1992  1.215682\n",
            "14       year_1993  1.215381\n",
            "15       year_1994  1.206861\n",
            "16       year_1995  1.228241\n",
            "17       year_1996  1.209085\n",
            "18       year_1997  1.214503\n",
            "19       year_1998  1.254275\n",
            "20       year_1999  1.228602\n",
            "21       year_2000  1.194674\n",
            "22       year_2001  1.222510\n",
            "23       year_2002  1.267764\n",
            "24       year_2003  1.193375\n",
            "25       year_2004  1.214702\n",
            "26       year_2005  1.251034\n",
            "27       year_2006  1.226966\n",
            "28       year_2007  1.204933\n",
            "29       year_2008  1.194706\n",
            "30       year_2009  1.205176\n",
            "31       year_2010  1.233028\n",
            "32       year_2011  1.220652\n",
            "33       year_2012  1.221082\n",
            "34       year_2013  1.183322\n",
            "35       year_2014  1.207962\n",
            "36       year_2015  1.241860\n",
            "37       year_2016  1.206977\n",
            "38       year_2017  1.202595\n",
            "39       year_2018  1.234289\n",
            "40       year_2019  1.203546\n",
            "41       year_2020  1.206362\n",
            "42       year_2021  1.191455\n",
            "43       year_2022  1.216271\n",
            "44       year_2023  1.226776\n",
            "45       year_2024  1.219575\n"
          ]
        }
      ]
    },
    {
      "cell_type": "code",
      "source": [
        "shapiro_test = shapiro(residuals)\n",
        "print(f\"Shapiro-Wilk p-value: {shapiro_test.pvalue}\")"
      ],
      "metadata": {
        "colab": {
          "base_uri": "https://localhost:8080/"
        },
        "id": "O33iO_tMsnTj",
        "outputId": "0ecb2835-6275-40bf-9fe0-a1f489f119a9"
      },
      "execution_count": null,
      "outputs": [
        {
          "output_type": "stream",
          "name": "stdout",
          "text": [
            "Shapiro-Wilk p-value: 0.0029689855054043602\n"
          ]
        }
      ]
    },
    {
      "cell_type": "code",
      "source": [
        "joblib.dump(model, '/content/PooledReg.joblib')"
      ],
      "metadata": {
        "colab": {
          "base_uri": "https://localhost:8080/"
        },
        "id": "J95jqbhygKMK",
        "outputId": "ec7453c8-50c8-4edc-ffda-44d7827b7397"
      },
      "execution_count": null,
      "outputs": [
        {
          "output_type": "execute_result",
          "data": {
            "text/plain": [
              "['/content/PooledReg.joblib']"
            ]
          },
          "metadata": {},
          "execution_count": 43
        }
      ]
    },
    {
      "cell_type": "code",
      "source": [
        "single_obs = pd.DataFrame({\n",
        "    'series': ['c1_dist'],\n",
        "    'year': [2025],\n",
        "    'quarter': [3]\n",
        "})\n"
      ],
      "metadata": {
        "id": "J39Il8pvimQ0"
      },
      "execution_count": null,
      "outputs": []
    },
    {
      "cell_type": "code",
      "source": [
        "y_pred_single = model.predict(single_obs)\n",
        "\n",
        "print(f\"Predicted value: {y_pred_single[0]}\")\n"
      ],
      "metadata": {
        "colab": {
          "base_uri": "https://localhost:8080/"
        },
        "id": "Sr2hHsEjPbvw",
        "outputId": "9390331f-0259-4c35-b23b-750a05bc28ff"
      },
      "execution_count": null,
      "outputs": [
        {
          "output_type": "stream",
          "name": "stdout",
          "text": [
            "Predicted value: 13.034856149408597\n"
          ]
        }
      ]
    },
    {
      "cell_type": "code",
      "source": [
        "\n",
        "# Access the preprocessor and the trained Ridge model\n",
        "preprocessor = model.named_steps['preprocessor']\n",
        "regressor = model.named_steps['regressor']\n",
        "\n",
        "# Get the feature names from the preprocessor\n",
        "cat_feature_names = preprocessor.named_transformers_['cat'].get_feature_names_out(['series'])\n",
        "num_feature_names = ['year', 'quarter']\n",
        "all_feature_names = np.concatenate([cat_feature_names, num_feature_names])\n",
        "\n",
        "# Retrieve the coefficients\n",
        "coefficients = regressor.coef_\n",
        "\n",
        "# Map coefficients to feature names\n",
        "coef_df = pd.DataFrame({\n",
        "    'Feature': all_feature_names,\n",
        "    'Coefficient': coefficients\n",
        "})\n",
        "\n",
        "print(coef_df)\n"
      ],
      "metadata": {
        "colab": {
          "base_uri": "https://localhost:8080/"
        },
        "id": "32kz9XG-P4LW",
        "outputId": "98a26a35-1186-4b2f-e883-ad9ca4d8a3be"
      },
      "execution_count": null,
      "outputs": [
        {
          "output_type": "stream",
          "name": "stdout",
          "text": [
            "          Feature  Coefficient\n",
            "0  series_c2_dist    -2.832551\n",
            "1  series_c3_dist    -8.456818\n",
            "2  series_c4_dist    -5.431070\n",
            "3  series_c5_dist    13.168412\n",
            "4  series_c6_dist    18.917676\n",
            "5  series_c7_dist   157.730625\n",
            "6  series_c8_dist   172.549388\n",
            "7            year     0.050265\n",
            "8         quarter     0.131284\n"
          ]
        }
      ]
    },
    {
      "cell_type": "code",
      "source": [
        "print(f\"Intercept: {regressor.intercept_}\")"
      ],
      "metadata": {
        "colab": {
          "base_uri": "https://localhost:8080/"
        },
        "id": "ieNwo_bbQJpb",
        "outputId": "92aff549-eb53-4e0c-a3ae-c9c0d89ee0de"
      },
      "execution_count": null,
      "outputs": [
        {
          "output_type": "stream",
          "name": "stdout",
          "text": [
            "Intercept: -89.14560672683886\n"
          ]
        }
      ]
    },
    {
      "cell_type": "markdown",
      "source": [
        "# Incoroprate PCA to solve multicolinearity"
      ],
      "metadata": {
        "id": "IenDUHLYWQR1"
      }
    },
    {
      "cell_type": "code",
      "source": [
        "from sklearn.decomposition import PCA\n",
        "\n",
        "pca = PCA(n_components=1)\n",
        "df_long['time_dim'] = pca.fit_transform(df_long[['year', 'quarter']])\n",
        "df_long = df_long.drop(['year', 'quarter'], axis=1)\n"
      ],
      "metadata": {
        "id": "w-wqszl-SXpH"
      },
      "execution_count": null,
      "outputs": []
    },
    {
      "cell_type": "code",
      "source": [
        "df_long.head()"
      ],
      "metadata": {
        "colab": {
          "base_uri": "https://localhost:8080/",
          "height": 206
        },
        "id": "CmVmh44TSwLe",
        "outputId": "87462ae8-7176-40ce-8215-ec76e2345d26"
      },
      "execution_count": null,
      "outputs": [
        {
          "output_type": "execute_result",
          "data": {
            "text/plain": [
              "     name   series      value   time_dim\n",
              "0  1988-1  c1_dist  15.608011 -18.034687\n",
              "1  1988-2  c1_dist  14.828968 -18.034234\n",
              "2  1988-3  c1_dist  14.717676 -18.033781\n",
              "3  1988-4  c1_dist  15.608011 -18.033327\n",
              "4  1989-1  c1_dist  15.576630 -17.034687"
            ],
            "text/html": [
              "\n",
              "  <div id=\"df-b32da944-894a-4907-97fc-2c05624f8909\" class=\"colab-df-container\">\n",
              "    <div>\n",
              "<style scoped>\n",
              "    .dataframe tbody tr th:only-of-type {\n",
              "        vertical-align: middle;\n",
              "    }\n",
              "\n",
              "    .dataframe tbody tr th {\n",
              "        vertical-align: top;\n",
              "    }\n",
              "\n",
              "    .dataframe thead th {\n",
              "        text-align: right;\n",
              "    }\n",
              "</style>\n",
              "<table border=\"1\" class=\"dataframe\">\n",
              "  <thead>\n",
              "    <tr style=\"text-align: right;\">\n",
              "      <th></th>\n",
              "      <th>name</th>\n",
              "      <th>series</th>\n",
              "      <th>value</th>\n",
              "      <th>time_dim</th>\n",
              "    </tr>\n",
              "  </thead>\n",
              "  <tbody>\n",
              "    <tr>\n",
              "      <th>0</th>\n",
              "      <td>1988-1</td>\n",
              "      <td>c1_dist</td>\n",
              "      <td>15.608011</td>\n",
              "      <td>-18.034687</td>\n",
              "    </tr>\n",
              "    <tr>\n",
              "      <th>1</th>\n",
              "      <td>1988-2</td>\n",
              "      <td>c1_dist</td>\n",
              "      <td>14.828968</td>\n",
              "      <td>-18.034234</td>\n",
              "    </tr>\n",
              "    <tr>\n",
              "      <th>2</th>\n",
              "      <td>1988-3</td>\n",
              "      <td>c1_dist</td>\n",
              "      <td>14.717676</td>\n",
              "      <td>-18.033781</td>\n",
              "    </tr>\n",
              "    <tr>\n",
              "      <th>3</th>\n",
              "      <td>1988-4</td>\n",
              "      <td>c1_dist</td>\n",
              "      <td>15.608011</td>\n",
              "      <td>-18.033327</td>\n",
              "    </tr>\n",
              "    <tr>\n",
              "      <th>4</th>\n",
              "      <td>1989-1</td>\n",
              "      <td>c1_dist</td>\n",
              "      <td>15.576630</td>\n",
              "      <td>-17.034687</td>\n",
              "    </tr>\n",
              "  </tbody>\n",
              "</table>\n",
              "</div>\n",
              "    <div class=\"colab-df-buttons\">\n",
              "\n",
              "  <div class=\"colab-df-container\">\n",
              "    <button class=\"colab-df-convert\" onclick=\"convertToInteractive('df-b32da944-894a-4907-97fc-2c05624f8909')\"\n",
              "            title=\"Convert this dataframe to an interactive table.\"\n",
              "            style=\"display:none;\">\n",
              "\n",
              "  <svg xmlns=\"http://www.w3.org/2000/svg\" height=\"24px\" viewBox=\"0 -960 960 960\">\n",
              "    <path d=\"M120-120v-720h720v720H120Zm60-500h600v-160H180v160Zm220 220h160v-160H400v160Zm0 220h160v-160H400v160ZM180-400h160v-160H180v160Zm440 0h160v-160H620v160ZM180-180h160v-160H180v160Zm440 0h160v-160H620v160Z\"/>\n",
              "  </svg>\n",
              "    </button>\n",
              "\n",
              "  <style>\n",
              "    .colab-df-container {\n",
              "      display:flex;\n",
              "      gap: 12px;\n",
              "    }\n",
              "\n",
              "    .colab-df-convert {\n",
              "      background-color: #E8F0FE;\n",
              "      border: none;\n",
              "      border-radius: 50%;\n",
              "      cursor: pointer;\n",
              "      display: none;\n",
              "      fill: #1967D2;\n",
              "      height: 32px;\n",
              "      padding: 0 0 0 0;\n",
              "      width: 32px;\n",
              "    }\n",
              "\n",
              "    .colab-df-convert:hover {\n",
              "      background-color: #E2EBFA;\n",
              "      box-shadow: 0px 1px 2px rgba(60, 64, 67, 0.3), 0px 1px 3px 1px rgba(60, 64, 67, 0.15);\n",
              "      fill: #174EA6;\n",
              "    }\n",
              "\n",
              "    .colab-df-buttons div {\n",
              "      margin-bottom: 4px;\n",
              "    }\n",
              "\n",
              "    [theme=dark] .colab-df-convert {\n",
              "      background-color: #3B4455;\n",
              "      fill: #D2E3FC;\n",
              "    }\n",
              "\n",
              "    [theme=dark] .colab-df-convert:hover {\n",
              "      background-color: #434B5C;\n",
              "      box-shadow: 0px 1px 3px 1px rgba(0, 0, 0, 0.15);\n",
              "      filter: drop-shadow(0px 1px 2px rgba(0, 0, 0, 0.3));\n",
              "      fill: #FFFFFF;\n",
              "    }\n",
              "  </style>\n",
              "\n",
              "    <script>\n",
              "      const buttonEl =\n",
              "        document.querySelector('#df-b32da944-894a-4907-97fc-2c05624f8909 button.colab-df-convert');\n",
              "      buttonEl.style.display =\n",
              "        google.colab.kernel.accessAllowed ? 'block' : 'none';\n",
              "\n",
              "      async function convertToInteractive(key) {\n",
              "        const element = document.querySelector('#df-b32da944-894a-4907-97fc-2c05624f8909');\n",
              "        const dataTable =\n",
              "          await google.colab.kernel.invokeFunction('convertToInteractive',\n",
              "                                                    [key], {});\n",
              "        if (!dataTable) return;\n",
              "\n",
              "        const docLinkHtml = 'Like what you see? Visit the ' +\n",
              "          '<a target=\"_blank\" href=https://colab.research.google.com/notebooks/data_table.ipynb>data table notebook</a>'\n",
              "          + ' to learn more about interactive tables.';\n",
              "        element.innerHTML = '';\n",
              "        dataTable['output_type'] = 'display_data';\n",
              "        await google.colab.output.renderOutput(dataTable, element);\n",
              "        const docLink = document.createElement('div');\n",
              "        docLink.innerHTML = docLinkHtml;\n",
              "        element.appendChild(docLink);\n",
              "      }\n",
              "    </script>\n",
              "  </div>\n",
              "\n",
              "\n",
              "<div id=\"df-b46e3b3e-0ca0-4c30-bf7c-db67693332ca\">\n",
              "  <button class=\"colab-df-quickchart\" onclick=\"quickchart('df-b46e3b3e-0ca0-4c30-bf7c-db67693332ca')\"\n",
              "            title=\"Suggest charts\"\n",
              "            style=\"display:none;\">\n",
              "\n",
              "<svg xmlns=\"http://www.w3.org/2000/svg\" height=\"24px\"viewBox=\"0 0 24 24\"\n",
              "     width=\"24px\">\n",
              "    <g>\n",
              "        <path d=\"M19 3H5c-1.1 0-2 .9-2 2v14c0 1.1.9 2 2 2h14c1.1 0 2-.9 2-2V5c0-1.1-.9-2-2-2zM9 17H7v-7h2v7zm4 0h-2V7h2v10zm4 0h-2v-4h2v4z\"/>\n",
              "    </g>\n",
              "</svg>\n",
              "  </button>\n",
              "\n",
              "<style>\n",
              "  .colab-df-quickchart {\n",
              "      --bg-color: #E8F0FE;\n",
              "      --fill-color: #1967D2;\n",
              "      --hover-bg-color: #E2EBFA;\n",
              "      --hover-fill-color: #174EA6;\n",
              "      --disabled-fill-color: #AAA;\n",
              "      --disabled-bg-color: #DDD;\n",
              "  }\n",
              "\n",
              "  [theme=dark] .colab-df-quickchart {\n",
              "      --bg-color: #3B4455;\n",
              "      --fill-color: #D2E3FC;\n",
              "      --hover-bg-color: #434B5C;\n",
              "      --hover-fill-color: #FFFFFF;\n",
              "      --disabled-bg-color: #3B4455;\n",
              "      --disabled-fill-color: #666;\n",
              "  }\n",
              "\n",
              "  .colab-df-quickchart {\n",
              "    background-color: var(--bg-color);\n",
              "    border: none;\n",
              "    border-radius: 50%;\n",
              "    cursor: pointer;\n",
              "    display: none;\n",
              "    fill: var(--fill-color);\n",
              "    height: 32px;\n",
              "    padding: 0;\n",
              "    width: 32px;\n",
              "  }\n",
              "\n",
              "  .colab-df-quickchart:hover {\n",
              "    background-color: var(--hover-bg-color);\n",
              "    box-shadow: 0 1px 2px rgba(60, 64, 67, 0.3), 0 1px 3px 1px rgba(60, 64, 67, 0.15);\n",
              "    fill: var(--button-hover-fill-color);\n",
              "  }\n",
              "\n",
              "  .colab-df-quickchart-complete:disabled,\n",
              "  .colab-df-quickchart-complete:disabled:hover {\n",
              "    background-color: var(--disabled-bg-color);\n",
              "    fill: var(--disabled-fill-color);\n",
              "    box-shadow: none;\n",
              "  }\n",
              "\n",
              "  .colab-df-spinner {\n",
              "    border: 2px solid var(--fill-color);\n",
              "    border-color: transparent;\n",
              "    border-bottom-color: var(--fill-color);\n",
              "    animation:\n",
              "      spin 1s steps(1) infinite;\n",
              "  }\n",
              "\n",
              "  @keyframes spin {\n",
              "    0% {\n",
              "      border-color: transparent;\n",
              "      border-bottom-color: var(--fill-color);\n",
              "      border-left-color: var(--fill-color);\n",
              "    }\n",
              "    20% {\n",
              "      border-color: transparent;\n",
              "      border-left-color: var(--fill-color);\n",
              "      border-top-color: var(--fill-color);\n",
              "    }\n",
              "    30% {\n",
              "      border-color: transparent;\n",
              "      border-left-color: var(--fill-color);\n",
              "      border-top-color: var(--fill-color);\n",
              "      border-right-color: var(--fill-color);\n",
              "    }\n",
              "    40% {\n",
              "      border-color: transparent;\n",
              "      border-right-color: var(--fill-color);\n",
              "      border-top-color: var(--fill-color);\n",
              "    }\n",
              "    60% {\n",
              "      border-color: transparent;\n",
              "      border-right-color: var(--fill-color);\n",
              "    }\n",
              "    80% {\n",
              "      border-color: transparent;\n",
              "      border-right-color: var(--fill-color);\n",
              "      border-bottom-color: var(--fill-color);\n",
              "    }\n",
              "    90% {\n",
              "      border-color: transparent;\n",
              "      border-bottom-color: var(--fill-color);\n",
              "    }\n",
              "  }\n",
              "</style>\n",
              "\n",
              "  <script>\n",
              "    async function quickchart(key) {\n",
              "      const quickchartButtonEl =\n",
              "        document.querySelector('#' + key + ' button');\n",
              "      quickchartButtonEl.disabled = true;  // To prevent multiple clicks.\n",
              "      quickchartButtonEl.classList.add('colab-df-spinner');\n",
              "      try {\n",
              "        const charts = await google.colab.kernel.invokeFunction(\n",
              "            'suggestCharts', [key], {});\n",
              "      } catch (error) {\n",
              "        console.error('Error during call to suggestCharts:', error);\n",
              "      }\n",
              "      quickchartButtonEl.classList.remove('colab-df-spinner');\n",
              "      quickchartButtonEl.classList.add('colab-df-quickchart-complete');\n",
              "    }\n",
              "    (() => {\n",
              "      let quickchartButtonEl =\n",
              "        document.querySelector('#df-b46e3b3e-0ca0-4c30-bf7c-db67693332ca button');\n",
              "      quickchartButtonEl.style.display =\n",
              "        google.colab.kernel.accessAllowed ? 'block' : 'none';\n",
              "    })();\n",
              "  </script>\n",
              "</div>\n",
              "\n",
              "    </div>\n",
              "  </div>\n"
            ],
            "application/vnd.google.colaboratory.intrinsic+json": {
              "type": "dataframe",
              "variable_name": "df_long",
              "summary": "{\n  \"name\": \"df_long\",\n  \"rows\": 1176,\n  \"fields\": [\n    {\n      \"column\": \"name\",\n      \"properties\": {\n        \"dtype\": \"object\",\n        \"num_unique_values\": 147,\n        \"samples\": [\n          \"2019-3\",\n          \"2000-4\",\n          \"2022-4\"\n        ],\n        \"semantic_type\": \"\",\n        \"description\": \"\"\n      }\n    },\n    {\n      \"column\": \"series\",\n      \"properties\": {\n        \"dtype\": \"category\",\n        \"num_unique_values\": 8,\n        \"samples\": [\n          \"c2_dist\",\n          \"c6_dist\",\n          \"c1_dist\"\n        ],\n        \"semantic_type\": \"\",\n        \"description\": \"\"\n      }\n    },\n    {\n      \"column\": \"value\",\n      \"properties\": {\n        \"dtype\": \"number\",\n        \"std\": 71.98020284926965,\n        \"min\": 0.0,\n        \"max\": 200.6757584,\n        \"num_unique_values\": 976,\n        \"samples\": [\n          8.971838122,\n          27.90111428,\n          9.236273959\n        ],\n        \"semantic_type\": \"\",\n        \"description\": \"\"\n      }\n    },\n    {\n      \"column\": \"time_dim\",\n      \"properties\": {\n        \"dtype\": \"number\",\n        \"std\": 10.709894682462732,\n        \"min\": -18.03468682670973,\n        \"max\": 17.966668870381227,\n        \"num_unique_values\": 147,\n        \"samples\": [\n          12.966216252703816,\n          -6.033328665686213,\n          15.966669075708978\n        ],\n        \"semantic_type\": \"\",\n        \"description\": \"\"\n      }\n    }\n  ]\n}"
            }
          },
          "metadata": {},
          "execution_count": 9
        }
      ]
    },
    {
      "cell_type": "code",
      "source": [
        "X = df_long[['series', 'time_dim']]\n",
        "y = df_long['value']\n",
        "\n",
        "X_train, X_test, y_train, y_test = train_test_split(X, y, test_size=0.2, random_state=42)\n",
        "\n",
        "# prepare features\n",
        "# encode series but others can ignored - drop one encoded colum to get rid of multicolinearity\n",
        "preprocessor = ColumnTransformer(\n",
        "    transformers=[\n",
        "        ('cat', OneHotEncoder(drop='first'), ['series'])\n",
        "    ],\n",
        "    remainder='passthrough'\n",
        ")\n"
      ],
      "metadata": {
        "id": "-i_VNkLHS-dR"
      },
      "execution_count": null,
      "outputs": []
    },
    {
      "cell_type": "code",
      "source": [
        "model2 = Pipeline(steps=[\n",
        "    ('preprocessor', preprocessor),\n",
        "    ('regressor', Ridge(alpha=0.4))\n",
        "])\n",
        "# In ridge regression, the \"alpha\" value represents the strength of the regularization penalty applied to the model coefficients,\n",
        "# essentially controlling how much the model shrinks the coefficients towards zero,\n",
        "# with a higher alpha value indicating a stronger penalty and more shrinkage towards zero,\n",
        "# leading to a less complex model with reduced variance but potentially increased bias\n",
        "# pipleline is there so we cna preprocess before training\n",
        "model2.fit(X_train, y_train)\n",
        "\n",
        "y_pred = model2.predict(X_test)\n"
      ],
      "metadata": {
        "id": "Sd7GVOh9TTE6"
      },
      "execution_count": null,
      "outputs": []
    },
    {
      "cell_type": "code",
      "source": [
        "mae = mean_absolute_error(y_test, y_pred)\n",
        "mse = mean_squared_error(y_test, y_pred)\n",
        "rmse = np.sqrt(mse)\n",
        "\n",
        "print(f\"Mean Absolute Error (MAE): {mae}\")\n",
        "print(f\"Mean Squared Error (MSE): {mse}\")\n",
        "print(f\"Root Mean Squared Error (RMSE): {rmse}\")\n"
      ],
      "metadata": {
        "colab": {
          "base_uri": "https://localhost:8080/"
        },
        "id": "4cUE3PX8Td4B",
        "outputId": "0d666197-fc5e-4820-a8a8-aa8969f1631b"
      },
      "execution_count": null,
      "outputs": [
        {
          "output_type": "stream",
          "name": "stdout",
          "text": [
            "Mean Absolute Error (MAE): 4.2785193246318824\n",
            "Mean Squared Error (MSE): 45.69902459179466\n",
            "Root Mean Squared Error (RMSE): 6.760105368394391\n"
          ]
        }
      ]
    },
    {
      "cell_type": "code",
      "source": [
        "import matplotlib.pyplot as plt\n",
        "\n",
        "residuals = y_test - y_pred\n",
        "plt.scatter(y_pred, residuals)\n",
        "plt.axhline(0, color='red', linestyle='--')\n",
        "plt.xlabel(\"Predicted Values\")\n",
        "plt.ylabel(\"Residuals\")\n",
        "plt.title(\"Residuals vs Predicted Values\")\n",
        "plt.show()"
      ],
      "metadata": {
        "colab": {
          "base_uri": "https://localhost:8080/",
          "height": 472
        },
        "id": "u0XnOvpLTnpM",
        "outputId": "1be00f0f-c459-4539-8d00-b997a8cac1f2"
      },
      "execution_count": null,
      "outputs": [
        {
          "output_type": "display_data",
          "data": {
            "text/plain": [
              "<Figure size 640x480 with 1 Axes>"
            ],
            "image/png": "[encoded data removed]"
          },
          "metadata": {}
        }
      ]
    },
    {
      "cell_type": "code",
      "source": [
        "from statsmodels.stats.outliers_influence import variance_inflation_factor\n",
        "\n",
        "# Preprocess the training data and convert to dense array\n",
        "X_train_preprocessed = preprocessor.fit_transform(X_train)\n",
        "if hasattr(X_train_preprocessed, \"toarray\"):  # Check if it's sparse\n",
        "    X_train_preprocessed = X_train_preprocessed.toarray()\n",
        "\n",
        "# Retrieve feature names\n",
        "cat_feature_names = preprocessor.named_transformers_['cat'].get_feature_names_out(['series'])\n",
        "num_feature_names = ['time_dim']\n",
        "all_feature_names = pd.Index(cat_feature_names.tolist() + num_feature_names)\n",
        "\n",
        "# Calculate VIF\n",
        "vif_data = pd.DataFrame()\n",
        "vif_data['feature'] = all_feature_names  # Assign feature names\n",
        "vif_data['VIF'] = [\n",
        "    variance_inflation_factor(X_train_preprocessed, i)\n",
        "    for i in range(X_train_preprocessed.shape[1])\n",
        "]\n",
        "\n",
        "print(vif_data)\n"
      ],
      "metadata": {
        "colab": {
          "base_uri": "https://localhost:8080/"
        },
        "id": "82XfsJ3YT0Wc",
        "outputId": "fa587298-76d2-4155-94bd-05aec2ae3341"
      },
      "execution_count": null,
      "outputs": [
        {
          "output_type": "stream",
          "name": "stdout",
          "text": [
            "          feature       VIF\n",
            "0  series_c2_dist  1.000087\n",
            "1  series_c3_dist  1.000104\n",
            "2  series_c4_dist  1.000790\n",
            "3  series_c5_dist  1.000000\n",
            "4  series_c6_dist  1.000260\n",
            "5  series_c7_dist  1.000025\n",
            "6  series_c8_dist  1.000091\n",
            "7        time_dim  1.001357\n"
          ]
        }
      ]
    },
    {
      "cell_type": "code",
      "source": [
        "shapiro_test = shapiro(residuals)\n",
        "print(f\"Shapiro-Wilk p-value: {shapiro_test.pvalue}\")"
      ],
      "metadata": {
        "colab": {
          "base_uri": "https://localhost:8080/"
        },
        "id": "XmogagZCUxSl",
        "outputId": "cd472a66-af8e-4b6b-d2eb-633b78c985e2"
      },
      "execution_count": null,
      "outputs": [
        {
          "output_type": "stream",
          "name": "stdout",
          "text": [
            "Shapiro-Wilk p-value: 1.5200061624589985e-18\n"
          ]
        }
      ]
    },
    {
      "cell_type": "code",
      "source": [
        "if hasattr(X_test_encoded, \"toarray\"):\n",
        "    X_test_encoded = X_test_encoded.toarray()\n",
        "\n",
        "# Add a constant term for the predictors\n",
        "X_test_const = sm.add_constant(X_test_encoded)\n",
        "\n",
        "# Perform Breusch-Pagan test\n",
        "bp_test = het_breuschpagan(residuals, X_test_const)\n",
        "print(f\"Breusch-Pagan p-value: {bp_test[1]}\")"
      ],
      "metadata": {
        "colab": {
          "base_uri": "https://localhost:8080/"
        },
        "id": "7aehUOdpVFay",
        "outputId": "837fc813-c667-44ea-8a08-6f0a9ac2b023"
      },
      "execution_count": null,
      "outputs": [
        {
          "output_type": "stream",
          "name": "stdout",
          "text": [
            "Breusch-Pagan p-value: 5.236557312248925e-06\n"
          ]
        }
      ]
    },
    {
      "cell_type": "code",
      "source": [
        "from statsmodels.stats.stattools import durbin_watson\n",
        "\n",
        "dw_stat = durbin_watson(residuals)\n",
        "print(f\"Durbin-Watson Statistic: {dw_stat}\")"
      ],
      "metadata": {
        "colab": {
          "base_uri": "https://localhost:8080/"
        },
        "id": "StevcVWQVdYO",
        "outputId": "604a5a44-946b-4695-ca21-0344aa20e511"
      },
      "execution_count": null,
      "outputs": [
        {
          "output_type": "stream",
          "name": "stdout",
          "text": [
            "Durbin-Watson Statistic: 1.941722067407202\n"
          ]
        }
      ]
    },
    {
      "cell_type": "code",
      "source": [
        "\n",
        "# Access the preprocessor and the trained Ridge model2\n",
        "preprocessor = model2.named_steps['preprocessor']\n",
        "regressor = model2.named_steps['regressor']\n",
        "\n",
        "# Get the feature names from the preprocessor\n",
        "cat_feature_names = preprocessor.named_transformers_['cat'].get_feature_names_out(['series'])\n",
        "num_feature_names = ['time_dim']\n",
        "all_feature_names = np.concatenate([cat_feature_names, num_feature_names])\n",
        "\n",
        "# Retrieve the coefficients\n",
        "coefficients = regressor.coef_\n",
        "\n",
        "# Map coefficients to feature names\n",
        "coef_df = pd.DataFrame({\n",
        "    'Feature': all_feature_names,\n",
        "    'Coefficient': coefficients\n",
        "})\n",
        "\n",
        "print(coef_df)\n"
      ],
      "metadata": {
        "colab": {
          "base_uri": "https://localhost:8080/"
        },
        "id": "-fIujSgyVtbt",
        "outputId": "b29f5f0f-c4e3-41bc-d84b-b6e115900333"
      },
      "execution_count": null,
      "outputs": [
        {
          "output_type": "stream",
          "name": "stdout",
          "text": [
            "          Feature  Coefficient\n",
            "0  series_c2_dist    -1.169097\n",
            "1  series_c3_dist    -6.816336\n",
            "2  series_c4_dist    -3.779533\n",
            "3  series_c5_dist    14.916370\n",
            "4  series_c6_dist    20.687408\n",
            "5  series_c7_dist   160.244623\n",
            "6  series_c8_dist   175.101649\n",
            "7        time_dim     0.046536\n"
          ]
        }
      ]
    },
    {
      "cell_type": "code",
      "source": [
        "joblib.dump(model2, '/content/PooleRegressionwPCA.joblib')"
      ],
      "metadata": {
        "colab": {
          "base_uri": "https://localhost:8080/"
        },
        "id": "t3IL98q8Z2wj",
        "outputId": "4907d454-a986-48ce-c71d-db5db7d1c1cc"
      },
      "execution_count": null,
      "outputs": [
        {
          "output_type": "execute_result",
          "data": {
            "text/plain": [
              "['/content/PooleRegressionwPCA.joblib']"
            ]
          },
          "metadata": {},
          "execution_count": 58
        }
      ]
    },
    {
      "cell_type": "markdown",
      "source": [
        "# Reducing effect of the scale of the data\n",
        "\n",
        "---\n",
        "This helps numerical stability and can converge optimaization faster but the  relative relationships between predictors and their contributions remain consistent. You need to transform the coefficients back to the original scale to interpret them on the original scale.\n"
      ],
      "metadata": {
        "id": "YFIXfOknWZy7"
      }
    },
    {
      "cell_type": "code",
      "source": [
        "from sklearn.preprocessing import StandardScaler\n",
        "from sklearn.compose import TransformedTargetRegressor\n",
        "\n",
        "df_new = pd.DataFrame({\n",
        "    'name': df['name'],\n",
        "    'c1_dist': df['c1_dist'],\n",
        "    'c3_dist': df['c3_dist'],\n",
        "    'c4_dist': df['c4_dist'],\n",
        "    'c6_dist': df['c6_dist'],\n",
        "    'c8_dist': df['c8_dist']\n",
        "})\n",
        "df_long = df_new.melt(id_vars='name', var_name='series', value_name='value')\n",
        "\n",
        "df_long['year'] = df_long['name'].str.split('-').str[0].astype(int)\n",
        "df_long['quarter'] = df_long['name'].str.split('-').str[1].astype(int)\n",
        "# turn years and quarteres into int\n",
        "\n",
        "X = df_long[['series', 'year', 'quarter']]\n",
        "y = df_long['value']\n",
        "\n",
        "X_train, X_test, y_train, y_test = train_test_split(X, y, test_size=0.2, random_state=42)\n",
        "\n",
        "preprocessor = ColumnTransformer(\n",
        "    transformers=[\n",
        "        ('cat', OneHotEncoder(drop='first'), ['series'])\n",
        "    ],\n",
        "    remainder='passthrough'\n",
        ")\n",
        "\n",
        "model3 = TransformedTargetRegressor(\n",
        "    regressor=Pipeline(steps=[\n",
        "        ('preprocessor', preprocessor),\n",
        "        ('regressor', Ridge())\n",
        "    ]),\n",
        "    transformer=StandardScaler()  # Scale y\n",
        ")\n"
      ],
      "metadata": {
        "id": "ekj9FYBpWCPj"
      },
      "execution_count": null,
      "outputs": []
    },
    {
      "cell_type": "code",
      "source": [
        "model3.fit(X_train, y_train)\n",
        "\n",
        "y_pred = model3.predict(X_test)"
      ],
      "metadata": {
        "id": "4AlbGGfPXPy3"
      },
      "execution_count": null,
      "outputs": []
    },
    {
      "cell_type": "code",
      "source": [
        "mae = mean_absolute_error(y_test, y_pred)\n",
        "mse = mean_squared_error(y_test, y_pred)\n",
        "rmse = np.sqrt(mse)\n",
        "\n",
        "print(f\"Mean Absolute Error (MAE): {mae}\")\n",
        "print(f\"Mean Squared Error (MSE): {mse}\")\n",
        "print(f\"Root Mean Squared Error (RMSE): {rmse}\")\n"
      ],
      "metadata": {
        "colab": {
          "base_uri": "https://localhost:8080/"
        },
        "id": "IwaiR5QiXnI4",
        "outputId": "11152dc4-66a4-4965-9f94-023b487388b0"
      },
      "execution_count": null,
      "outputs": [
        {
          "output_type": "stream",
          "name": "stdout",
          "text": [
            "Mean Absolute Error (MAE): 4.40459499175373\n",
            "Mean Squared Error (MSE): 45.17279883569412\n",
            "Root Mean Squared Error (RMSE): 6.72107125655532\n"
          ]
        }
      ]
    },
    {
      "cell_type": "code",
      "source": [
        "\n",
        "# Access the trained pipeline from TransformedTargetRegressor\n",
        "pipeline = model3.regressor_\n",
        "\n",
        "# Access the Ridge regressor within the pipeline\n",
        "ridge_model = pipeline.named_steps['regressor']\n",
        "\n",
        "# Retrieve the coefficients\n",
        "coefficients = ridge_model.coef_\n",
        "\n",
        "# Retrieve feature names from the preprocessor\n",
        "preprocessor_fitted = pipeline.named_steps['preprocessor']\n",
        "cat_feature_names = preprocessor_fitted.named_transformers_['cat'].get_feature_names_out(['series'])\n",
        "feature_names = list(cat_feature_names) + ['year', 'quarter']  # Add the passthrough feature\n",
        "\n",
        "# Combine feature names with coefficients\n",
        "coeff_df = pd.DataFrame({\n",
        "    'Feature': feature_names,\n",
        "    'Coefficient': coefficients\n",
        "})\n",
        "\n",
        "print(coeff_df)\n"
      ],
      "metadata": {
        "colab": {
          "base_uri": "https://localhost:8080/"
        },
        "id": "l1tVTVk1X-Bl",
        "outputId": "3734772d-62d4-4f6e-cec7-788c2a41d64f"
      },
      "execution_count": null,
      "outputs": [
        {
          "output_type": "stream",
          "name": "stdout",
          "text": [
            "          Feature  Coefficient\n",
            "0  series_c3_dist    -0.099720\n",
            "1  series_c4_dist    -0.065886\n",
            "2  series_c6_dist     0.294589\n",
            "3  series_c8_dist     2.495843\n",
            "4            year     0.000046\n",
            "5         quarter    -0.000286\n"
          ]
        }
      ]
    },
    {
      "cell_type": "code",
      "source": [
        "residuals = y_test - y_pred\n",
        "plt.scatter(y_pred, residuals)\n",
        "plt.axhline(0, color='red', linestyle='--')\n",
        "plt.xlabel(\"Predicted Values\")\n",
        "plt.ylabel(\"Residuals\")\n",
        "plt.title(\"Residuals vs Predicted Values\")\n",
        "plt.show()"
      ],
      "metadata": {
        "colab": {
          "base_uri": "https://localhost:8080/",
          "height": 472
        },
        "id": "vAqtni8BryIs",
        "outputId": "da33a243-ba82-4362-f20b-97250bbf31bc"
      },
      "execution_count": null,
      "outputs": [
        {
          "output_type": "display_data",
          "data": {
            "text/plain": [
              "<Figure size 640x480 with 1 Axes>"
            ],
            "image/png": "[encoded data removed]"
          },
          "metadata": {}
        }
      ]
    },
    {
      "cell_type": "code",
      "source": [
        "X_train_preprocessed = preprocessor.fit_transform(X_train)\n",
        "if hasattr(X_train_preprocessed, \"toarray\"):  # Check if it's sparse\n",
        "    X_train_preprocessed = X_train_preprocessed.toarray()\n",
        "\n",
        "# Retrieve feature names\n",
        "cat_feature_names = preprocessor.named_transformers_['cat'].get_feature_names_out(['series'])\n",
        "num_feature_names = ['year', 'quarter']\n",
        "all_feature_names = pd.Index(cat_feature_names.tolist() + num_feature_names)\n",
        "\n",
        "# Calculate VIF\n",
        "vif_data = pd.DataFrame()\n",
        "vif_data['feature'] = all_feature_names  # Assign feature names\n",
        "vif_data['VIF'] = [\n",
        "    variance_inflation_factor(X_train_preprocessed, i)\n",
        "    for i in range(X_train_preprocessed.shape[1])\n",
        "]\n",
        "\n",
        "print(vif_data)"
      ],
      "metadata": {
        "colab": {
          "base_uri": "https://localhost:8080/"
        },
        "id": "oVBwyTNjr8D4",
        "outputId": "d370ff1e-0a24-4fe8-d9b9-0bce6918a147"
      },
      "execution_count": null,
      "outputs": [
        {
          "output_type": "stream",
          "name": "stdout",
          "text": [
            "          feature       VIF\n",
            "0  series_c3_dist  2.036026\n",
            "1  series_c4_dist  2.017890\n",
            "2  series_c6_dist  2.097255\n",
            "3  series_c8_dist  2.008407\n",
            "4            year  8.990920\n",
            "5         quarter  4.962469\n"
          ]
        }
      ]
    },
    {
      "cell_type": "code",
      "source": [
        "shapiro_test = shapiro(residuals)\n",
        "print(f\"Shapiro-Wilk p-value: {shapiro_test.pvalue}\")"
      ],
      "metadata": {
        "colab": {
          "base_uri": "https://localhost:8080/"
        },
        "id": "sx0Na_dzsK05",
        "outputId": "b94441b4-fdb1-438e-843b-0de8935a1983"
      },
      "execution_count": null,
      "outputs": [
        {
          "output_type": "stream",
          "name": "stdout",
          "text": [
            "Shapiro-Wilk p-value: 8.38695139754749e-14\n"
          ]
        }
      ]
    }
  ]
}